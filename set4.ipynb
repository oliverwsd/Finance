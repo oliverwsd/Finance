{
  "nbformat": 4,
  "nbformat_minor": 0,
  "metadata": {
    "colab": {
      "name": "set4.ipynb",
      "provenance": [],
      "collapsed_sections": [],
      "include_colab_link": true
    },
    "kernelspec": {
      "name": "python3",
      "display_name": "Python 3"
    }
  },
  "cells": [
    {
      "cell_type": "markdown",
      "metadata": {
        "id": "view-in-github",
        "colab_type": "text"
      },
      "source": [
        "<a href=\"https://colab.research.google.com/github/oliverwsd/finance/blob/master/set4.ipynb\" target=\"_parent\"><img src=\"https://colab.research.google.com/assets/colab-badge.svg\" alt=\"Open In Colab\"/></a>"
      ]
    },
    {
      "cell_type": "code",
      "metadata": {
        "id": "ASh2XpeSfpNL",
        "colab_type": "code",
        "colab": {}
      },
      "source": [
        "import numpy as np\n",
        "import pandas as pd\n",
        "import statsmodels.api as sm\n",
        "import matplotlib.pyplot as plt"
      ],
      "execution_count": 0,
      "outputs": []
    },
    {
      "cell_type": "code",
      "metadata": {
        "id": "b3yWFRMmlA3j",
        "colab_type": "code",
        "colab": {
          "base_uri": "https://localhost:8080/",
          "height": 56
        },
        "outputId": "cf0b4126-a170-4353-d77d-7501f5e58378"
      },
      "source": [
        "'''\n",
        "import os\n",
        "from google.colab import drive\n",
        "drive.mount('/content/drive')\n",
        "\n",
        "path = \"/content/drive/My Drive/data\"\n",
        "\n",
        "os.chdir(path)#将当前目录指定到了云盘data文件夹\n",
        "#os.listdir(path)\n",
        "pd.read_csv('monthly_factors.csv')\n",
        "'''"
      ],
      "execution_count": 2,
      "outputs": [
        {
          "output_type": "execute_result",
          "data": {
            "text/plain": [
              "'\\nimport os\\nfrom google.colab import drive\\ndrive.mount(\\'/content/drive\\')\\n\\npath = \"/content/drive/My Drive/data\"\\n\\nos.chdir(path)#将当前目录指定到了云盘data文件夹\\n#os.listdir(path)\\npd.read_csv(\\'monthly_factors.csv\\')\\n'"
            ]
          },
          "metadata": {
            "tags": []
          },
          "execution_count": 2
        }
      ]
    },
    {
      "cell_type": "code",
      "metadata": {
        "id": "MrURMaLxXvGy",
        "colab_type": "code",
        "colab": {
          "base_uri": "https://localhost:8080/",
          "height": 206
        },
        "outputId": "7e5089a0-8ce9-48b6-bf6b-df51fe9c5c76"
      },
      "source": [
        "from io import StringIO\n",
        "import csv\n",
        "\n",
        "\n",
        "url = 'https://raw.githubusercontent.com/oliverwsd/finance/master/monthly_factors.csv'\n",
        "factors = pd.read_csv(url)\n",
        "factors.head()"
      ],
      "execution_count": 3,
      "outputs": [
        {
          "output_type": "execute_result",
          "data": {
            "text/html": [
              "<div>\n",
              "<style scoped>\n",
              "    .dataframe tbody tr th:only-of-type {\n",
              "        vertical-align: middle;\n",
              "    }\n",
              "\n",
              "    .dataframe tbody tr th {\n",
              "        vertical-align: top;\n",
              "    }\n",
              "\n",
              "    .dataframe thead th {\n",
              "        text-align: right;\n",
              "    }\n",
              "</style>\n",
              "<table border=\"1\" class=\"dataframe\">\n",
              "  <thead>\n",
              "    <tr style=\"text-align: right;\">\n",
              "      <th></th>\n",
              "      <th>date</th>\n",
              "      <th>rm</th>\n",
              "      <th>rf</th>\n",
              "      <th>SMB</th>\n",
              "      <th>HML</th>\n",
              "      <th>WML</th>\n",
              "    </tr>\n",
              "  </thead>\n",
              "  <tbody>\n",
              "    <tr>\n",
              "      <th>0</th>\n",
              "      <td>196207</td>\n",
              "      <td>-5.53</td>\n",
              "      <td>0.25</td>\n",
              "      <td>-0.29</td>\n",
              "      <td>-1.05</td>\n",
              "      <td>2.38</td>\n",
              "    </tr>\n",
              "    <tr>\n",
              "      <th>1</th>\n",
              "      <td>196208</td>\n",
              "      <td>6.11</td>\n",
              "      <td>0.25</td>\n",
              "      <td>-5.50</td>\n",
              "      <td>-1.63</td>\n",
              "      <td>0.80</td>\n",
              "    </tr>\n",
              "    <tr>\n",
              "      <th>2</th>\n",
              "      <td>196209</td>\n",
              "      <td>-6.32</td>\n",
              "      <td>0.26</td>\n",
              "      <td>2.26</td>\n",
              "      <td>0.14</td>\n",
              "      <td>1.94</td>\n",
              "    </tr>\n",
              "    <tr>\n",
              "      <th>3</th>\n",
              "      <td>196210</td>\n",
              "      <td>-2.03</td>\n",
              "      <td>0.24</td>\n",
              "      <td>-3.12</td>\n",
              "      <td>1.13</td>\n",
              "      <td>1.14</td>\n",
              "    </tr>\n",
              "    <tr>\n",
              "      <th>4</th>\n",
              "      <td>196211</td>\n",
              "      <td>19.29</td>\n",
              "      <td>0.24</td>\n",
              "      <td>-0.87</td>\n",
              "      <td>-9.73</td>\n",
              "      <td>-10.36</td>\n",
              "    </tr>\n",
              "  </tbody>\n",
              "</table>\n",
              "</div>"
            ],
            "text/plain": [
              "     date     rm    rf   SMB   HML    WML\n",
              "0  196207  -5.53  0.25 -0.29 -1.05   2.38\n",
              "1  196208   6.11  0.25 -5.50 -1.63   0.80\n",
              "2  196209  -6.32  0.26  2.26  0.14   1.94\n",
              "3  196210  -2.03  0.24 -3.12  1.13   1.14\n",
              "4  196211  19.29  0.24 -0.87 -9.73 -10.36"
            ]
          },
          "metadata": {
            "tags": []
          },
          "execution_count": 3
        }
      ]
    },
    {
      "cell_type": "code",
      "metadata": {
        "id": "QL4P8TcBl1VG",
        "colab_type": "code",
        "colab": {
          "base_uri": "https://localhost:8080/",
          "height": 206
        },
        "outputId": "f4c5799b-b79a-4d2c-840d-67d3f69c2920"
      },
      "source": [
        "# Read-in the factors for German market from the provided file 'monthly_factors.csv' (rf is risk free rate):\n",
        "#   1. rm (Market factor)\n",
        "#   2. SMB (Fama-French size factor)\n",
        "#   3. HML (Fama-French value factor)\n",
        "#   4. WML (Carhart momentum factor)\n",
        "# Like above, convert the 'date' column to the datetime data type.\n",
        "#\n",
        "#factors         = pd.read_csv('monthly_factors.csv')\n",
        "factors['date'] = pd.to_datetime(factors['date'], format ='%Y%m')\n",
        "factors['rm_excess'] = factors['rm'] - factors['rf']\n",
        "factors = factors[['date', 'rm_excess', 'rf']]  # We'll only use market excess returns and riskfree rate here\n",
        "factors[['rm_excess', 'rf']] /= 100  # Bring numbers to actual values\n",
        "factors.head()"
      ],
      "execution_count": 4,
      "outputs": [
        {
          "output_type": "execute_result",
          "data": {
            "text/html": [
              "<div>\n",
              "<style scoped>\n",
              "    .dataframe tbody tr th:only-of-type {\n",
              "        vertical-align: middle;\n",
              "    }\n",
              "\n",
              "    .dataframe tbody tr th {\n",
              "        vertical-align: top;\n",
              "    }\n",
              "\n",
              "    .dataframe thead th {\n",
              "        text-align: right;\n",
              "    }\n",
              "</style>\n",
              "<table border=\"1\" class=\"dataframe\">\n",
              "  <thead>\n",
              "    <tr style=\"text-align: right;\">\n",
              "      <th></th>\n",
              "      <th>date</th>\n",
              "      <th>rm_excess</th>\n",
              "      <th>rf</th>\n",
              "    </tr>\n",
              "  </thead>\n",
              "  <tbody>\n",
              "    <tr>\n",
              "      <th>0</th>\n",
              "      <td>1962-07-01</td>\n",
              "      <td>-0.0578</td>\n",
              "      <td>0.0025</td>\n",
              "    </tr>\n",
              "    <tr>\n",
              "      <th>1</th>\n",
              "      <td>1962-08-01</td>\n",
              "      <td>0.0586</td>\n",
              "      <td>0.0025</td>\n",
              "    </tr>\n",
              "    <tr>\n",
              "      <th>2</th>\n",
              "      <td>1962-09-01</td>\n",
              "      <td>-0.0658</td>\n",
              "      <td>0.0026</td>\n",
              "    </tr>\n",
              "    <tr>\n",
              "      <th>3</th>\n",
              "      <td>1962-10-01</td>\n",
              "      <td>-0.0227</td>\n",
              "      <td>0.0024</td>\n",
              "    </tr>\n",
              "    <tr>\n",
              "      <th>4</th>\n",
              "      <td>1962-11-01</td>\n",
              "      <td>0.1905</td>\n",
              "      <td>0.0024</td>\n",
              "    </tr>\n",
              "  </tbody>\n",
              "</table>\n",
              "</div>"
            ],
            "text/plain": [
              "        date  rm_excess      rf\n",
              "0 1962-07-01    -0.0578  0.0025\n",
              "1 1962-08-01     0.0586  0.0025\n",
              "2 1962-09-01    -0.0658  0.0026\n",
              "3 1962-10-01    -0.0227  0.0024\n",
              "4 1962-11-01     0.1905  0.0024"
            ]
          },
          "metadata": {
            "tags": []
          },
          "execution_count": 4
        }
      ]
    },
    {
      "cell_type": "code",
      "metadata": {
        "id": "WtJYgLMvmlSf",
        "colab_type": "code",
        "outputId": "72e0c261-4250-449d-af89-db602cfefdc8",
        "colab": {
          "base_uri": "https://localhost:8080/",
          "height": 954
        }
      },
      "source": [
        "# We will estimate an ARMA(1, 1) model on market excess returns and the riskfree rate:\n",
        "#\n",
        "#    r_t = \\alpha + \\beta * r_{t-1} + \\epsilon_t + \\theta * \\epsilon_{t-1}   (1)\n",
        "#\n",
        "# This means: We need to come up with estimates for the parameters \\alpha, \\beta and \\theta\n",
        "#\n",
        "# The problem is: \\epsilon_{t-1} is not observed, we only have observations for r_t, r_{t-1}.\n",
        "# We will follow a two-pass estimation to circumvent this problem. We first estimate the\n",
        "# AR part of that model via OLS:\n",
        "#\n",
        "#    r_t = \\alpha + \\beta * r_{t-1} + \\tilde{\\epsilon}_t                      (2)\n",
        "#\n",
        "# Given this model, we can get a time series of \\tilde{\\epsilon}_t. With that, we can now\n",
        "# estimate (1) via OLS, by just setting \\epsilon_{t-1} = \\tilde{\\epsilon}_{t-1}.\n",
        "\n",
        "\n",
        "# Task 1: Estimate AR model part (Step 1)\n",
        "# ---------------------------------------\n",
        "\n",
        "# Estimate the model (2) for market excess returns via OLS using the statsmodels package.\n",
        "#\n",
        "# Hint: If you are insecure what to do, write down the regression formulas for the factor\n",
        "#       models of the last problem set and compare.\n",
        "# Note: 'ar_model_rm_excess' should contain the OLS regression result object (after fitting)\n",
        "#\n",
        "# IMPORTANT: Use the constant as first variable in the regression. This also applied to the\n",
        "#            next regression!\n",
        "X = pd.DataFrame()\n",
        "rm_excess_x = list(factors['rm_excess'])\n",
        "rm_excess_y = list(factors['rm_excess'])\n",
        "X['alpha'] = np.ones(len(factors['rm_excess'])-1)\n",
        "X['rm_excess'] = rm_excess_x[:-1]\n",
        "Y = rm_excess_y[1:]\n",
        "ar_model_rm_excess = sm.OLS(Y,X).fit()\n",
        "print(ar_model_rm_excess.summary())\n",
        "\n",
        "# Repeat the analysis above for the riskfree rate.\n",
        "#\n",
        "# Note: 'ar_model_rf' should contain the OLS regression result object\n",
        "X = pd.DataFrame()\n",
        "rf_x = list(factors['rf'])\n",
        "rf_y = list(factors['rf'])\n",
        "X['alpha'] = np.ones(len(factors['rf'])-1)\n",
        "X['rf'] = rf_x[:-1]\n",
        "Y = rf_y[1:]\n",
        "ar_model_rf = sm.OLS(Y,X).fit()\n",
        "print(ar_model_rf.summary())\n"
      ],
      "execution_count": 10,
      "outputs": [
        {
          "output_type": "stream",
          "text": [
            "                            OLS Regression Results                            \n",
            "==============================================================================\n",
            "Dep. Variable:                      y   R-squared:                       0.011\n",
            "Model:                            OLS   Adj. R-squared:                  0.009\n",
            "Method:                 Least Squares   F-statistic:                     6.605\n",
            "Date:                Fri, 06 Dec 2019   Prob (F-statistic):             0.0104\n",
            "Time:                        08:08:45   Log-Likelihood:                 964.88\n",
            "No. Observations:                 617   AIC:                            -1926.\n",
            "Df Residuals:                     615   BIC:                            -1917.\n",
            "Df Model:                           1                                         \n",
            "Covariance Type:            nonrobust                                         \n",
            "==============================================================================\n",
            "                 coef    std err          t      P>|t|      [0.025      0.975]\n",
            "------------------------------------------------------------------------------\n",
            "alpha          0.0038      0.002      1.833      0.067      -0.000       0.008\n",
            "rm_excess      0.1030      0.040      2.570      0.010       0.024       0.182\n",
            "==============================================================================\n",
            "Omnibus:                       39.880   Durbin-Watson:                   1.989\n",
            "Prob(Omnibus):                  0.000   Jarque-Bera (JB):              110.050\n",
            "Skew:                          -0.281   Prob(JB):                     1.27e-24\n",
            "Kurtosis:                       4.991   Cond. No.                         19.6\n",
            "==============================================================================\n",
            "\n",
            "Warnings:\n",
            "[1] Standard Errors assume that the covariance matrix of the errors is correctly specified.\n",
            "                            OLS Regression Results                            \n",
            "==============================================================================\n",
            "Dep. Variable:                      y   R-squared:                       0.960\n",
            "Model:                            OLS   Adj. R-squared:                  0.960\n",
            "Method:                 Least Squares   F-statistic:                 1.487e+04\n",
            "Date:                Fri, 06 Dec 2019   Prob (F-statistic):               0.00\n",
            "Time:                        08:08:45   Log-Likelihood:                 3853.7\n",
            "No. Observations:                 617   AIC:                            -7703.\n",
            "Df Residuals:                     615   BIC:                            -7695.\n",
            "Df Model:                           1                                         \n",
            "Covariance Type:            nonrobust                                         \n",
            "==============================================================================\n",
            "                 coef    std err          t      P>|t|      [0.025      0.975]\n",
            "------------------------------------------------------------------------------\n",
            "alpha       7.085e-05   3.79e-05      1.867      0.062   -3.67e-06       0.000\n",
            "rf             0.9817      0.008    121.931      0.000       0.966       0.998\n",
            "==============================================================================\n",
            "Omnibus:                      148.935   Durbin-Watson:                   2.310\n",
            "Prob(Omnibus):                  0.000   Jarque-Bera (JB):             1735.354\n",
            "Skew:                           0.707   Prob(JB):                         0.00\n",
            "Kurtosis:                      11.093   Cond. No.                         426.\n",
            "==============================================================================\n",
            "\n",
            "Warnings:\n",
            "[1] Standard Errors assume that the covariance matrix of the errors is correctly specified.\n"
          ],
          "name": "stdout"
        }
      ]
    },
    {
      "cell_type": "code",
      "metadata": {
        "id": "06acZkNeQ_0a",
        "colab_type": "code",
        "colab": {
          "base_uri": "https://localhost:8080/",
          "height": 504
        },
        "outputId": "612ab255-27bf-42f8-d017-b2d0bc75150d"
      },
      "source": [
        "# Task 2: Estimate full ARMA model (Step 2)\n",
        "# -----------------------------------------\n",
        "tilde = list(rm_excess_y[1:]- (ar_model_rm_excess.params[0]+factors['rm_excess'][0:-1]*ar_model_rm_excess.params[1]))\n",
        "X = pd.DataFrame()\n",
        "X['constant'] = np.ones(len(factors['rm_excess'])-2)   \n",
        "X['rm_excess'] = rm_excess_x[1:-1]  \n",
        "X['epsilon'] = tilde[:-1]   \n",
        "Y = rm_excess_y[2:]                                                             \n",
        "arma_model_rm_excess = sm.OLS(Y,X).fit()\n",
        "print(arma_model_rm_excess.summary())\n",
        "\n",
        "#长度对的， 取值不对，范围需要修改"
      ],
      "execution_count": 20,
      "outputs": [
        {
          "output_type": "stream",
          "text": [
            "                            OLS Regression Results                            \n",
            "==============================================================================\n",
            "Dep. Variable:                      y   R-squared:                       0.011\n",
            "Model:                            OLS   Adj. R-squared:                  0.008\n",
            "Method:                 Least Squares   F-statistic:                     3.550\n",
            "Date:                Fri, 06 Dec 2019   Prob (F-statistic):             0.0293\n",
            "Time:                        08:19:57   Log-Likelihood:                 963.64\n",
            "No. Observations:                 616   AIC:                            -1921.\n",
            "Df Residuals:                     613   BIC:                            -1908.\n",
            "Df Model:                           2                                         \n",
            "Covariance Type:            nonrobust                                         \n",
            "==============================================================================\n",
            "                 coef    std err          t      P>|t|      [0.025      0.975]\n",
            "------------------------------------------------------------------------------\n",
            "constant       0.0044      0.003      1.680      0.093      -0.001       0.010\n",
            "rm_excess     -0.0722      0.389     -0.185      0.853      -0.837       0.692\n",
            "epsilon        0.1794      0.391      0.458      0.647      -0.589       0.948\n",
            "==============================================================================\n",
            "Omnibus:                       40.082   Durbin-Watson:                   1.989\n",
            "Prob(Omnibus):                  0.000   Jarque-Bera (JB):              110.456\n",
            "Skew:                          -0.284   Prob(JB):                     1.03e-24\n",
            "Kurtosis:                       4.995   Cond. No.                         270.\n",
            "==============================================================================\n",
            "\n",
            "Warnings:\n",
            "[1] Standard Errors assume that the covariance matrix of the errors is correctly specified.\n"
          ],
          "name": "stdout"
        }
      ]
    },
    {
      "cell_type": "code",
      "metadata": {
        "id": "U5woQGzQgQQ6",
        "colab_type": "code",
        "colab": {}
      },
      "source": [
        "# Repeat the ARMA model estimation for the riskfree rate.\n",
        "#\n",
        "# Note: 'arma_model_rf' should contain the OLS regression result object (after fitting)\n",
        "tilde = rf_y[1:] - (ar_model_rf.params[0]+factors['rf'][0:-1]*ar_model_rf.params[1])\n",
        "X = pd.DataFrame()\n",
        "X['constant'] = np.ones(len(factors['rf'])-2)   \n",
        "X['rf'] = rf_x[1:-1]  \n",
        "X['epsilon'] = tilde[:-1]    \n",
        "Y = rf_y[2:]                                                             \n",
        "arma_model_rf = sm.OLS(Y,X).fit()\n",
        "print(arma_model_rf.summary())"
      ],
      "execution_count": 0,
      "outputs": []
    },
    {
      "cell_type": "code",
      "metadata": {
        "id": "UqYZ-i8cqOoQ",
        "colab_type": "code",
        "colab": {
          "base_uri": "https://localhost:8080/",
          "height": 284
        },
        "outputId": "094e1d06-6f30-497d-88e1-6bfffc9bcaa3"
      },
      "source": [
        "y_hat_rf = arma_model_rf.predict(X) #ols预测值\n",
        "list0 = np.array(range(1,617))    \n",
        "plt.axis([min(list0),max(list0),min(y_hat_rf),max(y_hat_rf)])\n",
        "#plt.ylim(y_min, y_max)\n",
        "plt.scatter(list0,rf_y[2:])\n",
        "plt.plot(list0,y_hat_rf,'r')"
      ],
      "execution_count": 56,
      "outputs": [
        {
          "output_type": "execute_result",
          "data": {
            "text/plain": [
              "[<matplotlib.lines.Line2D at 0x7f01f5fc0c88>]"
            ]
          },
          "metadata": {
            "tags": []
          },
          "execution_count": 56
        },
        {
          "output_type": "display_data",
          "data": {
            "image/png": "[encoded data removed]",
            "text/plain": [
              "<Figure size 432x288 with 1 Axes>"
            ]
          },
          "metadata": {
            "tags": []
          }
        }
      ]
    },
    {
      "cell_type": "code",
      "metadata": {
        "id": "wcwoxN_BbFVk",
        "colab_type": "code",
        "colab": {
          "base_uri": "https://localhost:8080/",
          "height": 620
        },
        "outputId": "04350606-1d89-4e1d-a1ec-73bc5a9ab07c"
      },
      "source": [
        "#残差正态分布\n",
        "residual = arma_model_rm_excess.resid\n",
        "result = arma_model_rm_excess\n",
        "pq = sm.ProbPlot(arma_model_rm_excess.resid)\n",
        "pq.qqplot(line='q')\n",
        "pq.ppplot(line='45')\n",
        "#pp图和qq图判断标准是：如果观察点都比较均匀的分布在直线附近，就可以说明变量近似的服从正态分布，否则不服从正态分布。\n",
        "\n",
        "import scipy.stats as stats\n",
        "stats.shapiro(arma_model_rm_excess.resid)\n",
        "#上面结果两个参数：第一个是Shaprio检验统计量值，第二个是相对应的p值。可以看到，p值非常小，远远小于0.05，因此拒绝原假设，说明残差不服从正态分布。\n",
        "\n",
        "#残差的独立性\n",
        "# DW = 2, 扰动项无相关性\n",
        "# DW = 0, 扰动项完全正相关\n",
        "# DW = 4，扰动项完全负相关\n",
        "#Durbin-Watson: 1.989 -> 无关，满足独立性假设\n",
        "\n",
        "#方差齐性检验（无明显自相关）\n",
        "sm.stats.diagnostic.het_breuschpagan(residual,result.model.exog)\n",
        "#9.516504691510487         LM统计量值\n",
        "#0.008580592209694694      响应的p值，0.008远小于显著性水平0.05，因此拒绝原假设，即残差方差不是一个常数\n",
        "#4.809378508254906         F统计量值，用来检验残差平方项与自变量之间是否独立，如果独立则表明残差方差齐性\n",
        "#0.008463131883886393      F统计量对应的p值，也是远小于0.05的，进一步验证了残差方差的非齐性，存在自相关"
      ],
      "execution_count": 37,
      "outputs": [
        {
          "output_type": "execute_result",
          "data": {
            "text/plain": [
              "(9.516504691510487,\n",
              " 0.008580592209694694,\n",
              " 4.809378508254906,\n",
              " 0.008463131883886393)"
            ]
          },
          "metadata": {
            "tags": []
          },
          "execution_count": 37
        },
        {
          "output_type": "display_data",
          "data": {
            "image/png": "[encoded data removed]",
            "text/plain": [
              "<Figure size 432x288 with 1 Axes>"
            ]
          },
          "metadata": {
            "tags": []
          }
        },
        {
          "output_type": "display_data",
          "data": {
            "image/png": "[encoded data removed]",
            "text/plain": [
              "<Figure size 432x288 with 1 Axes>"
            ]
          },
          "metadata": {
            "tags": []
          }
        }
      ]
    },
    {
      "cell_type": "code",
      "metadata": {
        "id": "JDzTF2hUTos6",
        "colab_type": "code",
        "colab": {}
      },
      "source": [
        "# Is the parameter for the AR part, beta, significant to the 5% confidence level in the ARMA model for\n",
        "# market excess returns?\n",
        "#\n",
        "# If so, set ar_significant_rm_excess = 'yes'. Otherwise, set ar_significant_rm_excess = 'no'.\n",
        "ar_significant_rm_excess =\n",
        "\n",
        "# Repeat the ARMA model estimation for the riskfree rate.\n",
        "#\n",
        "# Note: 'arma_model_rf' should contain the OLS regression result object (after fitting)\n",
        "\n",
        "arma_model_rf =\n",
        "print(arma_model_rf.summary())\n",
        "\n",
        "# Is the parameter for the AR part, beta, significant to the 5% confidence level in the ARMA model for\n",
        "# the riskfree rate?\n",
        "#\n",
        "# If so, set ar_significant_rf = 'yes'. Otherwise, set ar_significant_rf = 'no'.\n",
        "ar_significant_rf =\n",
        "\n"
      ],
      "execution_count": 0,
      "outputs": []
    }
  ]
}