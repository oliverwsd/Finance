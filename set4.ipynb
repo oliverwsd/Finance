{
  "nbformat": 4,
  "nbformat_minor": 0,
  "metadata": {
    "colab": {
      "name": "set4.ipynb",
      "provenance": [],
      "collapsed_sections": [],
      "include_colab_link": true
    },
    "kernelspec": {
      "name": "python3",
      "display_name": "Python 3"
    }
  },
  "cells": [
    {
      "cell_type": "markdown",
      "metadata": {
        "id": "view-in-github",
        "colab_type": "text"
      },
      "source": [
        "<a href=\"https://colab.research.google.com/github/oliverwsd/finance/blob/master/set4.ipynb\" target=\"_parent\"><img src=\"https://colab.research.google.com/assets/colab-badge.svg\" alt=\"Open In Colab\"/></a>"
      ]
    },
    {
      "cell_type": "code",
      "metadata": {
        "id": "ASh2XpeSfpNL",
        "colab_type": "code",
        "colab": {}
      },
      "source": [
        "import numpy as np\n",
        "import pandas as pd\n",
        "import statsmodels.api as sm\n",
        "import matplotlib.pyplot as plt"
      ],
      "execution_count": 0,
      "outputs": []
    },
    {
      "cell_type": "code",
      "metadata": {
        "id": "b3yWFRMmlA3j",
        "colab_type": "code",
        "colab": {
          "base_uri": "https://localhost:8080/",
          "height": 442
        },
        "outputId": "aa0e6576-4ff8-4126-9298-10e9935f8594"
      },
      "source": [
        "import os\n",
        "from google.colab import drive\n",
        "drive.mount('/content/drive')\n",
        "\n",
        "path = \"/content/drive/My Drive/data\"\n",
        "\n",
        "os.chdir(path)#将当前目录指定到了云盘data文件夹\n",
        "#os.listdir(path)\n",
        "pd.read_csv('monthly_factors.csv')"
      ],
      "execution_count": 34,
      "outputs": [
        {
          "output_type": "stream",
          "text": [
            "Drive already mounted at /content/drive; to attempt to forcibly remount, call drive.mount(\"/content/drive\", force_remount=True).\n"
          ],
          "name": "stdout"
        },
        {
          "output_type": "execute_result",
          "data": {
            "text/html": [
              "<div>\n",
              "<style scoped>\n",
              "    .dataframe tbody tr th:only-of-type {\n",
              "        vertical-align: middle;\n",
              "    }\n",
              "\n",
              "    .dataframe tbody tr th {\n",
              "        vertical-align: top;\n",
              "    }\n",
              "\n",
              "    .dataframe thead th {\n",
              "        text-align: right;\n",
              "    }\n",
              "</style>\n",
              "<table border=\"1\" class=\"dataframe\">\n",
              "  <thead>\n",
              "    <tr style=\"text-align: right;\">\n",
              "      <th></th>\n",
              "      <th>date</th>\n",
              "      <th>rm</th>\n",
              "      <th>rf</th>\n",
              "      <th>SMB</th>\n",
              "      <th>HML</th>\n",
              "      <th>WML</th>\n",
              "    </tr>\n",
              "  </thead>\n",
              "  <tbody>\n",
              "    <tr>\n",
              "      <th>0</th>\n",
              "      <td>196207</td>\n",
              "      <td>-5.53</td>\n",
              "      <td>0.25</td>\n",
              "      <td>-0.29</td>\n",
              "      <td>-1.05</td>\n",
              "      <td>2.38</td>\n",
              "    </tr>\n",
              "    <tr>\n",
              "      <th>1</th>\n",
              "      <td>196208</td>\n",
              "      <td>6.11</td>\n",
              "      <td>0.25</td>\n",
              "      <td>-5.50</td>\n",
              "      <td>-1.63</td>\n",
              "      <td>0.80</td>\n",
              "    </tr>\n",
              "    <tr>\n",
              "      <th>2</th>\n",
              "      <td>196209</td>\n",
              "      <td>-6.32</td>\n",
              "      <td>0.26</td>\n",
              "      <td>2.26</td>\n",
              "      <td>0.14</td>\n",
              "      <td>1.94</td>\n",
              "    </tr>\n",
              "    <tr>\n",
              "      <th>3</th>\n",
              "      <td>196210</td>\n",
              "      <td>-2.03</td>\n",
              "      <td>0.24</td>\n",
              "      <td>-3.12</td>\n",
              "      <td>1.13</td>\n",
              "      <td>1.14</td>\n",
              "    </tr>\n",
              "    <tr>\n",
              "      <th>4</th>\n",
              "      <td>196211</td>\n",
              "      <td>19.29</td>\n",
              "      <td>0.24</td>\n",
              "      <td>-0.87</td>\n",
              "      <td>-9.73</td>\n",
              "      <td>-10.36</td>\n",
              "    </tr>\n",
              "    <tr>\n",
              "      <th>...</th>\n",
              "      <td>...</td>\n",
              "      <td>...</td>\n",
              "      <td>...</td>\n",
              "      <td>...</td>\n",
              "      <td>...</td>\n",
              "      <td>...</td>\n",
              "    </tr>\n",
              "    <tr>\n",
              "      <th>613</th>\n",
              "      <td>201308</td>\n",
              "      <td>-1.54</td>\n",
              "      <td>0.01</td>\n",
              "      <td>1.16</td>\n",
              "      <td>-1.31</td>\n",
              "      <td>-0.02</td>\n",
              "    </tr>\n",
              "    <tr>\n",
              "      <th>614</th>\n",
              "      <td>201309</td>\n",
              "      <td>5.74</td>\n",
              "      <td>0.01</td>\n",
              "      <td>2.24</td>\n",
              "      <td>1.36</td>\n",
              "      <td>0.23</td>\n",
              "    </tr>\n",
              "    <tr>\n",
              "      <th>615</th>\n",
              "      <td>201310</td>\n",
              "      <td>5.18</td>\n",
              "      <td>0.01</td>\n",
              "      <td>-2.57</td>\n",
              "      <td>-2.33</td>\n",
              "      <td>4.39</td>\n",
              "    </tr>\n",
              "    <tr>\n",
              "      <th>616</th>\n",
              "      <td>201311</td>\n",
              "      <td>3.84</td>\n",
              "      <td>0.01</td>\n",
              "      <td>0.85</td>\n",
              "      <td>1.88</td>\n",
              "      <td>2.26</td>\n",
              "    </tr>\n",
              "    <tr>\n",
              "      <th>617</th>\n",
              "      <td>201312</td>\n",
              "      <td>1.37</td>\n",
              "      <td>0.02</td>\n",
              "      <td>-0.21</td>\n",
              "      <td>-1.95</td>\n",
              "      <td>-2.66</td>\n",
              "    </tr>\n",
              "  </tbody>\n",
              "</table>\n",
              "<p>618 rows × 6 columns</p>\n",
              "</div>"
            ],
            "text/plain": [
              "       date     rm    rf   SMB   HML    WML\n",
              "0    196207  -5.53  0.25 -0.29 -1.05   2.38\n",
              "1    196208   6.11  0.25 -5.50 -1.63   0.80\n",
              "2    196209  -6.32  0.26  2.26  0.14   1.94\n",
              "3    196210  -2.03  0.24 -3.12  1.13   1.14\n",
              "4    196211  19.29  0.24 -0.87 -9.73 -10.36\n",
              "..      ...    ...   ...   ...   ...    ...\n",
              "613  201308  -1.54  0.01  1.16 -1.31  -0.02\n",
              "614  201309   5.74  0.01  2.24  1.36   0.23\n",
              "615  201310   5.18  0.01 -2.57 -2.33   4.39\n",
              "616  201311   3.84  0.01  0.85  1.88   2.26\n",
              "617  201312   1.37  0.02 -0.21 -1.95  -2.66\n",
              "\n",
              "[618 rows x 6 columns]"
            ]
          },
          "metadata": {
            "tags": []
          },
          "execution_count": 34
        }
      ]
    },
    {
      "cell_type": "code",
      "metadata": {
        "id": "QL4P8TcBl1VG",
        "colab_type": "code",
        "colab": {}
      },
      "source": [
        ""
      ],
      "execution_count": 0,
      "outputs": []
    }
  ]
}