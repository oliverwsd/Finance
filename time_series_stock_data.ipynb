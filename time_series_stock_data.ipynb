{
  "nbformat": 4,
  "nbformat_minor": 0,
  "metadata": {
    "colab": {
      "name": "time_series_stock_data.ipynb",
      "provenance": [],
      "collapsed_sections": [],
      "authorship_tag": "ABX9TyPG3NByA3ppqvNg2owaU2+8",
      "include_colab_link": true
    },
    "kernelspec": {
      "name": "python3",
      "display_name": "Python 3"
    }
  },
  "cells": [
    {
      "cell_type": "markdown",
      "metadata": {
        "id": "view-in-github",
        "colab_type": "text"
      },
      "source": [
        "<a href=\"https://colab.research.google.com/github/oliverwsd/finance/blob/master/time_series_stock_data.ipynb\" target=\"_parent\"><img src=\"https://colab.research.google.com/assets/colab-badge.svg\" alt=\"Open In Colab\"/></a>"
      ]
    },
    {
      "cell_type": "code",
      "metadata": {
        "id": "6kgpXKkgC2wV",
        "colab_type": "code",
        "colab": {}
      },
      "source": [
        "import pandas as pd\n",
        "import pandas_datareader.data as web\n",
        "import numpy as np\n",
        "import datetime\n",
        "import matplotlib.pyplot as plt\n",
        "%matplotlib inline\n",
        "\n",
        "pd.set_option('display.notebook_repr_html',False)\n",
        "pd.set_option('display.max_columns',6)\n",
        "pd.set_option('display.max_rows',10)\n",
        "pd.set_option('display.width',78)\n",
        "pd.set_option('precision',3) "
      ],
      "execution_count": 0,
      "outputs": []
    },
    {
      "cell_type": "code",
      "metadata": {
        "id": "8EK-yxqrFhHH",
        "colab_type": "code",
        "colab": {
          "base_uri": "https://localhost:8080/",
          "height": 143
        },
        "outputId": "992dc47e-a3c4-415c-bf31-baa178106754"
      },
      "source": [
        "start = datetime.date(2018,1,1)\n",
        "end   = datetime.date.today()\n",
        "msft  = web.DataReader('MSFT','yahoo',start,end)\n",
        "msft[:5]"
      ],
      "execution_count": 7,
      "outputs": [
        {
          "output_type": "execute_result",
          "data": {
            "text/plain": [
              "             High    Low   Open  Close     Volume  Adj Close\n",
              "Date                                                        \n",
              "2018-01-02  86.31  85.50  86.13  85.95  2.248e+07     83.030\n",
              "2018-01-03  86.51  85.97  86.06  86.35  2.606e+07     83.416\n",
              "2018-01-04  87.66  86.57  86.59  87.11  2.191e+07     84.150\n",
              "2018-01-05  88.41  87.43  87.66  88.19  2.341e+07     85.193\n",
              "2018-01-08  88.58  87.60  88.20  88.28  2.211e+07     85.280"
            ]
          },
          "metadata": {
            "tags": []
          },
          "execution_count": 7
        }
      ]
    },
    {
      "cell_type": "code",
      "metadata": {
        "id": "GX2ubk_oIOwA",
        "colab_type": "code",
        "colab": {
          "base_uri": "https://localhost:8080/",
          "height": 125
        },
        "outputId": "a9cacd39-297d-4620-a66f-9e0e755af672"
      },
      "source": [
        "actions = web.DataReader('MSFT','yahoo-actions',start,end)\n",
        "actions[:5]"
      ],
      "execution_count": 8,
      "outputs": [
        {
          "output_type": "execute_result",
          "data": {
            "text/plain": [
              "              action  value\n",
              "2020-02-19  DIVIDEND   0.51\n",
              "2019-11-20  DIVIDEND   0.51\n",
              "2019-08-14  DIVIDEND   0.46\n",
              "2019-05-15  DIVIDEND   0.46\n",
              "2019-02-20  DIVIDEND   0.46"
            ]
          },
          "metadata": {
            "tags": []
          },
          "execution_count": 8
        }
      ]
    },
    {
      "cell_type": "code",
      "metadata": {
        "id": "D_BXH8eMIhMJ",
        "colab_type": "code",
        "colab": {
          "base_uri": "https://localhost:8080/",
          "height": 287
        },
        "outputId": "c4b620d4-3e2b-41cc-dad4-69bfcb003e83"
      },
      "source": [
        "msft['action'], msft['value'] = actions.action, actions.value\n",
        "print(msft)"
      ],
      "execution_count": 10,
      "outputs": [
        {
          "output_type": "stream",
          "text": [
            "              High     Low    Open  ...  Adj Close  action  value\n",
            "Date                                ...                          \n",
            "2018-01-02   86.31   85.50   86.13  ...     83.030     NaN    NaN\n",
            "2018-01-03   86.51   85.97   86.06  ...     83.416     NaN    NaN\n",
            "2018-01-04   87.66   86.57   86.59  ...     84.150     NaN    NaN\n",
            "2018-01-05   88.41   87.43   87.66  ...     85.193     NaN    NaN\n",
            "2018-01-08   88.58   87.60   88.20  ...     85.280     NaN    NaN\n",
            "...            ...     ...     ...  ...        ...     ...    ...\n",
            "2020-04-30  180.40  176.23  180.00  ...    179.210     NaN    NaN\n",
            "2020-05-01  178.64  174.01  175.80  ...    174.570     NaN    NaN\n",
            "2020-05-04  179.00  173.80  174.49  ...    178.840     NaN    NaN\n",
            "2020-05-05  183.65  179.90  180.62  ...    180.760     NaN    NaN\n",
            "2020-05-06  184.20  181.64  182.08  ...    182.540     NaN    NaN\n",
            "\n",
            "[590 rows x 8 columns]\n"
          ],
          "name": "stdout"
        }
      ]
    },
    {
      "cell_type": "code",
      "metadata": {
        "id": "FQF-c6-yKRmM",
        "colab_type": "code",
        "colab": {}
      },
      "source": [
        "def get(tickers, start, end):\n",
        "  def data(ticker):\n",
        "    return web.DataReader(ticker, 'yahoo', start, end)\n",
        "  datas = map(data,tickers) # ticker中每一项调用data() -> [df1, df2, ..]\n",
        "  return pd.concat(datas, keys= tickers, names=['Ticker','Date']) # 加一个层次key来识别数据来源于哪个df\n",
        "\n",
        "# get a list of stocks tickers and return all the results in a single DataFrame"
      ],
      "execution_count": 0,
      "outputs": []
    },
    {
      "cell_type": "code",
      "metadata": {
        "id": "EhE6LjxcKw-h",
        "colab_type": "code",
        "colab": {
          "base_uri": "https://localhost:8080/",
          "height": 287
        },
        "outputId": "1553480b-40d8-4e7d-f490-10975737804c"
      },
      "source": [
        "tickers = ['AAPL','MSFT','IBM','KO']\n",
        "all_data = get(tickers,start,end)\n",
        "all_data #load data for all of our stocks"
      ],
      "execution_count": 14,
      "outputs": [
        {
          "output_type": "execute_result",
          "data": {
            "text/plain": [
              "                     High     Low    Open   Close     Volume  Adj Close\n",
              "Ticker Date                                                            \n",
              "AAPL   2018-01-02  172.30  169.26  170.16  172.26  2.556e+07    166.804\n",
              "       2018-01-03  174.55  171.96  172.53  172.23  2.952e+07    166.775\n",
              "       2018-01-04  173.47  172.08  172.54  173.03  2.243e+07    167.550\n",
              "       2018-01-05  175.37  173.05  173.44  175.00  2.366e+07    169.457\n",
              "       2018-01-08  175.61  173.93  174.35  174.35  2.057e+07    168.828\n",
              "...                   ...     ...     ...     ...        ...        ...\n",
              "KO     2020-04-30   47.00   45.70   47.00   45.89  2.080e+07     45.890\n",
              "       2020-05-01   46.39   45.21   45.62   45.60  1.429e+07     45.600\n",
              "       2020-05-04   45.48   44.60   45.32   45.14  2.254e+07     45.140\n",
              "       2020-05-05   46.10   45.15   45.36   45.40  1.337e+07     45.400\n",
              "       2020-05-06   45.63   44.72   45.40   44.75  1.181e+07     44.750\n",
              "\n",
              "[2360 rows x 6 columns]"
            ]
          },
          "metadata": {
            "tags": []
          },
          "execution_count": 14
        }
      ]
    }
  ]
}