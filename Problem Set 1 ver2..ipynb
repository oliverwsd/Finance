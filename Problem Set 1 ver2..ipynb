{
 "cells": [
  {
   "cell_type": "code",
   "execution_count": 1,
   "metadata": {},
   "outputs": [],
   "source": [
    "\n",
    "import numpy as np\n",
    "import pandas as pd\n",
    "import matplotlib.pyplot as plt\n",
    "\n",
    "\n",
    "#status = ''\n",
    "\n",
    "prices = pd.read_csv('price_data.csv')\n",
    "#prices.head()\n",
    "\n",
    "# Each column is labeled with the Ticker symbol of another asset. Here's the translation:\n",
    "#   VBTIX - Vanguard Total Bond Market Index Fund, a broad bond index ETF\n",
    "#   GE    - Stock of General Electric\n",
    "#   WMT   - Stock of Walmart\n",
    "#   IBM   - Stock of IBM\n",
    "#   SPX   - S&P 500 index, a broad US equity index\n",
    "\n",
    "\n"
   ]
  },
  {
   "cell_type": "code",
   "execution_count": 2,
   "metadata": {},
   "outputs": [],
   "source": [
    "riskfree = pd.read_csv('tbill.csv')\n",
    "#riskfree.head()\n",
    "\n"
   ]
  },
  {
   "cell_type": "code",
   "execution_count": 3,
   "metadata": {},
   "outputs": [],
   "source": [
    "# Merge the price and riskfree rate data into a single data set based on their date\n",
    "# Hint: Do the 'Date' columns of both DataFrames have the same data type? Check with the .info() function\n",
    "# of the DataFrames\n",
    "\n",
    "observations = pd.merge(prices,riskfree)\n",
    "#observations.head()\n",
    "\n"
   ]
  },
  {
   "cell_type": "code",
   "execution_count": 4,
   "metadata": {},
   "outputs": [],
   "source": [
    "# Rename the 'TBILL' column into 'riskfree_rate'\n",
    "\n",
    "observations = observations.rename(columns={'TBILL':'riskfree_rate'})\n",
    "#observations.head()\n"
   ]
  },
  {
   "cell_type": "code",
   "execution_count": 5,
   "metadata": {},
   "outputs": [],
   "source": [
    "\n",
    "# Plot the evolution of the S&P 500 (= 'SPX') over time\n",
    "#\n",
    "#plt.plot(observations['Date'],observations['SPX'])\n",
    "#plt.show()\n",
    "\n",
    "\n",
    "# Check of intermediate result (1):\n",
    "#\n",
    "# HINT: Check for yourself: observations.loc[0, 'riskfree_rate'] should be 5.17\n"
   ]
  },
  {
   "cell_type": "code",
   "execution_count": 6,
   "metadata": {},
   "outputs": [
    {
     "data": {
      "text/plain": [
       "5.17"
      ]
     },
     "execution_count": 6,
     "metadata": {},
     "output_type": "execute_result"
    }
   ],
   "source": [
    "# HINT: Check for yourself: observations.loc[0, 'riskfree_rate'] should be 5.17\n",
    "observations.loc[0, 'riskfree_rate']"
   ]
  },
  {
   "cell_type": "code",
   "execution_count": 7,
   "metadata": {},
   "outputs": [],
   "source": [
    "#if status == 'SOLN':\n",
    "#    Test.assertEquals(str(np.round(observations.loc[5, 'riskfree_rate'],2))[0:4], str(checker_results.loc[1, 'result']), 'Check 1 failed')\n",
    "\n"
   ]
  },
  {
   "cell_type": "code",
   "execution_count": 8,
   "metadata": {},
   "outputs": [],
   "source": [
    "# Task 2: Asset Returns\n",
    "# --------------------------\n",
    "\n",
    "# Create a pandas DataFrame for returns. For the start, it'll only consist of the 'Date' column of the\n",
    "# observations DataFrame\n",
    "#\n",
    "returns = pd.DataFrame()\n",
    "returns['Date'] = observations['Date'].copy()\n",
    "returns.head()\n",
    "\n",
    "# Calculate log returns for all assets in the observations DataFrame, besides the 'riskfree_rate'.\n",
    "# Store the results in the returns DataFrame.\n",
    "# Hint: While it is not the only possible solution, the .shift() function of a pandas column might help you\n",
    "#\n",
    "returns['VBTIX'] = np.log(observations.VBTIX)-np.log(observations.VBTIX.shift())\n",
    "returns['SPX'] = np.log(observations.SPX)-np.log(observations.SPX.shift())\n",
    "returns['GE'] = np.log(observations.GE)-np.log(observations.GE.shift())\n",
    "returns['WMT'] = np.log(observations.WMT)-np.log(observations.WMT.shift())\n",
    "returns['IBM'] = np.log(observations.IBM)-np.log(observations.IBM.shift())\n",
    "\n",
    "# Plot the return time series\n",
    "# Q: Which charts look more similar to each other? Return Charts or Price Charts? Why?\n",
    "# Return Charts\n",
    "\n",
    "#plt.plot(returns['Date'],observations['SPX'])\n",
    "#plt.show()\n",
    "\n",
    "\n",
    "\n",
    "# Check of intermediate result (2):\n",
    "#\n",
    "# HINT: Check for yourself: returns.loc[1, 'GE'] should be -0.031175\n",
    "#if status == 'SOLN':\n",
    "#    Test.assertEquals(str(np.round(returns.loc[5, 'IBM'],4))[0:7], str(checker_results.loc[2, 'result']), 'Check 2 failed')\n",
    "\n"
   ]
  },
  {
   "cell_type": "code",
   "execution_count": 9,
   "metadata": {},
   "outputs": [
    {
     "data": {
      "text/plain": [
       "-0.03117506952707849"
      ]
     },
     "execution_count": 9,
     "metadata": {},
     "output_type": "execute_result"
    }
   ],
   "source": [
    "returns.loc[1, 'GE']"
   ]
  },
  {
   "cell_type": "code",
   "execution_count": 10,
   "metadata": {},
   "outputs": [
    {
     "data": {
      "text/html": [
       "<div>\n",
       "<style scoped>\n",
       "    .dataframe tbody tr th:only-of-type {\n",
       "        vertical-align: middle;\n",
       "    }\n",
       "\n",
       "    .dataframe tbody tr th {\n",
       "        vertical-align: top;\n",
       "    }\n",
       "\n",
       "    .dataframe thead th {\n",
       "        text-align: right;\n",
       "    }\n",
       "</style>\n",
       "<table border=\"1\" class=\"dataframe\">\n",
       "  <thead>\n",
       "    <tr style=\"text-align: right;\">\n",
       "      <th></th>\n",
       "      <th>mean</th>\n",
       "      <th>std</th>\n",
       "    </tr>\n",
       "  </thead>\n",
       "  <tbody>\n",
       "    <tr>\n",
       "      <th>VBTIX</th>\n",
       "      <td>3.52072e-05</td>\n",
       "      <td>0.0027999</td>\n",
       "    </tr>\n",
       "    <tr>\n",
       "      <th>GE</th>\n",
       "      <td>-0.00033047</td>\n",
       "      <td>0.0193852</td>\n",
       "    </tr>\n",
       "    <tr>\n",
       "      <th>WMT</th>\n",
       "      <td>0.000104578</td>\n",
       "      <td>0.0146425</td>\n",
       "    </tr>\n",
       "    <tr>\n",
       "      <th>IBM</th>\n",
       "      <td>5.50579e-05</td>\n",
       "      <td>0.0159854</td>\n",
       "    </tr>\n",
       "    <tr>\n",
       "      <th>SPX</th>\n",
       "      <td>0.000136125</td>\n",
       "      <td>0.0117398</td>\n",
       "    </tr>\n",
       "  </tbody>\n",
       "</table>\n",
       "</div>"
      ],
      "text/plain": [
       "              mean        std\n",
       "VBTIX  3.52072e-05  0.0027999\n",
       "GE     -0.00033047  0.0193852\n",
       "WMT    0.000104578  0.0146425\n",
       "IBM    5.50579e-05  0.0159854\n",
       "SPX    0.000136125  0.0117398"
      ]
     },
     "execution_count": 10,
     "metadata": {},
     "output_type": "execute_result"
    }
   ],
   "source": [
    "\n",
    "# Calculate the daily mean and standard deviation (= volatility) of the return series\n",
    "# Hint: We're looking for the population standard deviation\n",
    "#\n",
    "returns_stats_daily = pd.DataFrame(index = ['VBTIX', 'GE', 'WMT', 'IBM', 'SPX'], columns = ['mean', 'std'])\n",
    "returns_stats_daily.loc['VBTIX', 'mean'] = returns['VBTIX'].mean()\n",
    "\n",
    "returns_stats_daily.loc['GE', 'mean'] = returns['GE'].mean()\n",
    "returns_stats_daily.loc['WMT', 'mean'] = returns['WMT'].mean()\n",
    "returns_stats_daily.loc['IBM', 'mean'] = returns['IBM'].mean()\n",
    "returns_stats_daily.loc['SPX', 'mean'] = returns['SPX'].mean()\n",
    "\n",
    "returns_stats_daily.loc['VBTIX', 'std'] = returns['VBTIX'].std()\n",
    "returns_stats_daily.loc['GE', 'std'] = returns['GE'].std()\n",
    "returns_stats_daily.loc['WMT', 'std'] = returns['WMT'].std()\n",
    "returns_stats_daily.loc['IBM', 'std'] = returns['IBM'].std()\n",
    "returns_stats_daily.loc['SPX', 'std'] = returns['SPX'].std()\n",
    "\n",
    "returns_stats_daily\n",
    "\n",
    "# Check of intermediate result (3):\n",
    "#\n",
    "# HINT: Check for yourself: returns_stats_daily.loc['VBTIX', 'mean'] should be 0.0000352\n",
    "# HINT: Check for yourself: returns_stats_daily.loc['VBTIX', 'std'] should be 0.002799\n",
    "#if status == 'SOLN':\n",
    "#    Test.assertEquals(str(np.round(returns_stats_daily.loc['SPX', 'mean'],5))[0:8], str(checker_results.loc[3, 'result']), 'Check 3 failed')\n",
    "#    Test.assertEquals(str(np.round(returns_stats_daily.loc['SPX', 'std'],4))[0:7], str(checker_results.loc[4, 'result']), 'Check 4 failed')\n",
    "\n",
    "\n"
   ]
  },
  {
   "cell_type": "code",
   "execution_count": 11,
   "metadata": {},
   "outputs": [
    {
     "data": {
      "text/html": [
       "<div>\n",
       "<style scoped>\n",
       "    .dataframe tbody tr th:only-of-type {\n",
       "        vertical-align: middle;\n",
       "    }\n",
       "\n",
       "    .dataframe tbody tr th {\n",
       "        vertical-align: top;\n",
       "    }\n",
       "\n",
       "    .dataframe thead th {\n",
       "        text-align: right;\n",
       "    }\n",
       "</style>\n",
       "<table border=\"1\" class=\"dataframe\">\n",
       "  <thead>\n",
       "    <tr style=\"text-align: right;\">\n",
       "      <th></th>\n",
       "      <th>mean</th>\n",
       "      <th>std</th>\n",
       "    </tr>\n",
       "  </thead>\n",
       "  <tbody>\n",
       "    <tr>\n",
       "      <th>VBTIX</th>\n",
       "      <td>0.0088722</td>\n",
       "      <td>0.0444471</td>\n",
       "    </tr>\n",
       "    <tr>\n",
       "      <th>GE</th>\n",
       "      <td>-0.0832783</td>\n",
       "      <td>0.307731</td>\n",
       "    </tr>\n",
       "    <tr>\n",
       "      <th>WMT</th>\n",
       "      <td>0.0263535</td>\n",
       "      <td>0.232442</td>\n",
       "    </tr>\n",
       "    <tr>\n",
       "      <th>IBM</th>\n",
       "      <td>0.0138746</td>\n",
       "      <td>0.253761</td>\n",
       "    </tr>\n",
       "    <tr>\n",
       "      <th>SPX</th>\n",
       "      <td>0.0343034</td>\n",
       "      <td>0.186364</td>\n",
       "    </tr>\n",
       "  </tbody>\n",
       "</table>\n",
       "</div>"
      ],
      "text/plain": [
       "            mean        std\n",
       "VBTIX  0.0088722  0.0444471\n",
       "GE    -0.0832783   0.307731\n",
       "WMT    0.0263535   0.232442\n",
       "IBM    0.0138746   0.253761\n",
       "SPX    0.0343034   0.186364"
      ]
     },
     "execution_count": 11,
     "metadata": {},
     "output_type": "execute_result"
    }
   ],
   "source": [
    "# Annualize the previously calculated mean and standard deviation\n",
    "# Hint: There are 252 trading days in a year. The mean scales linearly, volatility scales with the square root\n",
    "#       of trading days.\n",
    "# Q: Why do we annualize?\n",
    "#\n",
    "returns_stats_annual = returns_stats_daily.copy()\n",
    "returns_stats_annual.loc[:, 'mean'] = returns_stats_annual.loc[:, 'mean'] * 252\n",
    "\n",
    "returns_stats_annual.loc[:, 'std'] = returns_stats_annual.loc[:, 'std'] * np.sqrt(252)\n",
    "\n",
    "returns_stats_annual\n",
    "# Q: What differences do you see in the mean log return and volatility?\n",
    "#returns_stats_annual * 100\n",
    "\n",
    "\n",
    "# Check of intermediate result (4):\n",
    "#\n",
    "# HINT: Check for yourself: returns_stats_annual.loc['VBTIX', 'mean'] should be 0.008872\n",
    "# HINT: Check for yourself: returns_stats_annual.loc['VBTIX', 'std'] should be 0.04444\n",
    "#if status == 'SOLN':\n",
    "#    Test.assertEquals(str(np.round(returns_stats_annual.loc['SPX', 'mean'],3))[0:6], str(checker_results.loc[5, 'result']), 'Check 5 failed')\n",
    "#    Test.assertEquals(str(np.round(returns_stats_annual.loc['SPX', 'std'],3))[0:6], str(checker_results.loc[6, 'result']), 'Check 6 failed')\n",
    "\n",
    "\n"
   ]
  },
  {
   "cell_type": "code",
   "execution_count": 12,
   "metadata": {},
   "outputs": [
    {
     "name": "stdout",
     "output_type": "stream",
     "text": [
      "       VBTIX   SPX    GE\n",
      "VBTIX   1.00 -0.19 -0.19\n",
      "SPX    -0.19  1.00  0.70\n",
      "GE     -0.19  0.70  1.00\n"
     ]
    }
   ],
   "source": [
    "# Calculate the correlation between 'VBTIX', 'SPX' and 'GE'\n",
    "#  Hint: Use the '.corr' function for data frames\n",
    "#\n",
    "returns_corr = returns[['VBTIX', 'SPX','GE']].corr()\n",
    "print(np.round(returns_corr, 2))\n",
    "# Q: What can you tell about the correlation between the bond and equity index? What about GE and the equity index?\n",
    "\n"
   ]
  },
  {
   "cell_type": "code",
   "execution_count": 13,
   "metadata": {},
   "outputs": [
    {
     "data": {
      "text/plain": [
       "0    0.000205\n",
       "1    0.000209\n",
       "2    0.000209\n",
       "3    0.000210\n",
       "4    0.000208\n",
       "Name: riskfree_rate, dtype: float64"
      ]
     },
     "execution_count": 13,
     "metadata": {},
     "output_type": "execute_result"
    }
   ],
   "source": [
    "# The riskfree rates in the observations DataFrame is already the log return of a risk free bond.\n",
    "# By convention, the return is given in annual terms. For the other assets, we have daily log returns.\n",
    "# Also, they are given in percentage terms, while our other returns are in actual numbers (i.e. 0.01 instead of 1%)\n",
    "# Hence, scale the riskfree_rate to the rate of a single day in actual numbers (there are 252 trading days in a year).\n",
    "#\n",
    "observations['riskfree_rate'] = observations['riskfree_rate']/(100*252)\n",
    "# daily lof return of a risk free bond\n",
    "observations['riskfree_rate'].head()"
   ]
  },
  {
   "cell_type": "code",
   "execution_count": 14,
   "metadata": {},
   "outputs": [
    {
     "data": {
      "text/plain": [
       "6.473061171663256e-05"
      ]
     },
     "execution_count": 14,
     "metadata": {},
     "output_type": "execute_result"
    }
   ],
   "source": [
    "observations['riskfree_rate'].mean()"
   ]
  },
  {
   "cell_type": "code",
   "execution_count": 15,
   "metadata": {},
   "outputs": [
    {
     "data": {
      "text/html": [
       "<div>\n",
       "<style scoped>\n",
       "    .dataframe tbody tr th:only-of-type {\n",
       "        vertical-align: middle;\n",
       "    }\n",
       "\n",
       "    .dataframe tbody tr th {\n",
       "        vertical-align: top;\n",
       "    }\n",
       "\n",
       "    .dataframe thead th {\n",
       "        text-align: right;\n",
       "    }\n",
       "</style>\n",
       "<table border=\"1\" class=\"dataframe\">\n",
       "  <thead>\n",
       "    <tr style=\"text-align: right;\">\n",
       "      <th></th>\n",
       "      <th>Date</th>\n",
       "      <th>VBTIX</th>\n",
       "      <th>SPX</th>\n",
       "      <th>GE</th>\n",
       "      <th>WMT</th>\n",
       "      <th>IBM</th>\n",
       "    </tr>\n",
       "  </thead>\n",
       "  <tbody>\n",
       "    <tr>\n",
       "      <th>5146</th>\n",
       "      <td>2019-09-23</td>\n",
       "      <td>0.000637</td>\n",
       "      <td>-0.000172</td>\n",
       "      <td>-0.003282</td>\n",
       "      <td>0.005381</td>\n",
       "      <td>0.001263</td>\n",
       "    </tr>\n",
       "    <tr>\n",
       "      <th>5147</th>\n",
       "      <td>2019-09-24</td>\n",
       "      <td>0.003362</td>\n",
       "      <td>-0.008527</td>\n",
       "      <td>-0.040495</td>\n",
       "      <td>0.006535</td>\n",
       "      <td>-0.002824</td>\n",
       "    </tr>\n",
       "    <tr>\n",
       "      <th>5148</th>\n",
       "      <td>2019-09-25</td>\n",
       "      <td>-0.004816</td>\n",
       "      <td>0.006066</td>\n",
       "      <td>0.020887</td>\n",
       "      <td>0.000518</td>\n",
       "      <td>0.010318</td>\n",
       "    </tr>\n",
       "    <tr>\n",
       "      <th>5149</th>\n",
       "      <td>2019-09-26</td>\n",
       "      <td>0.001591</td>\n",
       "      <td>-0.002503</td>\n",
       "      <td>-0.015473</td>\n",
       "      <td>-0.001507</td>\n",
       "      <td>0.002649</td>\n",
       "    </tr>\n",
       "    <tr>\n",
       "      <th>5150</th>\n",
       "      <td>2019-09-27</td>\n",
       "      <td>0.000997</td>\n",
       "      <td>-0.005400</td>\n",
       "      <td>0.002145</td>\n",
       "      <td>0.001197</td>\n",
       "      <td>-0.002232</td>\n",
       "    </tr>\n",
       "  </tbody>\n",
       "</table>\n",
       "</div>"
      ],
      "text/plain": [
       "            Date     VBTIX       SPX        GE       WMT       IBM\n",
       "5146  2019-09-23  0.000637 -0.000172 -0.003282  0.005381  0.001263\n",
       "5147  2019-09-24  0.003362 -0.008527 -0.040495  0.006535 -0.002824\n",
       "5148  2019-09-25 -0.004816  0.006066  0.020887  0.000518  0.010318\n",
       "5149  2019-09-26  0.001591 -0.002503 -0.015473 -0.001507  0.002649\n",
       "5150  2019-09-27  0.000997 -0.005400  0.002145  0.001197 -0.002232"
      ]
     },
     "execution_count": 15,
     "metadata": {},
     "output_type": "execute_result"
    }
   ],
   "source": [
    "# Calculate daily excess returns for all 5 assets\n",
    "#\n",
    "excess_returns = returns.copy()\n",
    "\n",
    "excess_returns['VBTIX'] = returns['VBTIX'] -observations['riskfree_rate']\n",
    "excess_returns['SPX'] = returns['SPX'] -observations['riskfree_rate']\n",
    "excess_returns['GE'] = returns['GE'] -observations['riskfree_rate']\n",
    "excess_returns['WMT'] = returns['WMT'] -observations['riskfree_rate']\n",
    "excess_returns['IBM'] = returns['IBM'] -observations['riskfree_rate']\n",
    "\n",
    "excess_returns.tail()"
   ]
  },
  {
   "cell_type": "code",
   "execution_count": 16,
   "metadata": {},
   "outputs": [
    {
     "data": {
      "text/html": [
       "<div>\n",
       "<style scoped>\n",
       "    .dataframe tbody tr th:only-of-type {\n",
       "        vertical-align: middle;\n",
       "    }\n",
       "\n",
       "    .dataframe tbody tr th {\n",
       "        vertical-align: top;\n",
       "    }\n",
       "\n",
       "    .dataframe thead th {\n",
       "        text-align: right;\n",
       "    }\n",
       "</style>\n",
       "<table border=\"1\" class=\"dataframe\">\n",
       "  <thead>\n",
       "    <tr style=\"text-align: right;\">\n",
       "      <th></th>\n",
       "      <th>mean</th>\n",
       "      <th>std</th>\n",
       "    </tr>\n",
       "  </thead>\n",
       "  <tbody>\n",
       "    <tr>\n",
       "      <th>VBTIX</th>\n",
       "      <td>0.000004</td>\n",
       "      <td>0.002800</td>\n",
       "    </tr>\n",
       "    <tr>\n",
       "      <th>GE</th>\n",
       "      <td>-0.000395</td>\n",
       "      <td>0.019386</td>\n",
       "    </tr>\n",
       "    <tr>\n",
       "      <th>WMT</th>\n",
       "      <td>0.000040</td>\n",
       "      <td>0.014644</td>\n",
       "    </tr>\n",
       "    <tr>\n",
       "      <th>IBM</th>\n",
       "      <td>-0.000010</td>\n",
       "      <td>0.015986</td>\n",
       "    </tr>\n",
       "    <tr>\n",
       "      <th>SPX</th>\n",
       "      <td>0.000071</td>\n",
       "      <td>0.011741</td>\n",
       "    </tr>\n",
       "  </tbody>\n",
       "</table>\n",
       "</div>"
      ],
      "text/plain": [
       "           mean       std\n",
       "VBTIX  0.000004  0.002800\n",
       "GE    -0.000395  0.019386\n",
       "WMT    0.000040  0.014644\n",
       "IBM   -0.000010  0.015986\n",
       "SPX    0.000071  0.011741"
      ]
     },
     "execution_count": 16,
     "metadata": {},
     "output_type": "execute_result"
    }
   ],
   "source": [
    "# Calculate daily mean and volatility of excess returns\n",
    "#\n",
    "excess_stats_daily = pd.DataFrame(index = ['VBTIX', 'GE', 'WMT', 'IBM', 'SPX'], columns = ['mean', 'std'])\n",
    "excess_stats_daily['mean'] = excess_returns.mean()\n",
    "excess_stats_daily['std'] = excess_returns.std()\n",
    "#excess_stats_daily.loc['VBTIX','mean'] = excess_returns['VBTIX'].mean()\n",
    "#excess_stats_daily.loc['GE','mean'] = excess_returns['GE'].mean()\n",
    "#excess_stats_daily.loc['WMT','mean'] = excess_returns['WMT'].mean()\n",
    "#excess_stats_daily.loc['IBM','mean'] = excess_returns['IBM'].mean()\n",
    "#excess_stats_daily.loc['SPX','mean'] = excess_returns['SPX'].mean()\n",
    "\n",
    "excess_stats_daily\n",
    "\n",
    "\n",
    "\n"
   ]
  },
  {
   "cell_type": "code",
   "execution_count": 17,
   "metadata": {},
   "outputs": [
    {
     "data": {
      "text/plain": [
       "VBTIX      0.0014679\n",
       "GE        -0.0203853\n",
       "WMT       0.00272319\n",
       "IBM     -0.000603387\n",
       "SPX       0.00608367\n",
       "dtype: object"
      ]
     },
     "execution_count": 17,
     "metadata": {},
     "output_type": "execute_result"
    }
   ],
   "source": [
    "# Calculate the daily Sharpe ratio of the 5 assets\n",
    "\n",
    "SR_daily = excess_stats_daily['mean']/returns_stats_daily['std']\n",
    "\n",
    "SR_daily\n",
    "# Q: Are there differences between the stock, stock index, and bond Sharpe ratio?\n",
    "\n",
    "# Check of intermediate result (5):\n",
    "#\n",
    "# HINT: Check for yourself: SR_daily['GE'] should be -0.02039\n",
    "#if status == 'SOLN':\n",
    "#    Test.assertEquals(str(np.round(SR_daily['SPX'],3))[0:6], str(checker_results.loc[7, 'result']), 'Check 7 failed')\n",
    "#    Test.assertEquals(str(np.round(SR_daily['VBTIX'],4))[0:7], str(checker_results.loc[8, 'result']), 'Check 8 failed')\n",
    "\n"
   ]
  },
  {
   "cell_type": "code",
   "execution_count": 21,
   "metadata": {},
   "outputs": [
    {
     "name": "stdout",
     "output_type": "stream",
     "text": [
      "VBTIX     0.0233022\n",
      "GE        -0.323606\n",
      "WMT       0.0432293\n",
      "IBM     -0.00957848\n",
      "SPX       0.0965752\n",
      "dtype: object\n",
      "VBTIX     0.073688\n",
      "GE        -1.02333\n",
      "WMT       0.136703\n",
      "IBM     -0.0302898\n",
      "SPX       0.305398\n",
      "dtype: object\n"
     ]
    }
   ],
   "source": [
    "# Calculate the annual Sharpe ratio of the 5 assets\n",
    "# Hint: Annualize the excess mean return and volatility first\n",
    "#\n",
    "SR_annual = (excess_stats_daily['mean']*252) / (returns_stats_daily['std']* np.sqrt(252))\n",
    "print(SR_annual) \n",
    "\n",
    "# Calculate the 10-year Sharpe ratio of the 5 assets\n",
    "# Hint: Just assume all years have 252 trading days.\n",
    "#\n",
    "SR_10y = (excess_stats_daily['mean']*252*10) / (returns_stats_daily['std']* np.sqrt(252*10))\n",
    "print(SR_10y)\n",
    "# Q: Any differences to the daily horizon?\n",
    "# Q: As a long-term investor (say, 10 years and more) what would you invest in? The stock index (SPX) or bond index (VBTIX)?\n",
    "\n",
    "# Check of intermediate result (6):\n",
    "#\n",
    "# HINT: Check for yourself: SR_10y['GE'] should be -1.0234\n",
    "#if status == 'SOLN':\n",
    "#    Test.assertEquals(str(np.round(SR_10y['SPX'],3))[0:6], str(checker_results.loc[9, 'result']), 'Check 9 failed')\n",
    "\n"
   ]
  },
  {
   "cell_type": "code",
   "execution_count": 37,
   "metadata": {},
   "outputs": [
    {
     "name": "stdout",
     "output_type": "stream",
     "text": [
      "0.4779816118098426\n",
      "0.4306887778768513\n",
      "0.4761240662913277\n",
      "0.4249016525044631\n"
     ]
    }
   ],
   "source": [
    "# Task 4: Long-run equity investments\n",
    "# ---------------------------------------------------------\n",
    "\n",
    "# Looks like investing in stocks is very profitable in the long run.\n",
    "# So let's put all our money in stocks! We're young!  ;)\n",
    "# Not so fast.\n",
    "\n",
    "# Assume for a moment that log returns are normally distributed. Of course, they're not, but for the first\n",
    "# problem set we can be a bit inaccurate.\n",
    "# The normal distribution is defined by their mean and standard deviation that we just pinned down in the previous tasks.\n",
    "\n",
    "from scipy.stats import norm   # Gives access to functionality about normal distributions\n",
    "\n",
    "# What is the probability of a 30% loss after 1 year of holding the SPX?\n",
    "# Hint: Use the mean and volatility of log returns (not excess returns).\n",
    "# Hint: Use the function norm.cdf(...) to get the probability of a certain return, given its mean and volatility.\n",
    "#       If you're unsure how to use that function, google it.\n",
    "# Hint: A 30% loss translates to a gross return of 0.7, which needs still to be translated into a log return.\n",
    "#\n",
    "#prob_1y_spx = norm.cdf((returns_stats_annual.loc['SPX','mean']*(0.7-1))/returns_stats_annual.loc['SPX','std'])\n",
    "prob_ly_spx = norm.cdf(returns_stats_annual.loc['SPX','mean']*0.7,returns_stats_annual.loc['SPX','mean'],returns_stats_annual.loc['SPX','std']) \n",
    "print(prob_1y_spx)\n",
    "\n",
    "# What is the probability of a 30% loss after 10 years of holding the SPX?\n",
    "prob_10y_spx  = norm.cdf((returns_stats_annual.loc['SPX','mean']*10*(0.7-1))/(returns_stats_annual.loc['SPX','std']*np.sqrt(10)))\n",
    "print(prob_10y_spx)\n",
    "\n",
    "# What is the probability of a 30% loss after 1 year of holding the VBTIX?\n",
    "#\n",
    "prob_1y_vbtix  = norm.cdf((returns_stats_annual.loc['VBTIX','mean']*(0.7-1))/returns_stats_annual.loc['VBTIX','std'])\n",
    "print(prob_1y_vbtix)\n",
    "\n",
    "# What is the probability of a 30% loss after 10 years of holding the VBTIX?\n",
    "prob_10y_vbtix = norm.cdf((returns_stats_annual.loc['VBTIX','mean']*10*(0.7-1))/(returns_stats_annual.loc['VBTIX','std']*np.sqrt(10)))\n",
    "print(prob_10y_vbtix)\n",
    "\n",
    "# Q: What do you think about the equity investment now? Would you prefer the bond investment?\n",
    "\n",
    "# Check of intermediate result (7):\n",
    "#\n",
    "#if status == 'SOLN':\n",
    "#    Test.assertEquals(str(np.round(prob_10y_spx,3))[0:5], str(checker_results.loc[10, 'result']), 'Check 10 failed')"
   ]
  },
  {
   "cell_type": "code",
   "execution_count": 36,
   "metadata": {},
   "outputs": [
    {
     "data": {
      "text/plain": [
       "0.4779816118098426"
      ]
     },
     "execution_count": 36,
     "metadata": {},
     "output_type": "execute_result"
    }
   ],
   "source": [
    "prob_1y_spx2 = norm.cdf((returns_stats_annual.loc['SPX','mean']*(0.7-1))/returns_stats_annual.loc['SPX','std'])\n",
    "prob_1y_spx2"
   ]
  },
  {
   "cell_type": "code",
   "execution_count": null,
   "metadata": {},
   "outputs": [],
   "source": []
  }
 ],
 "metadata": {
  "kernelspec": {
   "display_name": "Python 3",
   "language": "python",
   "name": "python3"
  },
  "language_info": {
   "codemirror_mode": {
    "name": "ipython",
    "version": 3
   },
   "file_extension": ".py",
   "mimetype": "text/x-python",
   "name": "python",
   "nbconvert_exporter": "python",
   "pygments_lexer": "ipython3",
   "version": "3.7.3"
  }
 },
 "nbformat": 4,
 "nbformat_minor": 2
}
