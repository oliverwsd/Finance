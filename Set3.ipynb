{
  "nbformat": 4,
  "nbformat_minor": 0,
  "metadata": {
    "colab": {
      "name": "Set3.ipynb",
      "provenance": [],
      "collapsed_sections": [],
      "include_colab_link": true
    },
    "kernelspec": {
      "name": "python3",
      "display_name": "Python 3"
    }
  },
  "cells": [
    {
      "cell_type": "markdown",
      "metadata": {
        "id": "view-in-github",
        "colab_type": "text"
      },
      "source": [
        "<a href=\"https://colab.research.google.com/github/oliverwsd/finance/blob/master/Set3.ipynb\" target=\"_parent\"><img src=\"https://colab.research.google.com/assets/colab-badge.svg\" alt=\"Open In Colab\"/></a>"
      ]
    },
    {
      "cell_type": "code",
      "metadata": {
        "id": "JWDgfpNWq-4n",
        "colab_type": "code",
        "colab": {}
      },
      "source": [
        "import numpy as np\n",
        "import pandas as pd\n",
        "import statsmodels.api as sm\n",
        "import matplotlib.pyplot as plt"
      ],
      "execution_count": 0,
      "outputs": []
    },
    {
      "cell_type": "code",
      "metadata": {
        "id": "ef7xqaUvYk-B",
        "colab_type": "code",
        "colab": {}
      },
      "source": [
        "#Task 1: read returns of test assets and factors"
      ],
      "execution_count": 0,
      "outputs": []
    },
    {
      "cell_type": "code",
      "metadata": {
        "id": "aWPnD7gVwHF8",
        "colab_type": "code",
        "outputId": "d03487f1-3177-4823-c9b6-e7f3b298ee9f",
        "colab": {
          "base_uri": "https://localhost:8080/",
          "height": 206
        }
      },
      "source": [
        "from io import StringIO\n",
        "import csv\n",
        "\n",
        "\n",
        "url = 'https://raw.githubusercontent.com/oliverwsd/finance/master/16pf_bm_beta.csv'\n",
        "pf_16 = pd.read_csv(url)\n",
        "pf_16.head()"
      ],
      "execution_count": 2,
      "outputs": [
        {
          "output_type": "execute_result",
          "data": {
            "text/html": [
              "<div>\n",
              "<style scoped>\n",
              "    .dataframe tbody tr th:only-of-type {\n",
              "        vertical-align: middle;\n",
              "    }\n",
              "\n",
              "    .dataframe tbody tr th {\n",
              "        vertical-align: top;\n",
              "    }\n",
              "\n",
              "    .dataframe thead th {\n",
              "        text-align: right;\n",
              "    }\n",
              "</style>\n",
              "<table border=\"1\" class=\"dataframe\">\n",
              "  <thead>\n",
              "    <tr style=\"text-align: right;\">\n",
              "      <th></th>\n",
              "      <th>date</th>\n",
              "      <th>11</th>\n",
              "      <th>12</th>\n",
              "      <th>13</th>\n",
              "      <th>14</th>\n",
              "      <th>21</th>\n",
              "      <th>22</th>\n",
              "      <th>23</th>\n",
              "      <th>24</th>\n",
              "      <th>31</th>\n",
              "      <th>32</th>\n",
              "      <th>33</th>\n",
              "      <th>34</th>\n",
              "      <th>41</th>\n",
              "      <th>42</th>\n",
              "      <th>43</th>\n",
              "      <th>44</th>\n",
              "    </tr>\n",
              "  </thead>\n",
              "  <tbody>\n",
              "    <tr>\n",
              "      <th>0</th>\n",
              "      <td>196207</td>\n",
              "      <td>2.27</td>\n",
              "      <td>-8.57</td>\n",
              "      <td>-2.09</td>\n",
              "      <td>-2.93</td>\n",
              "      <td>0.82</td>\n",
              "      <td>-6.30</td>\n",
              "      <td>-3.96</td>\n",
              "      <td>0.94</td>\n",
              "      <td>-4.21</td>\n",
              "      <td>-3.84</td>\n",
              "      <td>-1.44</td>\n",
              "      <td>-4.38</td>\n",
              "      <td>-1.96</td>\n",
              "      <td>-4.97</td>\n",
              "      <td>-4.00</td>\n",
              "      <td>-13.47</td>\n",
              "    </tr>\n",
              "    <tr>\n",
              "      <th>1</th>\n",
              "      <td>196208</td>\n",
              "      <td>-4.76</td>\n",
              "      <td>3.27</td>\n",
              "      <td>2.72</td>\n",
              "      <td>3.80</td>\n",
              "      <td>1.86</td>\n",
              "      <td>-1.15</td>\n",
              "      <td>0.96</td>\n",
              "      <td>-0.30</td>\n",
              "      <td>-3.08</td>\n",
              "      <td>-2.59</td>\n",
              "      <td>1.49</td>\n",
              "      <td>2.26</td>\n",
              "      <td>-0.82</td>\n",
              "      <td>-1.25</td>\n",
              "      <td>1.19</td>\n",
              "      <td>-2.93</td>\n",
              "    </tr>\n",
              "    <tr>\n",
              "      <th>2</th>\n",
              "      <td>196209</td>\n",
              "      <td>-3.02</td>\n",
              "      <td>-0.28</td>\n",
              "      <td>-5.11</td>\n",
              "      <td>-6.88</td>\n",
              "      <td>-3.44</td>\n",
              "      <td>-1.62</td>\n",
              "      <td>-4.09</td>\n",
              "      <td>-8.85</td>\n",
              "      <td>-0.65</td>\n",
              "      <td>-4.05</td>\n",
              "      <td>-6.13</td>\n",
              "      <td>-4.74</td>\n",
              "      <td>-5.62</td>\n",
              "      <td>-3.10</td>\n",
              "      <td>3.56</td>\n",
              "      <td>-3.41</td>\n",
              "    </tr>\n",
              "    <tr>\n",
              "      <th>3</th>\n",
              "      <td>196210</td>\n",
              "      <td>-3.89</td>\n",
              "      <td>-7.73</td>\n",
              "      <td>-6.27</td>\n",
              "      <td>-4.37</td>\n",
              "      <td>-5.18</td>\n",
              "      <td>-6.99</td>\n",
              "      <td>-3.56</td>\n",
              "      <td>-3.16</td>\n",
              "      <td>-3.06</td>\n",
              "      <td>-5.75</td>\n",
              "      <td>-4.40</td>\n",
              "      <td>-4.98</td>\n",
              "      <td>-2.54</td>\n",
              "      <td>-4.00</td>\n",
              "      <td>1.81</td>\n",
              "      <td>-3.77</td>\n",
              "    </tr>\n",
              "    <tr>\n",
              "      <th>4</th>\n",
              "      <td>196211</td>\n",
              "      <td>13.19</td>\n",
              "      <td>13.59</td>\n",
              "      <td>17.68</td>\n",
              "      <td>28.34</td>\n",
              "      <td>16.60</td>\n",
              "      <td>17.28</td>\n",
              "      <td>22.54</td>\n",
              "      <td>22.71</td>\n",
              "      <td>5.39</td>\n",
              "      <td>14.68</td>\n",
              "      <td>17.74</td>\n",
              "      <td>15.60</td>\n",
              "      <td>7.75</td>\n",
              "      <td>11.38</td>\n",
              "      <td>7.63</td>\n",
              "      <td>12.65</td>\n",
              "    </tr>\n",
              "  </tbody>\n",
              "</table>\n",
              "</div>"
            ],
            "text/plain": [
              "     date     11     12     13     14  ...     34    41     42    43     44\n",
              "0  196207   2.27  -8.57  -2.09  -2.93  ...  -4.38 -1.96  -4.97 -4.00 -13.47\n",
              "1  196208  -4.76   3.27   2.72   3.80  ...   2.26 -0.82  -1.25  1.19  -2.93\n",
              "2  196209  -3.02  -0.28  -5.11  -6.88  ...  -4.74 -5.62  -3.10  3.56  -3.41\n",
              "3  196210  -3.89  -7.73  -6.27  -4.37  ...  -4.98 -2.54  -4.00  1.81  -3.77\n",
              "4  196211  13.19  13.59  17.68  28.34  ...  15.60  7.75  11.38  7.63  12.65\n",
              "\n",
              "[5 rows x 17 columns]"
            ]
          },
          "metadata": {
            "tags": []
          },
          "execution_count": 2
        }
      ]
    },
    {
      "cell_type": "code",
      "metadata": {
        "id": "Ub7WmO0owGnm",
        "colab_type": "code",
        "outputId": "59ef453e-7fd9-41b3-91b5-6c32764bff23",
        "colab": {
          "base_uri": "https://localhost:8080/",
          "height": 206
        }
      },
      "source": [
        "pf_16['date'] = pd.to_datetime(pf_16['date'],format='%Y%m')\n",
        "pf_16.head()"
      ],
      "execution_count": 3,
      "outputs": [
        {
          "output_type": "execute_result",
          "data": {
            "text/html": [
              "<div>\n",
              "<style scoped>\n",
              "    .dataframe tbody tr th:only-of-type {\n",
              "        vertical-align: middle;\n",
              "    }\n",
              "\n",
              "    .dataframe tbody tr th {\n",
              "        vertical-align: top;\n",
              "    }\n",
              "\n",
              "    .dataframe thead th {\n",
              "        text-align: right;\n",
              "    }\n",
              "</style>\n",
              "<table border=\"1\" class=\"dataframe\">\n",
              "  <thead>\n",
              "    <tr style=\"text-align: right;\">\n",
              "      <th></th>\n",
              "      <th>date</th>\n",
              "      <th>11</th>\n",
              "      <th>12</th>\n",
              "      <th>13</th>\n",
              "      <th>14</th>\n",
              "      <th>21</th>\n",
              "      <th>22</th>\n",
              "      <th>23</th>\n",
              "      <th>24</th>\n",
              "      <th>31</th>\n",
              "      <th>32</th>\n",
              "      <th>33</th>\n",
              "      <th>34</th>\n",
              "      <th>41</th>\n",
              "      <th>42</th>\n",
              "      <th>43</th>\n",
              "      <th>44</th>\n",
              "    </tr>\n",
              "  </thead>\n",
              "  <tbody>\n",
              "    <tr>\n",
              "      <th>0</th>\n",
              "      <td>1962-07-01</td>\n",
              "      <td>2.27</td>\n",
              "      <td>-8.57</td>\n",
              "      <td>-2.09</td>\n",
              "      <td>-2.93</td>\n",
              "      <td>0.82</td>\n",
              "      <td>-6.30</td>\n",
              "      <td>-3.96</td>\n",
              "      <td>0.94</td>\n",
              "      <td>-4.21</td>\n",
              "      <td>-3.84</td>\n",
              "      <td>-1.44</td>\n",
              "      <td>-4.38</td>\n",
              "      <td>-1.96</td>\n",
              "      <td>-4.97</td>\n",
              "      <td>-4.00</td>\n",
              "      <td>-13.47</td>\n",
              "    </tr>\n",
              "    <tr>\n",
              "      <th>1</th>\n",
              "      <td>1962-08-01</td>\n",
              "      <td>-4.76</td>\n",
              "      <td>3.27</td>\n",
              "      <td>2.72</td>\n",
              "      <td>3.80</td>\n",
              "      <td>1.86</td>\n",
              "      <td>-1.15</td>\n",
              "      <td>0.96</td>\n",
              "      <td>-0.30</td>\n",
              "      <td>-3.08</td>\n",
              "      <td>-2.59</td>\n",
              "      <td>1.49</td>\n",
              "      <td>2.26</td>\n",
              "      <td>-0.82</td>\n",
              "      <td>-1.25</td>\n",
              "      <td>1.19</td>\n",
              "      <td>-2.93</td>\n",
              "    </tr>\n",
              "    <tr>\n",
              "      <th>2</th>\n",
              "      <td>1962-09-01</td>\n",
              "      <td>-3.02</td>\n",
              "      <td>-0.28</td>\n",
              "      <td>-5.11</td>\n",
              "      <td>-6.88</td>\n",
              "      <td>-3.44</td>\n",
              "      <td>-1.62</td>\n",
              "      <td>-4.09</td>\n",
              "      <td>-8.85</td>\n",
              "      <td>-0.65</td>\n",
              "      <td>-4.05</td>\n",
              "      <td>-6.13</td>\n",
              "      <td>-4.74</td>\n",
              "      <td>-5.62</td>\n",
              "      <td>-3.10</td>\n",
              "      <td>3.56</td>\n",
              "      <td>-3.41</td>\n",
              "    </tr>\n",
              "    <tr>\n",
              "      <th>3</th>\n",
              "      <td>1962-10-01</td>\n",
              "      <td>-3.89</td>\n",
              "      <td>-7.73</td>\n",
              "      <td>-6.27</td>\n",
              "      <td>-4.37</td>\n",
              "      <td>-5.18</td>\n",
              "      <td>-6.99</td>\n",
              "      <td>-3.56</td>\n",
              "      <td>-3.16</td>\n",
              "      <td>-3.06</td>\n",
              "      <td>-5.75</td>\n",
              "      <td>-4.40</td>\n",
              "      <td>-4.98</td>\n",
              "      <td>-2.54</td>\n",
              "      <td>-4.00</td>\n",
              "      <td>1.81</td>\n",
              "      <td>-3.77</td>\n",
              "    </tr>\n",
              "    <tr>\n",
              "      <th>4</th>\n",
              "      <td>1962-11-01</td>\n",
              "      <td>13.19</td>\n",
              "      <td>13.59</td>\n",
              "      <td>17.68</td>\n",
              "      <td>28.34</td>\n",
              "      <td>16.60</td>\n",
              "      <td>17.28</td>\n",
              "      <td>22.54</td>\n",
              "      <td>22.71</td>\n",
              "      <td>5.39</td>\n",
              "      <td>14.68</td>\n",
              "      <td>17.74</td>\n",
              "      <td>15.60</td>\n",
              "      <td>7.75</td>\n",
              "      <td>11.38</td>\n",
              "      <td>7.63</td>\n",
              "      <td>12.65</td>\n",
              "    </tr>\n",
              "  </tbody>\n",
              "</table>\n",
              "</div>"
            ],
            "text/plain": [
              "        date     11     12     13     14  ...     34    41     42    43     44\n",
              "0 1962-07-01   2.27  -8.57  -2.09  -2.93  ...  -4.38 -1.96  -4.97 -4.00 -13.47\n",
              "1 1962-08-01  -4.76   3.27   2.72   3.80  ...   2.26 -0.82  -1.25  1.19  -2.93\n",
              "2 1962-09-01  -3.02  -0.28  -5.11  -6.88  ...  -4.74 -5.62  -3.10  3.56  -3.41\n",
              "3 1962-10-01  -3.89  -7.73  -6.27  -4.37  ...  -4.98 -2.54  -4.00  1.81  -3.77\n",
              "4 1962-11-01  13.19  13.59  17.68  28.34  ...  15.60  7.75  11.38  7.63  12.65\n",
              "\n",
              "[5 rows x 17 columns]"
            ]
          },
          "metadata": {
            "tags": []
          },
          "execution_count": 3
        }
      ]
    },
    {
      "cell_type": "code",
      "metadata": {
        "id": "GXVWSBGT1fxf",
        "colab_type": "code",
        "outputId": "48d2b7f2-e5a2-48ea-8e30-78529578c268",
        "colab": {
          "base_uri": "https://localhost:8080/",
          "height": 206
        }
      },
      "source": [
        "factors_url = 'https://raw.githubusercontent.com/oliverwsd/finance/master/monthly_factors.csv'\n",
        "factors = pd.read_csv(factors_url)\n",
        "factors['date'] = pd.to_datetime(factors['date'],format='%Y%m')\n",
        "factors.head()"
      ],
      "execution_count": 4,
      "outputs": [
        {
          "output_type": "execute_result",
          "data": {
            "text/html": [
              "<div>\n",
              "<style scoped>\n",
              "    .dataframe tbody tr th:only-of-type {\n",
              "        vertical-align: middle;\n",
              "    }\n",
              "\n",
              "    .dataframe tbody tr th {\n",
              "        vertical-align: top;\n",
              "    }\n",
              "\n",
              "    .dataframe thead th {\n",
              "        text-align: right;\n",
              "    }\n",
              "</style>\n",
              "<table border=\"1\" class=\"dataframe\">\n",
              "  <thead>\n",
              "    <tr style=\"text-align: right;\">\n",
              "      <th></th>\n",
              "      <th>date</th>\n",
              "      <th>rm</th>\n",
              "      <th>rf</th>\n",
              "      <th>SMB</th>\n",
              "      <th>HML</th>\n",
              "      <th>WML</th>\n",
              "    </tr>\n",
              "  </thead>\n",
              "  <tbody>\n",
              "    <tr>\n",
              "      <th>0</th>\n",
              "      <td>1962-07-01</td>\n",
              "      <td>-5.53</td>\n",
              "      <td>0.25</td>\n",
              "      <td>-0.29</td>\n",
              "      <td>-1.05</td>\n",
              "      <td>2.38</td>\n",
              "    </tr>\n",
              "    <tr>\n",
              "      <th>1</th>\n",
              "      <td>1962-08-01</td>\n",
              "      <td>6.11</td>\n",
              "      <td>0.25</td>\n",
              "      <td>-5.50</td>\n",
              "      <td>-1.63</td>\n",
              "      <td>0.80</td>\n",
              "    </tr>\n",
              "    <tr>\n",
              "      <th>2</th>\n",
              "      <td>1962-09-01</td>\n",
              "      <td>-6.32</td>\n",
              "      <td>0.26</td>\n",
              "      <td>2.26</td>\n",
              "      <td>0.14</td>\n",
              "      <td>1.94</td>\n",
              "    </tr>\n",
              "    <tr>\n",
              "      <th>3</th>\n",
              "      <td>1962-10-01</td>\n",
              "      <td>-2.03</td>\n",
              "      <td>0.24</td>\n",
              "      <td>-3.12</td>\n",
              "      <td>1.13</td>\n",
              "      <td>1.14</td>\n",
              "    </tr>\n",
              "    <tr>\n",
              "      <th>4</th>\n",
              "      <td>1962-11-01</td>\n",
              "      <td>19.29</td>\n",
              "      <td>0.24</td>\n",
              "      <td>-0.87</td>\n",
              "      <td>-9.73</td>\n",
              "      <td>-10.36</td>\n",
              "    </tr>\n",
              "  </tbody>\n",
              "</table>\n",
              "</div>"
            ],
            "text/plain": [
              "        date     rm    rf   SMB   HML    WML\n",
              "0 1962-07-01  -5.53  0.25 -0.29 -1.05   2.38\n",
              "1 1962-08-01   6.11  0.25 -5.50 -1.63   0.80\n",
              "2 1962-09-01  -6.32  0.26  2.26  0.14   1.94\n",
              "3 1962-10-01  -2.03  0.24 -3.12  1.13   1.14\n",
              "4 1962-11-01  19.29  0.24 -0.87 -9.73 -10.36"
            ]
          },
          "metadata": {
            "tags": []
          },
          "execution_count": 4
        }
      ]
    },
    {
      "cell_type": "code",
      "metadata": {
        "id": "s5NOtxjobtYZ",
        "colab_type": "code",
        "colab": {}
      },
      "source": [
        "# Read-in the factors for German market from the provided file 'monthly_factors.csv' (rf is risk free rate):\n",
        "#   1. rm (Market factor)\n",
        "#   2. SMB (Fama-French size factor)\n",
        "#   3. HML (Fama-French value factor)\n",
        "#   4. WML (Carhart momentum factor)"
      ],
      "execution_count": 0,
      "outputs": []
    },
    {
      "cell_type": "code",
      "metadata": {
        "id": "pJiAqiA52M68",
        "colab_type": "code",
        "colab": {
          "base_uri": "https://localhost:8080/",
          "height": 54
        },
        "outputId": "6feb717f-b219-419a-f9dd-399a4cff2196"
      },
      "source": [
        "# Check \n",
        "print(pf_16.loc[1,'21'])\n",
        "print(factors.loc[4,'SMB'])"
      ],
      "execution_count": 5,
      "outputs": [
        {
          "output_type": "stream",
          "text": [
            "1.86\n",
            "-0.87\n"
          ],
          "name": "stdout"
        }
      ]
    },
    {
      "cell_type": "code",
      "metadata": {
        "id": "ogMFOrw5Ye-1",
        "colab_type": "code",
        "colab": {
          "base_uri": "https://localhost:8080/",
          "height": 206
        },
        "outputId": "eae33222-93c4-4bfb-ac65-df19560d989e"
      },
      "source": [
        "# Task2: Capital Asset Pricing Model\n",
        "# Estimate the Capital Asset Pricing Model for the '11' and '44' portfolios\n",
        "X = pd.DataFrame()\n",
        "X['const'] = np.ones(len(factors['rm']))\n",
        "X['rm_excess'] = factors['rm'] - factors['rf']\n",
        "X.head()"
      ],
      "execution_count": 21,
      "outputs": [
        {
          "output_type": "execute_result",
          "data": {
            "text/html": [
              "<div>\n",
              "<style scoped>\n",
              "    .dataframe tbody tr th:only-of-type {\n",
              "        vertical-align: middle;\n",
              "    }\n",
              "\n",
              "    .dataframe tbody tr th {\n",
              "        vertical-align: top;\n",
              "    }\n",
              "\n",
              "    .dataframe thead th {\n",
              "        text-align: right;\n",
              "    }\n",
              "</style>\n",
              "<table border=\"1\" class=\"dataframe\">\n",
              "  <thead>\n",
              "    <tr style=\"text-align: right;\">\n",
              "      <th></th>\n",
              "      <th>const</th>\n",
              "      <th>rm_excess</th>\n",
              "    </tr>\n",
              "  </thead>\n",
              "  <tbody>\n",
              "    <tr>\n",
              "      <th>0</th>\n",
              "      <td>1.0</td>\n",
              "      <td>-5.78</td>\n",
              "    </tr>\n",
              "    <tr>\n",
              "      <th>1</th>\n",
              "      <td>1.0</td>\n",
              "      <td>5.86</td>\n",
              "    </tr>\n",
              "    <tr>\n",
              "      <th>2</th>\n",
              "      <td>1.0</td>\n",
              "      <td>-6.58</td>\n",
              "    </tr>\n",
              "    <tr>\n",
              "      <th>3</th>\n",
              "      <td>1.0</td>\n",
              "      <td>-2.27</td>\n",
              "    </tr>\n",
              "    <tr>\n",
              "      <th>4</th>\n",
              "      <td>1.0</td>\n",
              "      <td>19.05</td>\n",
              "    </tr>\n",
              "  </tbody>\n",
              "</table>\n",
              "</div>"
            ],
            "text/plain": [
              "   const  rm_excess\n",
              "0    1.0      -5.78\n",
              "1    1.0       5.86\n",
              "2    1.0      -6.58\n",
              "3    1.0      -2.27\n",
              "4    1.0      19.05"
            ]
          },
          "metadata": {
            "tags": []
          },
          "execution_count": 21
        }
      ]
    },
    {
      "cell_type": "code",
      "metadata": {
        "id": "g7yodeE1g9ZF",
        "colab_type": "code",
        "colab": {
          "base_uri": "https://localhost:8080/",
          "height": 206
        },
        "outputId": "2c5b491c-6c15-40ca-b4a5-aa88c9d4dd01"
      },
      "source": [
        "# Y: excess return for the 11 PF\n",
        "Y = pd.DataFrame()\n",
        "Y['11_excess'] = pf_16['11'] - factors['rf']\n",
        "Y.head()"
      ],
      "execution_count": 24,
      "outputs": [
        {
          "output_type": "execute_result",
          "data": {
            "text/html": [
              "<div>\n",
              "<style scoped>\n",
              "    .dataframe tbody tr th:only-of-type {\n",
              "        vertical-align: middle;\n",
              "    }\n",
              "\n",
              "    .dataframe tbody tr th {\n",
              "        vertical-align: top;\n",
              "    }\n",
              "\n",
              "    .dataframe thead th {\n",
              "        text-align: right;\n",
              "    }\n",
              "</style>\n",
              "<table border=\"1\" class=\"dataframe\">\n",
              "  <thead>\n",
              "    <tr style=\"text-align: right;\">\n",
              "      <th></th>\n",
              "      <th>11_excess</th>\n",
              "    </tr>\n",
              "  </thead>\n",
              "  <tbody>\n",
              "    <tr>\n",
              "      <th>0</th>\n",
              "      <td>2.02</td>\n",
              "    </tr>\n",
              "    <tr>\n",
              "      <th>1</th>\n",
              "      <td>-5.01</td>\n",
              "    </tr>\n",
              "    <tr>\n",
              "      <th>2</th>\n",
              "      <td>-3.28</td>\n",
              "    </tr>\n",
              "    <tr>\n",
              "      <th>3</th>\n",
              "      <td>-4.13</td>\n",
              "    </tr>\n",
              "    <tr>\n",
              "      <th>4</th>\n",
              "      <td>12.95</td>\n",
              "    </tr>\n",
              "  </tbody>\n",
              "</table>\n",
              "</div>"
            ],
            "text/plain": [
              "   11_excess\n",
              "0       2.02\n",
              "1      -5.01\n",
              "2      -3.28\n",
              "3      -4.13\n",
              "4      12.95"
            ]
          },
          "metadata": {
            "tags": []
          },
          "execution_count": 24
        }
      ]
    },
    {
      "cell_type": "code",
      "metadata": {
        "id": "MnFaHsxKiKA2",
        "colab_type": "code",
        "colab": {
          "base_uri": "https://localhost:8080/",
          "height": 476
        },
        "outputId": "55206c86-2243-4687-f960-251a584f6180"
      },
      "source": [
        "# Set up OLS model for 11 PF following the CAPM model: \n",
        "# r_{11} - r_f = \\alpha + \\beta * (r_M - r_f) + error_{11}\n",
        "model_11 = sm.OLS(Y,X)\n",
        "results_11 = model_11.fit()\n",
        "print(results_11.summary())"
      ],
      "execution_count": 25,
      "outputs": [
        {
          "output_type": "stream",
          "text": [
            "                            OLS Regression Results                            \n",
            "==============================================================================\n",
            "Dep. Variable:              11_excess   R-squared:                       0.312\n",
            "Model:                            OLS   Adj. R-squared:                  0.311\n",
            "Method:                 Least Squares   F-statistic:                     279.1\n",
            "Date:                Fri, 22 Nov 2019   Prob (F-statistic):           5.90e-52\n",
            "Time:                        10:13:34   Log-Likelihood:                -1437.7\n",
            "No. Observations:                 618   AIC:                             2879.\n",
            "Df Residuals:                     616   BIC:                             2888.\n",
            "Df Model:                           1                                         \n",
            "Covariance Type:            nonrobust                                         \n",
            "==============================================================================\n",
            "                 coef    std err          t      P>|t|      [0.025      0.975]\n",
            "------------------------------------------------------------------------------\n",
            "const          0.0012      0.100      0.012      0.990      -0.195       0.198\n",
            "rm_excess      0.3274      0.020     16.707      0.000       0.289       0.366\n",
            "==============================================================================\n",
            "Omnibus:                      146.144   Durbin-Watson:                   1.919\n",
            "Prob(Omnibus):                  0.000   Jarque-Bera (JB):              780.295\n",
            "Skew:                           0.938   Prob(JB):                    3.64e-170\n",
            "Kurtosis:                       8.175   Cond. No.                         5.13\n",
            "==============================================================================\n",
            "\n",
            "Warnings:\n",
            "[1] Standard Errors assume that the covariance matrix of the errors is correctly specified.\n"
          ],
          "name": "stdout"
        }
      ]
    },
    {
      "cell_type": "code",
      "metadata": {
        "id": "6NWXXE3vm8Lf",
        "colab_type": "code",
        "colab": {
          "base_uri": "https://localhost:8080/",
          "height": 476
        },
        "outputId": "00219917-4701-4ce9-9cd7-f8e51a4d0482"
      },
      "source": [
        "Y = pd.DataFrame()\n",
        "Y['44_excess'] = pf_16['44'] - factors['rf']\n",
        "Y.head()\n",
        "\n",
        "model_44 = sm.OLS(Y,X)\n",
        "results_44 = model_44.fit()\n",
        "print(results_44.summary())"
      ],
      "execution_count": 26,
      "outputs": [
        {
          "output_type": "stream",
          "text": [
            "                            OLS Regression Results                            \n",
            "==============================================================================\n",
            "Dep. Variable:              44_excess   R-squared:                       0.565\n",
            "Model:                            OLS   Adj. R-squared:                  0.565\n",
            "Method:                 Least Squares   F-statistic:                     800.8\n",
            "Date:                Fri, 22 Nov 2019   Prob (F-statistic):          1.65e-113\n",
            "Time:                        10:16:59   Log-Likelihood:                -1746.0\n",
            "No. Observations:                 618   AIC:                             3496.\n",
            "Df Residuals:                     616   BIC:                             3505.\n",
            "Df Model:                           1                                         \n",
            "Covariance Type:            nonrobust                                         \n",
            "==============================================================================\n",
            "                 coef    std err          t      P>|t|      [0.025      0.975]\n",
            "------------------------------------------------------------------------------\n",
            "const          0.1216      0.165      0.737      0.461      -0.202       0.445\n",
            "rm_excess      0.9134      0.032     28.299      0.000       0.850       0.977\n",
            "==============================================================================\n",
            "Omnibus:                       46.229   Durbin-Watson:                   1.670\n",
            "Prob(Omnibus):                  0.000   Jarque-Bera (JB):              156.900\n",
            "Skew:                           0.262   Prob(JB):                     8.50e-35\n",
            "Kurtosis:                       5.412   Cond. No.                         5.13\n",
            "==============================================================================\n",
            "\n",
            "Warnings:\n",
            "[1] Standard Errors assume that the covariance matrix of the errors is correctly specified.\n"
          ],
          "name": "stdout"
        }
      ]
    },
    {
      "cell_type": "code",
      "metadata": {
        "id": "uNBkMejDnYnu",
        "colab_type": "code",
        "colab": {
          "base_uri": "https://localhost:8080/",
          "height": 35
        },
        "outputId": "fedad7f8-f9e1-4071-fdc9-b31e2b749749"
      },
      "source": [
        "# Forecast using the CAPM\n",
        "# expected market risk preimum MRP of 6%\n",
        "# riskfree rate of 2 %\n",
        "# alpha = 0\n",
        "# Exp Ret = beta * Exp MRP \n",
        "# calculate expected return for PF 11 & 44\n",
        "# Beta estimated from above OLS\n",
        "EXP_MARKET_EXCESS_RETURN = 6\n",
        "RISKFREE = 2\n",
        "exp_ret_11 = results_11.params[1]* EXP_MARKET_EXCESS_RETURN\n",
        "exp_ret_44 = results_44.params[1]* EXP_MARKET_EXCESS_RETURN\n",
        "exp_ret_44\n",
        "# 7.48 ?"
      ],
      "execution_count": 30,
      "outputs": [
        {
          "output_type": "execute_result",
          "data": {
            "text/plain": [
              "5.480192897399658"
            ]
          },
          "metadata": {
            "tags": []
          },
          "execution_count": 30
        }
      ]
    },
    {
      "cell_type": "code",
      "metadata": {
        "id": "f2SfAFGpp1rV",
        "colab_type": "code",
        "colab": {
          "base_uri": "https://localhost:8080/",
          "height": 279
        },
        "outputId": "5e7f61e4-919d-4b57-d773-e43371786265"
      },
      "source": [
        "plt.scatter(X['rm_excess'], Y['44_excess'], label = 'return observations')\n",
        "x = np.linspace(X['rm_excess'].min(), X['rm_excess'].max(), 30)\n",
        "y = results_44.params[0] + results_44.params[1] * x\n",
        "plt.plot(x, y, label = 'CAPM-implied expected returns', color = 'black')\n",
        "plt.legend()\n",
        "plt.xlabel(\"Market excess return\")\n",
        "plt.ylabel(\"Excess return of portfolio 44\")\n",
        "plt.show()"
      ],
      "execution_count": 32,
      "outputs": [
        {
          "output_type": "display_data",
          "data": {
            "image/png": "[encoded data removed]",
            "text/plain": [
              "<Figure size 432x288 with 1 Axes>"
            ]
          },
          "metadata": {
            "tags": []
          }
        }
      ]
    },
    {
      "cell_type": "code",
      "metadata": {
        "id": "oCI-8b9lrQPT",
        "colab_type": "code",
        "colab": {
          "base_uri": "https://localhost:8080/",
          "height": 311
        },
        "outputId": "edc15c53-cff8-477f-dcb0-da002d827c3f"
      },
      "source": [
        "# Task 3: estimation of the security market line\n",
        "portfolios = ['11', '12', '13', '14', '21', '22', '23', '24', '31', '32', '33', '34', '41', '42', '43', '44']\n",
        "betas = pd.DataFrame(index = portfolios, columns = ['beta'], dtype = np.float64)\n",
        "for x in portfolios: \n",
        "  Y = pd.DataFrame()\n",
        "  Y['44_excess'] = pf_16['x'] - factors['rf']\n",
        "  model_44 = sm.OLS(Y,X).fit()\n",
        "  model_44"
      ],
      "execution_count": 36,
      "outputs": [
        {
          "output_type": "stream",
          "text": [
            "11\n",
            "12\n",
            "13\n",
            "14\n",
            "21\n",
            "22\n",
            "23\n",
            "24\n",
            "31\n",
            "32\n",
            "33\n",
            "34\n",
            "41\n",
            "42\n",
            "43\n",
            "44\n"
          ],
          "name": "stdout"
        }
      ]
    }
  ]
}