{
  "nbformat": 4,
  "nbformat_minor": 0,
  "metadata": {
    "colab": {
      "name": "Set3.ipynb",
      "provenance": [],
      "collapsed_sections": [],
      "include_colab_link": true
    },
    "kernelspec": {
      "name": "python3",
      "display_name": "Python 3"
    }
  },
  "cells": [
    {
      "cell_type": "markdown",
      "metadata": {
        "id": "view-in-github",
        "colab_type": "text"
      },
      "source": [
        "<a href=\"https://colab.research.google.com/github/oliverwsd/finance/blob/master/Set3.ipynb\" target=\"_parent\"><img src=\"https://colab.research.google.com/assets/colab-badge.svg\" alt=\"Open In Colab\"/></a>"
      ]
    },
    {
      "cell_type": "code",
      "metadata": {
        "id": "JWDgfpNWq-4n",
        "colab_type": "code",
        "colab": {}
      },
      "source": [
        "import numpy as np\n",
        "import pandas as pd\n",
        "import statsmodels.api as sm\n",
        "import matplotlib.pyplot as plt"
      ],
      "execution_count": 0,
      "outputs": []
    },
    {
      "cell_type": "code",
      "metadata": {
        "id": "ef7xqaUvYk-B",
        "colab_type": "code",
        "colab": {}
      },
      "source": [
        "#Task 1: read returns of test assets and factors"
      ],
      "execution_count": 0,
      "outputs": []
    },
    {
      "cell_type": "code",
      "metadata": {
        "id": "aWPnD7gVwHF8",
        "colab_type": "code",
        "outputId": "5a26240e-e381-4d3d-fe6a-fc9bfb9694c8",
        "colab": {
          "base_uri": "https://localhost:8080/",
          "height": 204
        }
      },
      "source": [
        "from io import StringIO\n",
        "import csv\n",
        "\n",
        "\n",
        "url = 'https://raw.githubusercontent.com/oliverwsd/finance/master/16pf_bm_beta.csv'\n",
        "pf_16 = pd.read_csv(url)\n",
        "pf_16.head()"
      ],
      "execution_count": 3,
      "outputs": [
        {
          "output_type": "execute_result",
          "data": {
            "text/html": [
              "<div>\n",
              "<style scoped>\n",
              "    .dataframe tbody tr th:only-of-type {\n",
              "        vertical-align: middle;\n",
              "    }\n",
              "\n",
              "    .dataframe tbody tr th {\n",
              "        vertical-align: top;\n",
              "    }\n",
              "\n",
              "    .dataframe thead th {\n",
              "        text-align: right;\n",
              "    }\n",
              "</style>\n",
              "<table border=\"1\" class=\"dataframe\">\n",
              "  <thead>\n",
              "    <tr style=\"text-align: right;\">\n",
              "      <th></th>\n",
              "      <th>date</th>\n",
              "      <th>11</th>\n",
              "      <th>12</th>\n",
              "      <th>13</th>\n",
              "      <th>14</th>\n",
              "      <th>21</th>\n",
              "      <th>22</th>\n",
              "      <th>23</th>\n",
              "      <th>24</th>\n",
              "      <th>31</th>\n",
              "      <th>32</th>\n",
              "      <th>33</th>\n",
              "      <th>34</th>\n",
              "      <th>41</th>\n",
              "      <th>42</th>\n",
              "      <th>43</th>\n",
              "      <th>44</th>\n",
              "    </tr>\n",
              "  </thead>\n",
              "  <tbody>\n",
              "    <tr>\n",
              "      <th>0</th>\n",
              "      <td>196207</td>\n",
              "      <td>2.27</td>\n",
              "      <td>-8.57</td>\n",
              "      <td>-2.09</td>\n",
              "      <td>-2.93</td>\n",
              "      <td>0.82</td>\n",
              "      <td>-6.30</td>\n",
              "      <td>-3.96</td>\n",
              "      <td>0.94</td>\n",
              "      <td>-4.21</td>\n",
              "      <td>-3.84</td>\n",
              "      <td>-1.44</td>\n",
              "      <td>-4.38</td>\n",
              "      <td>-1.96</td>\n",
              "      <td>-4.97</td>\n",
              "      <td>-4.00</td>\n",
              "      <td>-13.47</td>\n",
              "    </tr>\n",
              "    <tr>\n",
              "      <th>1</th>\n",
              "      <td>196208</td>\n",
              "      <td>-4.76</td>\n",
              "      <td>3.27</td>\n",
              "      <td>2.72</td>\n",
              "      <td>3.80</td>\n",
              "      <td>1.86</td>\n",
              "      <td>-1.15</td>\n",
              "      <td>0.96</td>\n",
              "      <td>-0.30</td>\n",
              "      <td>-3.08</td>\n",
              "      <td>-2.59</td>\n",
              "      <td>1.49</td>\n",
              "      <td>2.26</td>\n",
              "      <td>-0.82</td>\n",
              "      <td>-1.25</td>\n",
              "      <td>1.19</td>\n",
              "      <td>-2.93</td>\n",
              "    </tr>\n",
              "    <tr>\n",
              "      <th>2</th>\n",
              "      <td>196209</td>\n",
              "      <td>-3.02</td>\n",
              "      <td>-0.28</td>\n",
              "      <td>-5.11</td>\n",
              "      <td>-6.88</td>\n",
              "      <td>-3.44</td>\n",
              "      <td>-1.62</td>\n",
              "      <td>-4.09</td>\n",
              "      <td>-8.85</td>\n",
              "      <td>-0.65</td>\n",
              "      <td>-4.05</td>\n",
              "      <td>-6.13</td>\n",
              "      <td>-4.74</td>\n",
              "      <td>-5.62</td>\n",
              "      <td>-3.10</td>\n",
              "      <td>3.56</td>\n",
              "      <td>-3.41</td>\n",
              "    </tr>\n",
              "    <tr>\n",
              "      <th>3</th>\n",
              "      <td>196210</td>\n",
              "      <td>-3.89</td>\n",
              "      <td>-7.73</td>\n",
              "      <td>-6.27</td>\n",
              "      <td>-4.37</td>\n",
              "      <td>-5.18</td>\n",
              "      <td>-6.99</td>\n",
              "      <td>-3.56</td>\n",
              "      <td>-3.16</td>\n",
              "      <td>-3.06</td>\n",
              "      <td>-5.75</td>\n",
              "      <td>-4.40</td>\n",
              "      <td>-4.98</td>\n",
              "      <td>-2.54</td>\n",
              "      <td>-4.00</td>\n",
              "      <td>1.81</td>\n",
              "      <td>-3.77</td>\n",
              "    </tr>\n",
              "    <tr>\n",
              "      <th>4</th>\n",
              "      <td>196211</td>\n",
              "      <td>13.19</td>\n",
              "      <td>13.59</td>\n",
              "      <td>17.68</td>\n",
              "      <td>28.34</td>\n",
              "      <td>16.60</td>\n",
              "      <td>17.28</td>\n",
              "      <td>22.54</td>\n",
              "      <td>22.71</td>\n",
              "      <td>5.39</td>\n",
              "      <td>14.68</td>\n",
              "      <td>17.74</td>\n",
              "      <td>15.60</td>\n",
              "      <td>7.75</td>\n",
              "      <td>11.38</td>\n",
              "      <td>7.63</td>\n",
              "      <td>12.65</td>\n",
              "    </tr>\n",
              "  </tbody>\n",
              "</table>\n",
              "</div>"
            ],
            "text/plain": [
              "     date     11     12     13     14  ...     34    41     42    43     44\n",
              "0  196207   2.27  -8.57  -2.09  -2.93  ...  -4.38 -1.96  -4.97 -4.00 -13.47\n",
              "1  196208  -4.76   3.27   2.72   3.80  ...   2.26 -0.82  -1.25  1.19  -2.93\n",
              "2  196209  -3.02  -0.28  -5.11  -6.88  ...  -4.74 -5.62  -3.10  3.56  -3.41\n",
              "3  196210  -3.89  -7.73  -6.27  -4.37  ...  -4.98 -2.54  -4.00  1.81  -3.77\n",
              "4  196211  13.19  13.59  17.68  28.34  ...  15.60  7.75  11.38  7.63  12.65\n",
              "\n",
              "[5 rows x 17 columns]"
            ]
          },
          "metadata": {
            "tags": []
          },
          "execution_count": 3
        }
      ]
    },
    {
      "cell_type": "code",
      "metadata": {
        "id": "Ub7WmO0owGnm",
        "colab_type": "code",
        "outputId": "fbdcd450-3558-4eb1-ddd7-4dfe32e466ac",
        "colab": {
          "base_uri": "https://localhost:8080/",
          "height": 204
        }
      },
      "source": [
        "pf_16['date'] = pd.to_datetime(pf_16['date'],format='%Y%m')\n",
        "pf_16.head()"
      ],
      "execution_count": 4,
      "outputs": [
        {
          "output_type": "execute_result",
          "data": {
            "text/html": [
              "<div>\n",
              "<style scoped>\n",
              "    .dataframe tbody tr th:only-of-type {\n",
              "        vertical-align: middle;\n",
              "    }\n",
              "\n",
              "    .dataframe tbody tr th {\n",
              "        vertical-align: top;\n",
              "    }\n",
              "\n",
              "    .dataframe thead th {\n",
              "        text-align: right;\n",
              "    }\n",
              "</style>\n",
              "<table border=\"1\" class=\"dataframe\">\n",
              "  <thead>\n",
              "    <tr style=\"text-align: right;\">\n",
              "      <th></th>\n",
              "      <th>date</th>\n",
              "      <th>11</th>\n",
              "      <th>12</th>\n",
              "      <th>13</th>\n",
              "      <th>14</th>\n",
              "      <th>21</th>\n",
              "      <th>22</th>\n",
              "      <th>23</th>\n",
              "      <th>24</th>\n",
              "      <th>31</th>\n",
              "      <th>32</th>\n",
              "      <th>33</th>\n",
              "      <th>34</th>\n",
              "      <th>41</th>\n",
              "      <th>42</th>\n",
              "      <th>43</th>\n",
              "      <th>44</th>\n",
              "    </tr>\n",
              "  </thead>\n",
              "  <tbody>\n",
              "    <tr>\n",
              "      <th>0</th>\n",
              "      <td>1962-07-01</td>\n",
              "      <td>2.27</td>\n",
              "      <td>-8.57</td>\n",
              "      <td>-2.09</td>\n",
              "      <td>-2.93</td>\n",
              "      <td>0.82</td>\n",
              "      <td>-6.30</td>\n",
              "      <td>-3.96</td>\n",
              "      <td>0.94</td>\n",
              "      <td>-4.21</td>\n",
              "      <td>-3.84</td>\n",
              "      <td>-1.44</td>\n",
              "      <td>-4.38</td>\n",
              "      <td>-1.96</td>\n",
              "      <td>-4.97</td>\n",
              "      <td>-4.00</td>\n",
              "      <td>-13.47</td>\n",
              "    </tr>\n",
              "    <tr>\n",
              "      <th>1</th>\n",
              "      <td>1962-08-01</td>\n",
              "      <td>-4.76</td>\n",
              "      <td>3.27</td>\n",
              "      <td>2.72</td>\n",
              "      <td>3.80</td>\n",
              "      <td>1.86</td>\n",
              "      <td>-1.15</td>\n",
              "      <td>0.96</td>\n",
              "      <td>-0.30</td>\n",
              "      <td>-3.08</td>\n",
              "      <td>-2.59</td>\n",
              "      <td>1.49</td>\n",
              "      <td>2.26</td>\n",
              "      <td>-0.82</td>\n",
              "      <td>-1.25</td>\n",
              "      <td>1.19</td>\n",
              "      <td>-2.93</td>\n",
              "    </tr>\n",
              "    <tr>\n",
              "      <th>2</th>\n",
              "      <td>1962-09-01</td>\n",
              "      <td>-3.02</td>\n",
              "      <td>-0.28</td>\n",
              "      <td>-5.11</td>\n",
              "      <td>-6.88</td>\n",
              "      <td>-3.44</td>\n",
              "      <td>-1.62</td>\n",
              "      <td>-4.09</td>\n",
              "      <td>-8.85</td>\n",
              "      <td>-0.65</td>\n",
              "      <td>-4.05</td>\n",
              "      <td>-6.13</td>\n",
              "      <td>-4.74</td>\n",
              "      <td>-5.62</td>\n",
              "      <td>-3.10</td>\n",
              "      <td>3.56</td>\n",
              "      <td>-3.41</td>\n",
              "    </tr>\n",
              "    <tr>\n",
              "      <th>3</th>\n",
              "      <td>1962-10-01</td>\n",
              "      <td>-3.89</td>\n",
              "      <td>-7.73</td>\n",
              "      <td>-6.27</td>\n",
              "      <td>-4.37</td>\n",
              "      <td>-5.18</td>\n",
              "      <td>-6.99</td>\n",
              "      <td>-3.56</td>\n",
              "      <td>-3.16</td>\n",
              "      <td>-3.06</td>\n",
              "      <td>-5.75</td>\n",
              "      <td>-4.40</td>\n",
              "      <td>-4.98</td>\n",
              "      <td>-2.54</td>\n",
              "      <td>-4.00</td>\n",
              "      <td>1.81</td>\n",
              "      <td>-3.77</td>\n",
              "    </tr>\n",
              "    <tr>\n",
              "      <th>4</th>\n",
              "      <td>1962-11-01</td>\n",
              "      <td>13.19</td>\n",
              "      <td>13.59</td>\n",
              "      <td>17.68</td>\n",
              "      <td>28.34</td>\n",
              "      <td>16.60</td>\n",
              "      <td>17.28</td>\n",
              "      <td>22.54</td>\n",
              "      <td>22.71</td>\n",
              "      <td>5.39</td>\n",
              "      <td>14.68</td>\n",
              "      <td>17.74</td>\n",
              "      <td>15.60</td>\n",
              "      <td>7.75</td>\n",
              "      <td>11.38</td>\n",
              "      <td>7.63</td>\n",
              "      <td>12.65</td>\n",
              "    </tr>\n",
              "  </tbody>\n",
              "</table>\n",
              "</div>"
            ],
            "text/plain": [
              "        date     11     12     13     14  ...     34    41     42    43     44\n",
              "0 1962-07-01   2.27  -8.57  -2.09  -2.93  ...  -4.38 -1.96  -4.97 -4.00 -13.47\n",
              "1 1962-08-01  -4.76   3.27   2.72   3.80  ...   2.26 -0.82  -1.25  1.19  -2.93\n",
              "2 1962-09-01  -3.02  -0.28  -5.11  -6.88  ...  -4.74 -5.62  -3.10  3.56  -3.41\n",
              "3 1962-10-01  -3.89  -7.73  -6.27  -4.37  ...  -4.98 -2.54  -4.00  1.81  -3.77\n",
              "4 1962-11-01  13.19  13.59  17.68  28.34  ...  15.60  7.75  11.38  7.63  12.65\n",
              "\n",
              "[5 rows x 17 columns]"
            ]
          },
          "metadata": {
            "tags": []
          },
          "execution_count": 4
        }
      ]
    },
    {
      "cell_type": "code",
      "metadata": {
        "id": "GXVWSBGT1fxf",
        "colab_type": "code",
        "outputId": "d19f0635-0fb1-4f00-c278-a46559ba4f9a",
        "colab": {
          "base_uri": "https://localhost:8080/",
          "height": 204
        }
      },
      "source": [
        "factors_url = 'https://raw.githubusercontent.com/oliverwsd/finance/master/monthly_factors.csv'\n",
        "factors = pd.read_csv(factors_url)\n",
        "factors['date'] = pd.to_datetime(factors['date'],format='%Y%m')\n",
        "factors.head()"
      ],
      "execution_count": 5,
      "outputs": [
        {
          "output_type": "execute_result",
          "data": {
            "text/html": [
              "<div>\n",
              "<style scoped>\n",
              "    .dataframe tbody tr th:only-of-type {\n",
              "        vertical-align: middle;\n",
              "    }\n",
              "\n",
              "    .dataframe tbody tr th {\n",
              "        vertical-align: top;\n",
              "    }\n",
              "\n",
              "    .dataframe thead th {\n",
              "        text-align: right;\n",
              "    }\n",
              "</style>\n",
              "<table border=\"1\" class=\"dataframe\">\n",
              "  <thead>\n",
              "    <tr style=\"text-align: right;\">\n",
              "      <th></th>\n",
              "      <th>date</th>\n",
              "      <th>rm</th>\n",
              "      <th>rf</th>\n",
              "      <th>SMB</th>\n",
              "      <th>HML</th>\n",
              "      <th>WML</th>\n",
              "    </tr>\n",
              "  </thead>\n",
              "  <tbody>\n",
              "    <tr>\n",
              "      <th>0</th>\n",
              "      <td>1962-07-01</td>\n",
              "      <td>-5.53</td>\n",
              "      <td>0.25</td>\n",
              "      <td>-0.29</td>\n",
              "      <td>-1.05</td>\n",
              "      <td>2.38</td>\n",
              "    </tr>\n",
              "    <tr>\n",
              "      <th>1</th>\n",
              "      <td>1962-08-01</td>\n",
              "      <td>6.11</td>\n",
              "      <td>0.25</td>\n",
              "      <td>-5.50</td>\n",
              "      <td>-1.63</td>\n",
              "      <td>0.80</td>\n",
              "    </tr>\n",
              "    <tr>\n",
              "      <th>2</th>\n",
              "      <td>1962-09-01</td>\n",
              "      <td>-6.32</td>\n",
              "      <td>0.26</td>\n",
              "      <td>2.26</td>\n",
              "      <td>0.14</td>\n",
              "      <td>1.94</td>\n",
              "    </tr>\n",
              "    <tr>\n",
              "      <th>3</th>\n",
              "      <td>1962-10-01</td>\n",
              "      <td>-2.03</td>\n",
              "      <td>0.24</td>\n",
              "      <td>-3.12</td>\n",
              "      <td>1.13</td>\n",
              "      <td>1.14</td>\n",
              "    </tr>\n",
              "    <tr>\n",
              "      <th>4</th>\n",
              "      <td>1962-11-01</td>\n",
              "      <td>19.29</td>\n",
              "      <td>0.24</td>\n",
              "      <td>-0.87</td>\n",
              "      <td>-9.73</td>\n",
              "      <td>-10.36</td>\n",
              "    </tr>\n",
              "  </tbody>\n",
              "</table>\n",
              "</div>"
            ],
            "text/plain": [
              "        date     rm    rf   SMB   HML    WML\n",
              "0 1962-07-01  -5.53  0.25 -0.29 -1.05   2.38\n",
              "1 1962-08-01   6.11  0.25 -5.50 -1.63   0.80\n",
              "2 1962-09-01  -6.32  0.26  2.26  0.14   1.94\n",
              "3 1962-10-01  -2.03  0.24 -3.12  1.13   1.14\n",
              "4 1962-11-01  19.29  0.24 -0.87 -9.73 -10.36"
            ]
          },
          "metadata": {
            "tags": []
          },
          "execution_count": 5
        }
      ]
    },
    {
      "cell_type": "code",
      "metadata": {
        "id": "s5NOtxjobtYZ",
        "colab_type": "code",
        "colab": {}
      },
      "source": [
        "# Read-in the factors for German market from the provided file 'monthly_factors.csv' (rf is risk free rate):\n",
        "#   1. rm (Market factor)\n",
        "#   2. SMB (Fama-French size factor)\n",
        "#   3. HML (Fama-French value factor)\n",
        "#   4. WML (Carhart momentum factor)"
      ],
      "execution_count": 0,
      "outputs": []
    },
    {
      "cell_type": "code",
      "metadata": {
        "id": "pJiAqiA52M68",
        "colab_type": "code",
        "outputId": "48530edc-91dd-4a94-8617-c573b0795da6",
        "colab": {
          "base_uri": "https://localhost:8080/",
          "height": 53
        }
      },
      "source": [
        "# Check \n",
        "print(pf_16.loc[1,'21'])\n",
        "print(factors.loc[4,'SMB'])"
      ],
      "execution_count": 7,
      "outputs": [
        {
          "output_type": "stream",
          "text": [
            "1.86\n",
            "-0.87\n"
          ],
          "name": "stdout"
        }
      ]
    },
    {
      "cell_type": "code",
      "metadata": {
        "id": "ogMFOrw5Ye-1",
        "colab_type": "code",
        "outputId": "c951c151-bd63-4a48-fff9-61da1912c4f9",
        "colab": {
          "base_uri": "https://localhost:8080/",
          "height": 204
        }
      },
      "source": [
        "# Task2: Capital Asset Pricing Model\n",
        "# Estimate the Capital Asset Pricing Model for the '11' and '44' portfolios\n",
        "X = pd.DataFrame()\n",
        "X['const'] = np.ones(len(factors['rm']))\n",
        "X['rm_excess'] = factors['rm'] - factors['rf']\n",
        "X.head()"
      ],
      "execution_count": 8,
      "outputs": [
        {
          "output_type": "execute_result",
          "data": {
            "text/html": [
              "<div>\n",
              "<style scoped>\n",
              "    .dataframe tbody tr th:only-of-type {\n",
              "        vertical-align: middle;\n",
              "    }\n",
              "\n",
              "    .dataframe tbody tr th {\n",
              "        vertical-align: top;\n",
              "    }\n",
              "\n",
              "    .dataframe thead th {\n",
              "        text-align: right;\n",
              "    }\n",
              "</style>\n",
              "<table border=\"1\" class=\"dataframe\">\n",
              "  <thead>\n",
              "    <tr style=\"text-align: right;\">\n",
              "      <th></th>\n",
              "      <th>const</th>\n",
              "      <th>rm_excess</th>\n",
              "    </tr>\n",
              "  </thead>\n",
              "  <tbody>\n",
              "    <tr>\n",
              "      <th>0</th>\n",
              "      <td>1.0</td>\n",
              "      <td>-5.78</td>\n",
              "    </tr>\n",
              "    <tr>\n",
              "      <th>1</th>\n",
              "      <td>1.0</td>\n",
              "      <td>5.86</td>\n",
              "    </tr>\n",
              "    <tr>\n",
              "      <th>2</th>\n",
              "      <td>1.0</td>\n",
              "      <td>-6.58</td>\n",
              "    </tr>\n",
              "    <tr>\n",
              "      <th>3</th>\n",
              "      <td>1.0</td>\n",
              "      <td>-2.27</td>\n",
              "    </tr>\n",
              "    <tr>\n",
              "      <th>4</th>\n",
              "      <td>1.0</td>\n",
              "      <td>19.05</td>\n",
              "    </tr>\n",
              "  </tbody>\n",
              "</table>\n",
              "</div>"
            ],
            "text/plain": [
              "   const  rm_excess\n",
              "0    1.0      -5.78\n",
              "1    1.0       5.86\n",
              "2    1.0      -6.58\n",
              "3    1.0      -2.27\n",
              "4    1.0      19.05"
            ]
          },
          "metadata": {
            "tags": []
          },
          "execution_count": 8
        }
      ]
    },
    {
      "cell_type": "code",
      "metadata": {
        "id": "g7yodeE1g9ZF",
        "colab_type": "code",
        "outputId": "d3483b0b-c3c6-4add-8288-4cb2c2c15122",
        "colab": {
          "base_uri": "https://localhost:8080/",
          "height": 204
        }
      },
      "source": [
        "# Y: excess return for the 11 PF\n",
        "Y = pd.DataFrame()\n",
        "Y['11_excess'] = pf_16['11'] - factors['rf']\n",
        "Y.head()"
      ],
      "execution_count": 9,
      "outputs": [
        {
          "output_type": "execute_result",
          "data": {
            "text/html": [
              "<div>\n",
              "<style scoped>\n",
              "    .dataframe tbody tr th:only-of-type {\n",
              "        vertical-align: middle;\n",
              "    }\n",
              "\n",
              "    .dataframe tbody tr th {\n",
              "        vertical-align: top;\n",
              "    }\n",
              "\n",
              "    .dataframe thead th {\n",
              "        text-align: right;\n",
              "    }\n",
              "</style>\n",
              "<table border=\"1\" class=\"dataframe\">\n",
              "  <thead>\n",
              "    <tr style=\"text-align: right;\">\n",
              "      <th></th>\n",
              "      <th>11_excess</th>\n",
              "    </tr>\n",
              "  </thead>\n",
              "  <tbody>\n",
              "    <tr>\n",
              "      <th>0</th>\n",
              "      <td>2.02</td>\n",
              "    </tr>\n",
              "    <tr>\n",
              "      <th>1</th>\n",
              "      <td>-5.01</td>\n",
              "    </tr>\n",
              "    <tr>\n",
              "      <th>2</th>\n",
              "      <td>-3.28</td>\n",
              "    </tr>\n",
              "    <tr>\n",
              "      <th>3</th>\n",
              "      <td>-4.13</td>\n",
              "    </tr>\n",
              "    <tr>\n",
              "      <th>4</th>\n",
              "      <td>12.95</td>\n",
              "    </tr>\n",
              "  </tbody>\n",
              "</table>\n",
              "</div>"
            ],
            "text/plain": [
              "   11_excess\n",
              "0       2.02\n",
              "1      -5.01\n",
              "2      -3.28\n",
              "3      -4.13\n",
              "4      12.95"
            ]
          },
          "metadata": {
            "tags": []
          },
          "execution_count": 9
        }
      ]
    },
    {
      "cell_type": "code",
      "metadata": {
        "id": "MnFaHsxKiKA2",
        "colab_type": "code",
        "outputId": "919e4a33-1abe-4335-d4d0-a74ccb816d1d",
        "colab": {
          "base_uri": "https://localhost:8080/",
          "height": 467
        }
      },
      "source": [
        "# Set up OLS model for 11 PF following the CAPM model: \n",
        "# r_{11} - r_f = \\alpha + \\beta * (r_M - r_f) + error_{11}\n",
        "model_11 = sm.OLS(Y,X)\n",
        "results_11 = model_11.fit()\n",
        "print(results_11.summary())"
      ],
      "execution_count": 10,
      "outputs": [
        {
          "output_type": "stream",
          "text": [
            "                            OLS Regression Results                            \n",
            "==============================================================================\n",
            "Dep. Variable:              11_excess   R-squared:                       0.312\n",
            "Model:                            OLS   Adj. R-squared:                  0.311\n",
            "Method:                 Least Squares   F-statistic:                     279.1\n",
            "Date:                Sun, 24 Nov 2019   Prob (F-statistic):           5.90e-52\n",
            "Time:                        12:59:30   Log-Likelihood:                -1437.7\n",
            "No. Observations:                 618   AIC:                             2879.\n",
            "Df Residuals:                     616   BIC:                             2888.\n",
            "Df Model:                           1                                         \n",
            "Covariance Type:            nonrobust                                         \n",
            "==============================================================================\n",
            "                 coef    std err          t      P>|t|      [0.025      0.975]\n",
            "------------------------------------------------------------------------------\n",
            "const          0.0012      0.100      0.012      0.990      -0.195       0.198\n",
            "rm_excess      0.3274      0.020     16.707      0.000       0.289       0.366\n",
            "==============================================================================\n",
            "Omnibus:                      146.144   Durbin-Watson:                   1.919\n",
            "Prob(Omnibus):                  0.000   Jarque-Bera (JB):              780.295\n",
            "Skew:                           0.938   Prob(JB):                    3.64e-170\n",
            "Kurtosis:                       8.175   Cond. No.                         5.13\n",
            "==============================================================================\n",
            "\n",
            "Warnings:\n",
            "[1] Standard Errors assume that the covariance matrix of the errors is correctly specified.\n"
          ],
          "name": "stdout"
        }
      ]
    },
    {
      "cell_type": "code",
      "metadata": {
        "id": "6NWXXE3vm8Lf",
        "colab_type": "code",
        "outputId": "a3f26c14-905b-480c-fc24-ec36f57e3f9d",
        "colab": {
          "base_uri": "https://localhost:8080/",
          "height": 467
        }
      },
      "source": [
        "Y = pd.DataFrame()\n",
        "Y['44_excess'] = pf_16['44'] - factors['rf']\n",
        "Y.head()\n",
        "\n",
        "model_44 = sm.OLS(Y,X)\n",
        "results_44 = model_44.fit()\n",
        "print(results_44.summary())"
      ],
      "execution_count": 11,
      "outputs": [
        {
          "output_type": "stream",
          "text": [
            "                            OLS Regression Results                            \n",
            "==============================================================================\n",
            "Dep. Variable:              44_excess   R-squared:                       0.565\n",
            "Model:                            OLS   Adj. R-squared:                  0.565\n",
            "Method:                 Least Squares   F-statistic:                     800.8\n",
            "Date:                Sun, 24 Nov 2019   Prob (F-statistic):          1.65e-113\n",
            "Time:                        12:59:30   Log-Likelihood:                -1746.0\n",
            "No. Observations:                 618   AIC:                             3496.\n",
            "Df Residuals:                     616   BIC:                             3505.\n",
            "Df Model:                           1                                         \n",
            "Covariance Type:            nonrobust                                         \n",
            "==============================================================================\n",
            "                 coef    std err          t      P>|t|      [0.025      0.975]\n",
            "------------------------------------------------------------------------------\n",
            "const          0.1216      0.165      0.737      0.461      -0.202       0.445\n",
            "rm_excess      0.9134      0.032     28.299      0.000       0.850       0.977\n",
            "==============================================================================\n",
            "Omnibus:                       46.229   Durbin-Watson:                   1.670\n",
            "Prob(Omnibus):                  0.000   Jarque-Bera (JB):              156.900\n",
            "Skew:                           0.262   Prob(JB):                     8.50e-35\n",
            "Kurtosis:                       5.412   Cond. No.                         5.13\n",
            "==============================================================================\n",
            "\n",
            "Warnings:\n",
            "[1] Standard Errors assume that the covariance matrix of the errors is correctly specified.\n"
          ],
          "name": "stdout"
        }
      ]
    },
    {
      "cell_type": "code",
      "metadata": {
        "id": "uNBkMejDnYnu",
        "colab_type": "code",
        "outputId": "4a9e84ca-935e-4565-9bad-69093efcb0d8",
        "colab": {
          "base_uri": "https://localhost:8080/",
          "height": 35
        }
      },
      "source": [
        "# Forecast using the CAPM\n",
        "# expected market risk preimum MRP of 6%\n",
        "# riskfree rate of 2 %\n",
        "# alpha = 0\n",
        "# Exp Ret = beta * Exp MRP \n",
        "# calculate expected return for PF 11 & 44\n",
        "# Beta estimated from above OLS\n",
        "EXP_MARKET_EXCESS_RETURN = 6\n",
        "RISKFREE = 2\n",
        "exp_ret_11 = results_11.params[1]* EXP_MARKET_EXCESS_RETURN + RISKFREE\n",
        "exp_ret_44 = results_44.params[1]* EXP_MARKET_EXCESS_RETURN + RISKFREE\n",
        "exp_ret_44"
      ],
      "execution_count": 12,
      "outputs": [
        {
          "output_type": "execute_result",
          "data": {
            "text/plain": [
              "7.480192897399658"
            ]
          },
          "metadata": {
            "tags": []
          },
          "execution_count": 12
        }
      ]
    },
    {
      "cell_type": "code",
      "metadata": {
        "id": "f2SfAFGpp1rV",
        "colab_type": "code",
        "outputId": "88f49b4e-e560-4a2a-c613-6c45c75097e7",
        "colab": {
          "base_uri": "https://localhost:8080/",
          "height": 279
        }
      },
      "source": [
        "plt.scatter(X['rm_excess'], Y['44_excess'], label = 'return observations')\n",
        "x = np.linspace(X['rm_excess'].min(), X['rm_excess'].max(), 30)\n",
        "y = results_44.params[0] + results_44.params[1] * x\n",
        "plt.plot(x, y, label = 'CAPM-implied expected returns', color = 'black')\n",
        "plt.legend()\n",
        "plt.xlabel(\"Market excess return\")\n",
        "plt.ylabel(\"Excess return of portfolio 44\")\n",
        "plt.show()"
      ],
      "execution_count": 13,
      "outputs": [
        {
          "output_type": "display_data",
          "data": {
            "image/png": "[encoded data removed]",
            "text/plain": [
              "<Figure size 432x288 with 1 Axes>"
            ]
          },
          "metadata": {
            "tags": []
          }
        }
      ]
    },
    {
      "cell_type": "code",
      "metadata": {
        "id": "oCI-8b9lrQPT",
        "colab_type": "code",
        "outputId": "e918aaf4-7e48-4167-81f8-f2798fec860d",
        "colab": {
          "base_uri": "https://localhost:8080/",
          "height": 545
        }
      },
      "source": [
        "# Task 3: estimation of the security market line\n",
        "portfolios = ['11', '12', '13', '14', '21', '22', '23', '24', '31', '32', '33', '34', '41', '42', '43', '44']\n",
        "betas = pd.DataFrame(index = portfolios, columns = ['beta'], dtype = np.float64)\n",
        "for x in portfolios: \n",
        "  Y = pd.DataFrame()\n",
        "  Y['excess'] = pf_16[x] - factors['rf']\n",
        "  model_pf = sm.OLS(Y,X).fit()\n",
        "  betas.loc[x,'beta'] = model_pf.params[1]\n",
        "betas"
      ],
      "execution_count": 14,
      "outputs": [
        {
          "output_type": "execute_result",
          "data": {
            "text/html": [
              "<div>\n",
              "<style scoped>\n",
              "    .dataframe tbody tr th:only-of-type {\n",
              "        vertical-align: middle;\n",
              "    }\n",
              "\n",
              "    .dataframe tbody tr th {\n",
              "        vertical-align: top;\n",
              "    }\n",
              "\n",
              "    .dataframe thead th {\n",
              "        text-align: right;\n",
              "    }\n",
              "</style>\n",
              "<table border=\"1\" class=\"dataframe\">\n",
              "  <thead>\n",
              "    <tr style=\"text-align: right;\">\n",
              "      <th></th>\n",
              "      <th>beta</th>\n",
              "    </tr>\n",
              "  </thead>\n",
              "  <tbody>\n",
              "    <tr>\n",
              "      <th>11</th>\n",
              "      <td>0.327393</td>\n",
              "    </tr>\n",
              "    <tr>\n",
              "      <th>12</th>\n",
              "      <td>0.481310</td>\n",
              "    </tr>\n",
              "    <tr>\n",
              "      <th>13</th>\n",
              "      <td>0.732004</td>\n",
              "    </tr>\n",
              "    <tr>\n",
              "      <th>14</th>\n",
              "      <td>1.015993</td>\n",
              "    </tr>\n",
              "    <tr>\n",
              "      <th>21</th>\n",
              "      <td>0.367393</td>\n",
              "    </tr>\n",
              "    <tr>\n",
              "      <th>22</th>\n",
              "      <td>0.575950</td>\n",
              "    </tr>\n",
              "    <tr>\n",
              "      <th>23</th>\n",
              "      <td>0.780538</td>\n",
              "    </tr>\n",
              "    <tr>\n",
              "      <th>24</th>\n",
              "      <td>0.949568</td>\n",
              "    </tr>\n",
              "    <tr>\n",
              "      <th>31</th>\n",
              "      <td>0.359491</td>\n",
              "    </tr>\n",
              "    <tr>\n",
              "      <th>32</th>\n",
              "      <td>0.544161</td>\n",
              "    </tr>\n",
              "    <tr>\n",
              "      <th>33</th>\n",
              "      <td>0.714234</td>\n",
              "    </tr>\n",
              "    <tr>\n",
              "      <th>34</th>\n",
              "      <td>0.963754</td>\n",
              "    </tr>\n",
              "    <tr>\n",
              "      <th>41</th>\n",
              "      <td>0.436475</td>\n",
              "    </tr>\n",
              "    <tr>\n",
              "      <th>42</th>\n",
              "      <td>0.587558</td>\n",
              "    </tr>\n",
              "    <tr>\n",
              "      <th>43</th>\n",
              "      <td>0.740806</td>\n",
              "    </tr>\n",
              "    <tr>\n",
              "      <th>44</th>\n",
              "      <td>0.913365</td>\n",
              "    </tr>\n",
              "  </tbody>\n",
              "</table>\n",
              "</div>"
            ],
            "text/plain": [
              "        beta\n",
              "11  0.327393\n",
              "12  0.481310\n",
              "13  0.732004\n",
              "14  1.015993\n",
              "21  0.367393\n",
              "22  0.575950\n",
              "23  0.780538\n",
              "24  0.949568\n",
              "31  0.359491\n",
              "32  0.544161\n",
              "33  0.714234\n",
              "34  0.963754\n",
              "41  0.436475\n",
              "42  0.587558\n",
              "43  0.740806\n",
              "44  0.913365"
            ]
          },
          "metadata": {
            "tags": []
          },
          "execution_count": 14
        }
      ]
    },
    {
      "cell_type": "code",
      "metadata": {
        "id": "xARUnVGx71jP",
        "colab_type": "code",
        "outputId": "f6a0779a-8654-418a-ba3f-0c6671a5a0d5",
        "colab": {
          "base_uri": "https://localhost:8080/",
          "height": 125
        }
      },
      "source": [
        "# Now we enter the second stage of the estimation of the securities market line (SML). Recall the\n",
        "# equation for the securities market line:\n",
        "#                  r_i - r_f = \\gamma * \\beta_i + error_i\n",
        "# You now have beta estimates for each portfolio. You also have monthly (excess) return observations\n",
        "# for each portfolio. Hence, we can even estimate gamma for each month separately:\n",
        "#                  r_{i,t} - r_{f,t} = \\gamma_t * beta_i + error_{i,t},\n",
        "# where t indicates the point of time.\n",
        "# Iterate over all points of time in the pf_16 DataFrame and estimate gamma_t with an OLS\n",
        "# regression. For each date, store the estimate in the 'gammas' DataFrame, e.g. like this:\n",
        "# gammas.loc[0, 'gamma'] = ...\n",
        "# gammas.loc[1, 'gamma'] = ... etc.\n",
        "#\n",
        "# Note: Unlike with the CAPM, do NOT add a constant to the regression when you estimate gamma.\n",
        "# Hint: Again, use a for loop to iterate over the time points of the pf_16 DataFrame.\n",
        "# Hint: Make sure to regress the excess return of a portfolio on the beta of the SAME portfolio.\n",
        "#\n",
        "gammas = pd.DataFrame(columns = ['date', 'gamma'])\n",
        "gammas['date'] = pf_16['date'].copy()\n",
        "\n",
        "beta_t = pd.DataFrame()\n",
        "#for i in range(len(pf_16)):\n",
        "pf = pf_16.drop(columns='date')\n",
        "for i in range(len(pf_16)):\n",
        "  r_t = pd.DataFrame()\n",
        "  r_t = pf.iloc[i,0:16]- factors.iloc[i,2]\n",
        "  result = sm.OLS(r_t, betas).fit()\n",
        "  gammas.iloc[i,1] = result.params[0]\n",
        "print(gammas.head())\n",
        "gammas.loc[167,'gamma']\n",
        "avg_gamma = gammas['gamma'].mean()"
      ],
      "execution_count": 15,
      "outputs": [
        {
          "output_type": "stream",
          "text": [
            "        date     gamma\n",
            "0 1962-07-01  -5.72945\n",
            "1 1962-08-01  0.204627\n",
            "2 1962-09-01  -5.80496\n",
            "3 1962-10-01  -5.99694\n",
            "4 1962-11-01   22.1963\n"
          ],
          "name": "stdout"
        }
      ]
    },
    {
      "cell_type": "code",
      "metadata": {
        "id": "uRLRG-nBIYqe",
        "colab_type": "code",
        "outputId": "5ab286ba-20f0-43ae-8533-5d91b77b11b3",
        "colab": {
          "base_uri": "https://localhost:8080/",
          "height": 685
        }
      },
      "source": [
        "# Plot the securities market line\n",
        "plt.scatter(betas['beta'], np.mean(pf_16[portfolios], axis = 0), label = 'Mean portfolio return')\n",
        "plt.scatter([0], [np.mean(factors['rf'])], label = 'Riskfree investment')\n",
        "x = np.linspace(0, betas['beta'].max(), 10)\n",
        "y = np.mean(factors['rf']) + avg_gamma * x\n",
        "plt.plot(x, y, label = 'Securities Market Line')\n",
        "plt.legend()\n",
        "plt.xlabel(\"Portfolio Beta\")\n",
        "plt.ylabel(\"Expected Portfolio Return\")\n",
        "plt.show()\n",
        "\n",
        "# Plot the time series of the market price of risk\n",
        "plt.plot(gammas['date'], gammas['gamma'])\n",
        "plt.title(\"Market Price of Risk\")\n",
        "plt.xlabel(\"Date\")\n",
        "plt.show()\n"
      ],
      "execution_count": 16,
      "outputs": [
        {
          "output_type": "display_data",
          "data": {
            "image/png": "[encoded data removed]",
            "text/plain": [
              "<Figure size 432x288 with 1 Axes>"
            ]
          },
          "metadata": {
            "tags": []
          }
        },
        {
          "output_type": "stream",
          "text": [
            "/usr/local/lib/python3.6/dist-packages/pandas/plotting/_matplotlib/converter.py:103: FutureWarning: Using an implicitly registered datetime converter for a matplotlib plotting method. The converter was registered by pandas on import. Future versions of pandas will require you to explicitly register matplotlib converters.\n",
            "\n",
            "To register the converters:\n",
            "\t>>> from pandas.plotting import register_matplotlib_converters\n",
            "\t>>> register_matplotlib_converters()\n",
            "  warnings.warn(msg, FutureWarning)\n"
          ],
          "name": "stderr"
        },
        {
          "output_type": "display_data",
          "data": {
            "image/png": "[encoded data removed]",
            "text/plain": [
              "<Figure size 432x288 with 1 Axes>"
            ]
          },
          "metadata": {
            "tags": []
          }
        }
      ]
    },
    {
      "cell_type": "code",
      "metadata": {
        "id": "9OxXSKOWdXMw",
        "colab_type": "code",
        "colab": {
          "base_uri": "https://localhost:8080/",
          "height": 989
        },
        "outputId": "c581afa5-2751-4c00-c340-1205b7c90d1c"
      },
      "source": [
        "# Task 4: Fama-French 3 Factor Model\n",
        "# ----------------------------------\n",
        "\n",
        "# Estimate the Fama-French 3 Factor Model for portfolios '11' and '44'\n",
        "#\n",
        "\n",
        "# First, calculate market excess return (depending on what you did in between, you have this variable\n",
        "# already from above). To be sure, we recalculate it here. Again, add a column 'const' that is filled\n",
        "# with 1.\n",
        "# Note: X should be a DataFrame. X.columns should be ['rm_excess', 'const']\n",
        "#\n",
        "X = pd.DataFrame()\n",
        "X['rm_excess'] = factors['rm'] - factors['rf']\n",
        "X['const'] = np.ones(len(factors['rm']))\n",
        "X.head()\n",
        "\n",
        "\n",
        "# Now, add the two other factors to X (columns 'SMB' and 'HML' in X and factors). You do not need to subtract the\n",
        "# riskfree rate from these factors. Make sure the order of the columns in X is\n",
        "# X.columns = ['const', 'rm_excess', 'SMB', 'HML']\n",
        "# Q: Why do we not need to subtract the riskfree rate?\n",
        "X['SMB'] = factors['SMB']\n",
        "X['HML'] = factors['HML']\n",
        "X.head()\n",
        "\n",
        "\n",
        "# Calculate excess returns for the '11' portfolio. Again, you already did that above, but depending\n",
        "# on what happened in between, maybe Y is something different now. Recalculate it here.\n",
        "# Note: Y should be a DataFrame. Y.columns should be ['11_excess']\n",
        "#\n",
        "Y = pd.DataFrame()\n",
        "Y['11_excess'] = pf_16['11'] - factors['rf']\n",
        "Y.head()\n",
        "\n",
        "\n",
        "# Now, estimate the FF3 model. Again, use OLS with the additional 'SMB' and 'HML' columns now.\n",
        "#\n",
        "model_11   = sm.OLS(Y,X)\n",
        "results_11 = model_11.fit()\n",
        "\n",
        "# Inspect the OLS estimates by calling the 'summary' function of the OLS result object.\n",
        "#\n",
        "print(results_11.summary())\n",
        "\n",
        "# Repeat the exercise above for the '44' portfolio and inspect the Fama-French OLS estimates\n",
        "# of the '44' portfolio.\n",
        "#\n",
        "Y = pd.DataFrame()\n",
        "Y['44_excess'] = pf_16['44'] - factors['rf']\n",
        "model_44   = sm.OLS(Y, X)\n",
        "results_44 = model_44.fit()\n",
        "print(results_44.summary())\n"
      ],
      "execution_count": 20,
      "outputs": [
        {
          "output_type": "stream",
          "text": [
            "                            OLS Regression Results                            \n",
            "==============================================================================\n",
            "Dep. Variable:              11_excess   R-squared:                       0.481\n",
            "Model:                            OLS   Adj. R-squared:                  0.478\n",
            "Method:                 Least Squares   F-statistic:                     189.5\n",
            "Date:                Sun, 24 Nov 2019   Prob (F-statistic):           5.55e-87\n",
            "Time:                        13:01:06   Log-Likelihood:                -1350.6\n",
            "No. Observations:                 618   AIC:                             2709.\n",
            "Df Residuals:                     614   BIC:                             2727.\n",
            "Df Model:                           3                                         \n",
            "Covariance Type:            nonrobust                                         \n",
            "==============================================================================\n",
            "                 coef    std err          t      P>|t|      [0.025      0.975]\n",
            "------------------------------------------------------------------------------\n",
            "rm_excess      0.4787      0.020     23.631      0.000       0.439       0.518\n",
            "const          0.0771      0.089      0.871      0.384      -0.097       0.251\n",
            "SMB            0.4608      0.034     13.660      0.000       0.395       0.527\n",
            "HML           -0.0890      0.030     -2.947      0.003      -0.148      -0.030\n",
            "==============================================================================\n",
            "Omnibus:                      201.142   Durbin-Watson:                   1.987\n",
            "Prob(Omnibus):                  0.000   Jarque-Bera (JB):             1211.842\n",
            "Skew:                           1.308   Prob(JB):                    7.11e-264\n",
            "Kurtosis:                       9.342   Cond. No.                         5.57\n",
            "==============================================================================\n",
            "\n",
            "Warnings:\n",
            "[1] Standard Errors assume that the covariance matrix of the errors is correctly specified.\n",
            "                            OLS Regression Results                            \n",
            "==============================================================================\n",
            "Dep. Variable:              44_excess   R-squared:                       0.703\n",
            "Model:                            OLS   Adj. R-squared:                  0.701\n",
            "Method:                 Least Squares   F-statistic:                     484.0\n",
            "Date:                Sun, 24 Nov 2019   Prob (F-statistic):          2.73e-161\n",
            "Time:                        13:01:06   Log-Likelihood:                -1628.4\n",
            "No. Observations:                 618   AIC:                             3265.\n",
            "Df Residuals:                     614   BIC:                             3283.\n",
            "Df Model:                           3                                         \n",
            "Covariance Type:            nonrobust                                         \n",
            "==============================================================================\n",
            "                 coef    std err          t      P>|t|      [0.025      0.975]\n",
            "------------------------------------------------------------------------------\n",
            "rm_excess      1.1632      0.032     36.629      0.000       1.101       1.226\n",
            "const         -0.0382      0.139     -0.275      0.783      -0.311       0.234\n",
            "SMB            0.7926      0.053     14.988      0.000       0.689       0.896\n",
            "HML            0.4008      0.047      8.468      0.000       0.308       0.494\n",
            "==============================================================================\n",
            "Omnibus:                       34.481   Durbin-Watson:                   1.944\n",
            "Prob(Omnibus):                  0.000   Jarque-Bera (JB):               86.657\n",
            "Skew:                           0.256   Prob(JB):                     1.52e-19\n",
            "Kurtosis:                       4.762   Cond. No.                         5.57\n",
            "==============================================================================\n",
            "\n",
            "Warnings:\n",
            "[1] Standard Errors assume that the covariance matrix of the errors is correctly specified.\n"
          ],
          "name": "stdout"
        }
      ]
    },
    {
      "cell_type": "code",
      "metadata": {
        "id": "EocUj9jOgIyC",
        "colab_type": "code",
        "colab": {
          "base_uri": "https://localhost:8080/",
          "height": 53
        },
        "outputId": "0e718482-aa89-4cdc-d10b-a53f24eb509d"
      },
      "source": [
        "print(results_11.params[2])\n",
        "print(results_44.params[2])"
      ],
      "execution_count": 22,
      "outputs": [
        {
          "output_type": "stream",
          "text": [
            "0.4607765717207614\n",
            "0.7925560689603134\n"
          ],
          "name": "stdout"
        }
      ]
    }
  ]
}