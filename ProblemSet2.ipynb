{
  "nbformat": 4,
  "nbformat_minor": 0,
  "metadata": {
    "colab": {
      "name": "ProblemSet2.ipynb",
      "provenance": [],
      "collapsed_sections": [],
      "include_colab_link": true
    },
    "kernelspec": {
      "name": "python3",
      "display_name": "Python 3"
    }
  },
  "cells": [
    {
      "cell_type": "markdown",
      "metadata": {
        "id": "view-in-github",
        "colab_type": "text"
      },
      "source": [
        "<a href=\"https://colab.research.google.com/github/oliverwsd/finance/blob/master/ProblemSet2.ipynb\" target=\"_parent\"><img src=\"https://colab.research.google.com/assets/colab-badge.svg\" alt=\"Open In Colab\"/></a>"
      ]
    },
    {
      "cell_type": "code",
      "metadata": {
        "id": "pqC6j3ZGPJBl",
        "colab_type": "code",
        "outputId": "0d0a5f13-1e37-4144-d5df-e3c6f0f20097",
        "colab": {
          "base_uri": "https://localhost:8080/",
          "height": 252
        }
      },
      "source": [
        "import numpy as np\n",
        "import pandas as pd\n",
        "from io import StringIO\n",
        "import csv\n",
        " \n",
        "url = 'https://raw.githubusercontent.com/oliverwsd/finance/master/price_data.csv'\n",
        "prices = pd.read_csv(url,parse_dates= ['Date'])\n",
        "prices.head"
      ],
      "execution_count": 100,
      "outputs": [
        {
          "output_type": "execute_result",
          "data": {
            "text/plain": [
              "<bound method NDFrame.head of            Date  VBTIX       GE       WMT       IBM      SPX\n",
              "0    1999-12-31    NaN  49.5795   69.1250  107.8750  1469.25\n",
              "1    2000-01-03    NaN  48.0577   66.8750  115.6250  1455.22\n",
              "2    2000-01-04    NaN  46.1955   64.2500  112.0625  1399.42\n",
              "3    2000-01-05    NaN  45.9552   63.0000  116.0000  1402.11\n",
              "4    2000-01-06    NaN  46.6710   63.6875  115.0000  1403.45\n",
              "...         ...    ...      ...       ...       ...      ...\n",
              "5146 2019-09-23  84.25   9.3400  117.6200  142.0700  2991.78\n",
              "5147 2019-09-24  84.54   8.9700  118.4000  141.6800  2966.60\n",
              "5148 2019-09-25  84.14   9.1600  118.4700  143.1600  2984.87\n",
              "5149 2019-09-26  84.28   9.0200  118.3000  143.5500  2977.62\n",
              "5150 2019-09-27  84.37   9.0400  118.4500  143.2400  2961.79\n",
              "\n",
              "[5151 rows x 6 columns]>"
            ]
          },
          "metadata": {
            "tags": []
          },
          "execution_count": 100
        }
      ]
    },
    {
      "cell_type": "code",
      "metadata": {
        "id": "F-BRT2UfAbuA",
        "colab_type": "code",
        "colab": {}
      },
      "source": [
        "returns = prices.copy()\n",
        "returns.loc[:, ['VBTIX', 'GE', 'WMT', 'IBM', 'SPX']] = np.log(returns.loc[:, ['VBTIX', 'GE', 'WMT', 'IBM', 'SPX']]) - np.log(returns.loc[:, ['VBTIX', 'GE', 'WMT', 'IBM', 'SPX']].shift())\n",
        "\n",
        "avg_ret_annual = returns.loc[:, ['VBTIX', 'GE', 'WMT', 'IBM', 'SPX']].mean(axis = 0) * 252\n",
        "std_annual = returns.loc[:, ['VBTIX', 'GE', 'WMT', 'IBM', 'SPX']].std(axis = 0, ddof = 0) * (252**0.5)\n"
      ],
      "execution_count": 0,
      "outputs": []
    },
    {
      "cell_type": "code",
      "metadata": {
        "id": "W4BCD1G9A3fr",
        "colab_type": "code",
        "outputId": "aff80a62-62e0-440b-bd88-0ac5b1d7e78f",
        "colab": {
          "base_uri": "https://localhost:8080/",
          "height": 101
        }
      },
      "source": [
        "mu = np.matrix(avg_ret_annual).T\n",
        "mu.shape   # Hint: The shape should be (5, 1)\n",
        "mu"
      ],
      "execution_count": 102,
      "outputs": [
        {
          "output_type": "execute_result",
          "data": {
            "text/plain": [
              "matrix([[ 0.0088722 ],\n",
              "        [-0.08327833],\n",
              "        [ 0.02635355],\n",
              "        [ 0.0138746 ],\n",
              "        [ 0.0343034 ]])"
            ]
          },
          "metadata": {
            "tags": []
          },
          "execution_count": 102
        }
      ]
    },
    {
      "cell_type": "code",
      "metadata": {
        "id": "YcdF_NpQBvj7",
        "colab_type": "code",
        "outputId": "438f8548-51ce-4df4-8649-ba39ba478b1c",
        "colab": {
          "base_uri": "https://localhost:8080/",
          "height": 118
        }
      },
      "source": [
        "std_annual"
      ],
      "execution_count": 103,
      "outputs": [
        {
          "output_type": "execute_result",
          "data": {
            "text/plain": [
              "VBTIX    0.044440\n",
              "GE       0.307701\n",
              "WMT      0.232419\n",
              "IBM      0.253736\n",
              "SPX      0.186346\n",
              "dtype: float64"
            ]
          },
          "metadata": {
            "tags": []
          },
          "execution_count": 103
        }
      ]
    },
    {
      "cell_type": "code",
      "metadata": {
        "id": "h9uHgwM6BGF9",
        "colab_type": "code",
        "outputId": "696a2b36-0e31-4de1-c1dd-ab94d9bdc572",
        "colab": {
          "base_uri": "https://localhost:8080/",
          "height": 101
        }
      },
      "source": [
        "volatility_matrix = np.diag(std_annual)                  # This is the diagonal matrix of the volatilities\n",
        "# Cov = np.dot(volatility_matrix, correlation_matrix).dot(volatility_matrix)\n",
        "correlation_matrix = returns.loc[:, ['VBTIX', 'GE', 'WMT', 'IBM', 'SPX']].corr()\n",
        "Cov = volatility_matrix.dot(correlation_matrix).dot(volatility_matrix)\n",
        "Cov"
      ],
      "execution_count": 104,
      "outputs": [
        {
          "output_type": "execute_result",
          "data": {
            "text/plain": [
              "array([[ 0.00197493, -0.00255819, -0.00061512, -0.00176784, -0.00158015],\n",
              "       [-0.00255819,  0.09467987,  0.02562468,  0.03599922,  0.0401557 ],\n",
              "       [-0.00061512,  0.02562468,  0.05401881,  0.01900222,  0.02247555],\n",
              "       [-0.00176784,  0.03599922,  0.01900222,  0.06438204,  0.03045453],\n",
              "       [-0.00158015,  0.0401557 ,  0.02247555,  0.03045453,  0.03472484]])"
            ]
          },
          "metadata": {
            "tags": []
          },
          "execution_count": 104
        }
      ]
    },
    {
      "cell_type": "code",
      "metadata": {
        "id": "6u1yLxyFRJ4A",
        "colab_type": "code",
        "outputId": "f1e0a25b-c528-4f2c-bcc9-c6ffb2fd774f",
        "colab": {
          "base_uri": "https://localhost:8080/",
          "height": 34
        }
      },
      "source": [
        "# Task 2: Minimum Variance Portfolio\n",
        "# ---------------------------------------\n",
        "\n",
        "# Calculate the weights of the global minimum variance portfolio\n",
        "# Mathematically, the solution for these weights is\n",
        "#     w_mvp = (Cov^{-1} * e) / (transpose(e) * Cov^{-1} * e)\n",
        "# where e is a (5, 1) vector of ones.\n",
        "#\n",
        "# Hint: To get the inverse (transpose) of a matrix use the '.getI()' ('.getT()') functions\n",
        "#\n",
        "e = np.mat(np.ones([5,1]))\n",
        "transpose_e = e.getT()\n",
        "w_mvp     = (np.dot(np.linalg.inv(Cov),e))/ transpose_e.dot(np.linalg.inv(Cov)).dot(e)\n",
        "w_mvp\n",
        "\n",
        "# Hint: Check for yourself: Do the weights of the minimum variance portfolio add up to 1?\n",
        "\n",
        "# Calculate the expected mean of the minimum variance portfolio\n",
        "# The expected mean of a portfolio with weight w is transpose(w) * mu\n",
        "#\n",
        "mu_mvp    =  np.ndarray.item(w_mvp.getT().dot(mu))                  # Make sure this is a scalar (i.e. a single number, not a 1x1 matrix)\n",
        "mu_mvp\n"
      ],
      "execution_count": 105,
      "outputs": [
        {
          "output_type": "execute_result",
          "data": {
            "text/plain": [
              "0.009881458846596166"
            ]
          },
          "metadata": {
            "tags": []
          },
          "execution_count": 105
        }
      ]
    },
    {
      "cell_type": "code",
      "metadata": {
        "id": "AfZ8ic67kThX",
        "colab_type": "code",
        "outputId": "1fae26c5-4825-4625-9f46-06fc44dbcfc0",
        "colab": {
          "base_uri": "https://localhost:8080/",
          "height": 101
        }
      },
      "source": [
        "w_mvp"
      ],
      "execution_count": 106,
      "outputs": [
        {
          "output_type": "execute_result",
          "data": {
            "text/plain": [
              "matrix([[0.90877371],\n",
              "        [0.0082421 ],\n",
              "        [0.00565609],\n",
              "        [0.01452133],\n",
              "        [0.06280678]])"
            ]
          },
          "metadata": {
            "tags": []
          },
          "execution_count": 106
        }
      ]
    },
    {
      "cell_type": "code",
      "metadata": {
        "id": "clXiiwtDZTZ5",
        "colab_type": "code",
        "outputId": "7777d917-b071-471d-a960-e883f9b9dec5",
        "colab": {
          "base_uri": "https://localhost:8080/",
          "height": 34
        }
      },
      "source": [
        "import math \n",
        "sigma_mvp = math.sqrt(w_mvp.getT().dot(Cov).dot(w_mvp))   \n",
        "sigma_mvp        "
      ],
      "execution_count": 107,
      "outputs": [
        {
          "output_type": "execute_result",
          "data": {
            "text/plain": [
              "0.04056214692586004"
            ]
          },
          "metadata": {
            "tags": []
          },
          "execution_count": 107
        }
      ]
    },
    {
      "cell_type": "code",
      "metadata": {
        "id": "pEP6kboYnGO5",
        "colab_type": "code",
        "colab": {}
      },
      "source": [
        "#Task3: Efficient Frontier\n",
        "# w = g + h * mu_i\n",
        "X = (mu.getT().dot(np.linalg.inv(Cov)).dot(mu)).item()\n",
        "Y = (mu.getT().dot(np.linalg.inv(Cov)).dot(e)).item()\n",
        "Z = (e.getT().dot(np.linalg.inv(Cov)).dot(e)).item()\n",
        "D = np.dot(X, Z) - np.dot(Y, Y)\n",
        "\n",
        "g = (X * (np.linalg.inv(Cov)* e) - Y * (np.linalg.inv(Cov) * mu))/D \n",
        "h = (Z * (np.linalg.inv(Cov)).dot(mu) - Y * (np.linalg.inv(Cov)).dot(e))/D \n",
        "\n",
        "n = 400\n",
        "# define minimum and maximum return of your efficient frontier\n",
        "mu_min = 0\n",
        "mu_max = 0.2 \n",
        "incr = (mu_max - mu_min)/ (n-1)\n",
        "\n",
        "# calculate the efficient PF along the frontier by incrementing the return\n",
        "w_ef = np.zeros( (n, mu.shape[0]) )\n",
        "sigma_ef = np.zeros( (n,1) )\n",
        "mu_ef = np.zeros((n,1)) \n",
        "\n",
        "for i in range(n):\n",
        "  mu_i = mu_min + i * incr #correct\n",
        "  w_i = g + h * mu_i\n",
        "  w_ef[i,:] = w_i.T\n",
        "  mu_ef[i] = mu_i #correct\n",
        "  sigma_ef[i] = math.sqrt(w_i.getT().dot(Cov).dot(w_i))"
      ],
      "execution_count": 0,
      "outputs": []
    },
    {
      "cell_type": "code",
      "metadata": {
        "id": "RolUuB2LwySV",
        "colab_type": "code",
        "outputId": "1981ec10-994c-4601-f5e0-60f0e8a7465b",
        "colab": {
          "base_uri": "https://localhost:8080/",
          "height": 34
        }
      },
      "source": [
        "w_ef[0,1]"
      ],
      "execution_count": 114,
      "outputs": [
        {
          "output_type": "execute_result",
          "data": {
            "text/plain": [
              "0.08363617414758168"
            ]
          },
          "metadata": {
            "tags": []
          },
          "execution_count": 114
        }
      ]
    },
    {
      "cell_type": "code",
      "metadata": {
        "id": "WEW_BQGTztd5",
        "colab_type": "code",
        "outputId": "a6c91fc3-b705-48d9-b2b3-09700ce5a768",
        "colab": {
          "base_uri": "https://localhost:8080/",
          "height": 34
        }
      },
      "source": [
        "sigma_ef[50,0]"
      ],
      "execution_count": 115,
      "outputs": [
        {
          "output_type": "execute_result",
          "data": {
            "text/plain": [
              "0.04839179051443155"
            ]
          },
          "metadata": {
            "tags": []
          },
          "execution_count": 115
        }
      ]
    },
    {
      "cell_type": "code",
      "metadata": {
        "id": "0fq45fzR1T6t",
        "colab_type": "code",
        "colab": {}
      },
      "source": [
        "#Task4: Tangency PF\n",
        "#Tangency PF with the highest Sharp Ratio\n",
        "\n",
        "riskfree = 0.0\n",
        "sharp = (mu_ef - riskfree)/sigma_ef\n",
        "max_index = np.argmax(sharp)\n",
        "w_tp = w_ef[max_index,:]\n",
        "mu_tp = mu_ef[max_index,:].item()\n",
        "sigma_tp = sigma_ef[max_index,:].item()"
      ],
      "execution_count": 0,
      "outputs": []
    },
    {
      "cell_type": "code",
      "metadata": {
        "id": "gsBtikkN9LkW",
        "colab_type": "code",
        "colab": {
          "base_uri": "https://localhost:8080/",
          "height": 744
        },
        "outputId": "554843c2-394a-418a-e753-1fb277f08762"
      },
      "source": [
        "# Visualization - not graded\n",
        "# --------------------------\n",
        "import matplotlib.pyplot as plt\n",
        "\n",
        "\n",
        "# Print interesting statistics like weights, exp. returns and variance of the minimum variance and tangency portfolio\n",
        "#\n",
        "print()\n",
        "print('Unconstrained Markowitz Optimization')\n",
        "print('====================================')\n",
        "print()\n",
        "print('Minimum Variance Portfolio')\n",
        "print('--------------------------')\n",
        "print('Weights:         ', np.round(w_mvp.getT(), 2))\n",
        "print('Exp. Return:     ', np.round(mu_mvp, 2))\n",
        "print('Exp. Volatility: ', np.round(sigma_mvp, 2))\n",
        "print()\n",
        "print('Tangency Portfolio')\n",
        "print('------------------')\n",
        "print('Weights          : ', np.round(w_tp, 2))\n",
        "print('Exp. Return      : ', np.round(mu_tp, 2))\n",
        "print('Exp. Volatility  : ', np.round(sigma_tp, 2))\n",
        "print('Exp. Sharpe Ratio: ', np.round( (mu_tp - riskfree)/sigma_tp, 2 ) )\n",
        "print()\n",
        "\n",
        "\n",
        "# Plot the portfolios defining the efficient frontier\n",
        "#\n",
        "plt.figure(3, figsize = (12, 7))\n",
        "\n",
        "# Add a horizontal line at the 0 return\n",
        "plt.axhline(y = 0, linestyle = '--', color = 'gray')\n",
        "\n",
        "# Add the efficient frontier\n",
        "plt.plot(sigma_ef, mu_ef, color = 'blue', label = 'Efficient Frontier')\n",
        "\n",
        "# Add the capital market line\n",
        "sharpe_tp = ( (mu_tp - riskfree) / sigma_tp )\n",
        "cx = np.linspace(0.0, np.max(sigma_ef))\n",
        "plt.plot(cx, riskfree + sharpe_tp * cx, color = 'black', label = 'Capital Market Line')\n",
        "\n",
        "# Add the risk free rate\n",
        "plt.scatter([0], [riskfree], s = 15, color = 'black', label = 'Riskfree investment')\n",
        "\n",
        "# Add the tangency portfolio\n",
        "plt.scatter([sigma_tp], [mu_tp], s = 15, color = 'green', label = 'Tangency portfolio')\n",
        "\n",
        "# Add the mvp portfolio\n",
        "plt.scatter([sigma_mvp], [mu_mvp], s = 15, color = 'red', label = 'Minimum variance portfolio')\n",
        "\n",
        "# Add the single assets\n",
        "plt.scatter(std_annual.values, avg_ret_annual.values, s = 15, color = 'gray', label = 'Individual assets')\n",
        "\n",
        "# Describe the axis\n",
        "plt.xlabel('Exp. Volatility of PF')\n",
        "plt.ylabel('Exp. Return of PF')\n",
        "\n",
        "# Set x axis boundaries\n",
        "plt.xlim((0, 0.35))\n",
        "\n",
        "# Add a title\n",
        "plt.title('Markowitz Portfolio Allocation (unconstrained)', fontweight = 'bold')\n",
        "\n",
        "# Add a legend\n",
        "plt.legend()\n",
        "\n",
        "plt.show()\n"
      ],
      "execution_count": 118,
      "outputs": [
        {
          "output_type": "stream",
          "text": [
            "\n",
            "Unconstrained Markowitz Optimization\n",
            "====================================\n",
            "\n",
            "Minimum Variance Portfolio\n",
            "--------------------------\n",
            "Weights:          [[0.91 0.01 0.01 0.01 0.06]]\n",
            "Exp. Return:      0.01\n",
            "Exp. Volatility:  0.04\n",
            "\n",
            "Tangency Portfolio\n",
            "------------------\n",
            "Weights          :  [ 0.74 -0.41  0.01 -0.06  0.72]\n",
            "Exp. Return      :  0.07\n",
            "Exp. Volatility  :  0.1\n",
            "Exp. Sharpe Ratio:  0.62\n",
            "\n"
          ],
          "name": "stdout"
        },
        {
          "output_type": "display_data",
          "data": {
            "image/png": "[encoded data removed]",
            "text/plain": [
              "<Figure size 864x504 with 1 Axes>"
            ]
          },
          "metadata": {
            "tags": []
          }
        }
      ]
    }
  ]
}