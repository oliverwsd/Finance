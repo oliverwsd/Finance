{
 "cells": [
  {
   "cell_type": "code",
   "execution_count": 1,
   "metadata": {},
   "outputs": [
    {
     "data": {
      "text/html": [
       "<div>\n",
       "<style scoped>\n",
       "    .dataframe tbody tr th:only-of-type {\n",
       "        vertical-align: middle;\n",
       "    }\n",
       "\n",
       "    .dataframe tbody tr th {\n",
       "        vertical-align: top;\n",
       "    }\n",
       "\n",
       "    .dataframe thead th {\n",
       "        text-align: right;\n",
       "    }\n",
       "</style>\n",
       "<table border=\"1\" class=\"dataframe\">\n",
       "  <thead>\n",
       "    <tr style=\"text-align: right;\">\n",
       "      <th></th>\n",
       "      <th>Date</th>\n",
       "      <th>VBTIX</th>\n",
       "      <th>GE</th>\n",
       "      <th>WMT</th>\n",
       "      <th>IBM</th>\n",
       "      <th>SPX</th>\n",
       "    </tr>\n",
       "  </thead>\n",
       "  <tbody>\n",
       "    <tr>\n",
       "      <th>0</th>\n",
       "      <td>1999-12-31</td>\n",
       "      <td>NaN</td>\n",
       "      <td>49.5795</td>\n",
       "      <td>69.1250</td>\n",
       "      <td>107.8750</td>\n",
       "      <td>1469.25</td>\n",
       "    </tr>\n",
       "    <tr>\n",
       "      <th>1</th>\n",
       "      <td>2000-01-03</td>\n",
       "      <td>NaN</td>\n",
       "      <td>48.0577</td>\n",
       "      <td>66.8750</td>\n",
       "      <td>115.6250</td>\n",
       "      <td>1455.22</td>\n",
       "    </tr>\n",
       "    <tr>\n",
       "      <th>2</th>\n",
       "      <td>2000-01-04</td>\n",
       "      <td>NaN</td>\n",
       "      <td>46.1955</td>\n",
       "      <td>64.2500</td>\n",
       "      <td>112.0625</td>\n",
       "      <td>1399.42</td>\n",
       "    </tr>\n",
       "    <tr>\n",
       "      <th>3</th>\n",
       "      <td>2000-01-05</td>\n",
       "      <td>NaN</td>\n",
       "      <td>45.9552</td>\n",
       "      <td>63.0000</td>\n",
       "      <td>116.0000</td>\n",
       "      <td>1402.11</td>\n",
       "    </tr>\n",
       "    <tr>\n",
       "      <th>4</th>\n",
       "      <td>2000-01-06</td>\n",
       "      <td>NaN</td>\n",
       "      <td>46.6710</td>\n",
       "      <td>63.6875</td>\n",
       "      <td>115.0000</td>\n",
       "      <td>1403.45</td>\n",
       "    </tr>\n",
       "  </tbody>\n",
       "</table>\n",
       "</div>"
      ],
      "text/plain": [
       "         Date  VBTIX       GE      WMT       IBM      SPX\n",
       "0  1999-12-31    NaN  49.5795  69.1250  107.8750  1469.25\n",
       "1  2000-01-03    NaN  48.0577  66.8750  115.6250  1455.22\n",
       "2  2000-01-04    NaN  46.1955  64.2500  112.0625  1399.42\n",
       "3  2000-01-05    NaN  45.9552  63.0000  116.0000  1402.11\n",
       "4  2000-01-06    NaN  46.6710  63.6875  115.0000  1403.45"
      ]
     },
     "execution_count": 1,
     "metadata": {},
     "output_type": "execute_result"
    }
   ],
   "source": [
    "\n",
    "import numpy as np\n",
    "import pandas as pd\n",
    "import matplotlib.pyplot as plt\n",
    "\n",
    "\n",
    "status = ''\n",
    "\n",
    "prices = pd.read_csv('price_data.csv')\n",
    "prices.head()\n",
    "\n",
    "# Each column is labeled with the Ticker symbol of another asset. Here's the translation:\n",
    "#   VBTIX - Vanguard Total Bond Market Index Fund, a broad bond index ETF\n",
    "#   GE    - Stock of General Electric\n",
    "#   WMT   - Stock of Walmart\n",
    "#   IBM   - Stock of IBM\n",
    "#   SPX   - S&P 500 index, a broad US equity index\n",
    "\n",
    "\n"
   ]
  },
  {
   "cell_type": "code",
   "execution_count": 2,
   "metadata": {},
   "outputs": [
    {
     "data": {
      "text/html": [
       "<div>\n",
       "<style scoped>\n",
       "    .dataframe tbody tr th:only-of-type {\n",
       "        vertical-align: middle;\n",
       "    }\n",
       "\n",
       "    .dataframe tbody tr th {\n",
       "        vertical-align: top;\n",
       "    }\n",
       "\n",
       "    .dataframe thead th {\n",
       "        text-align: right;\n",
       "    }\n",
       "</style>\n",
       "<table border=\"1\" class=\"dataframe\">\n",
       "  <thead>\n",
       "    <tr style=\"text-align: right;\">\n",
       "      <th></th>\n",
       "      <th>Date</th>\n",
       "      <th>TBILL</th>\n",
       "    </tr>\n",
       "  </thead>\n",
       "  <tbody>\n",
       "    <tr>\n",
       "      <th>0</th>\n",
       "      <td>1999-12-31</td>\n",
       "      <td>5.17</td>\n",
       "    </tr>\n",
       "    <tr>\n",
       "      <th>1</th>\n",
       "      <td>2000-01-03</td>\n",
       "      <td>5.27</td>\n",
       "    </tr>\n",
       "    <tr>\n",
       "      <th>2</th>\n",
       "      <td>2000-01-04</td>\n",
       "      <td>5.27</td>\n",
       "    </tr>\n",
       "    <tr>\n",
       "      <th>3</th>\n",
       "      <td>2000-01-05</td>\n",
       "      <td>5.28</td>\n",
       "    </tr>\n",
       "    <tr>\n",
       "      <th>4</th>\n",
       "      <td>2000-01-06</td>\n",
       "      <td>5.25</td>\n",
       "    </tr>\n",
       "  </tbody>\n",
       "</table>\n",
       "</div>"
      ],
      "text/plain": [
       "         Date  TBILL\n",
       "0  1999-12-31   5.17\n",
       "1  2000-01-03   5.27\n",
       "2  2000-01-04   5.27\n",
       "3  2000-01-05   5.28\n",
       "4  2000-01-06   5.25"
      ]
     },
     "execution_count": 2,
     "metadata": {},
     "output_type": "execute_result"
    }
   ],
   "source": [
    "riskfree = pd.read_csv('tbill.csv')\n",
    "riskfree.head()\n",
    "\n"
   ]
  },
  {
   "cell_type": "code",
   "execution_count": 3,
   "metadata": {},
   "outputs": [
    {
     "data": {
      "text/html": [
       "<div>\n",
       "<style scoped>\n",
       "    .dataframe tbody tr th:only-of-type {\n",
       "        vertical-align: middle;\n",
       "    }\n",
       "\n",
       "    .dataframe tbody tr th {\n",
       "        vertical-align: top;\n",
       "    }\n",
       "\n",
       "    .dataframe thead th {\n",
       "        text-align: right;\n",
       "    }\n",
       "</style>\n",
       "<table border=\"1\" class=\"dataframe\">\n",
       "  <thead>\n",
       "    <tr style=\"text-align: right;\">\n",
       "      <th></th>\n",
       "      <th>Date</th>\n",
       "      <th>VBTIX</th>\n",
       "      <th>GE</th>\n",
       "      <th>WMT</th>\n",
       "      <th>IBM</th>\n",
       "      <th>SPX</th>\n",
       "      <th>TBILL</th>\n",
       "    </tr>\n",
       "  </thead>\n",
       "  <tbody>\n",
       "    <tr>\n",
       "      <th>0</th>\n",
       "      <td>1999-12-31</td>\n",
       "      <td>NaN</td>\n",
       "      <td>49.5795</td>\n",
       "      <td>69.1250</td>\n",
       "      <td>107.8750</td>\n",
       "      <td>1469.25</td>\n",
       "      <td>5.17</td>\n",
       "    </tr>\n",
       "    <tr>\n",
       "      <th>1</th>\n",
       "      <td>2000-01-03</td>\n",
       "      <td>NaN</td>\n",
       "      <td>48.0577</td>\n",
       "      <td>66.8750</td>\n",
       "      <td>115.6250</td>\n",
       "      <td>1455.22</td>\n",
       "      <td>5.27</td>\n",
       "    </tr>\n",
       "    <tr>\n",
       "      <th>2</th>\n",
       "      <td>2000-01-04</td>\n",
       "      <td>NaN</td>\n",
       "      <td>46.1955</td>\n",
       "      <td>64.2500</td>\n",
       "      <td>112.0625</td>\n",
       "      <td>1399.42</td>\n",
       "      <td>5.27</td>\n",
       "    </tr>\n",
       "    <tr>\n",
       "      <th>3</th>\n",
       "      <td>2000-01-05</td>\n",
       "      <td>NaN</td>\n",
       "      <td>45.9552</td>\n",
       "      <td>63.0000</td>\n",
       "      <td>116.0000</td>\n",
       "      <td>1402.11</td>\n",
       "      <td>5.28</td>\n",
       "    </tr>\n",
       "    <tr>\n",
       "      <th>4</th>\n",
       "      <td>2000-01-06</td>\n",
       "      <td>NaN</td>\n",
       "      <td>46.6710</td>\n",
       "      <td>63.6875</td>\n",
       "      <td>115.0000</td>\n",
       "      <td>1403.45</td>\n",
       "      <td>5.25</td>\n",
       "    </tr>\n",
       "  </tbody>\n",
       "</table>\n",
       "</div>"
      ],
      "text/plain": [
       "         Date  VBTIX       GE      WMT       IBM      SPX  TBILL\n",
       "0  1999-12-31    NaN  49.5795  69.1250  107.8750  1469.25   5.17\n",
       "1  2000-01-03    NaN  48.0577  66.8750  115.6250  1455.22   5.27\n",
       "2  2000-01-04    NaN  46.1955  64.2500  112.0625  1399.42   5.27\n",
       "3  2000-01-05    NaN  45.9552  63.0000  116.0000  1402.11   5.28\n",
       "4  2000-01-06    NaN  46.6710  63.6875  115.0000  1403.45   5.25"
      ]
     },
     "execution_count": 3,
     "metadata": {},
     "output_type": "execute_result"
    }
   ],
   "source": [
    "# Merge the price and riskfree rate data into a single data set based on their date\n",
    "# Hint: Do the 'Date' columns of both DataFrames have the same data type? Check with the .info() function\n",
    "# of the DataFrames\n",
    "\n",
    "observations = pd.merge(prices,riskfree)\n",
    "observations.head()\n",
    "\n"
   ]
  },
  {
   "cell_type": "code",
   "execution_count": 4,
   "metadata": {},
   "outputs": [
    {
     "data": {
      "text/html": [
       "<div>\n",
       "<style scoped>\n",
       "    .dataframe tbody tr th:only-of-type {\n",
       "        vertical-align: middle;\n",
       "    }\n",
       "\n",
       "    .dataframe tbody tr th {\n",
       "        vertical-align: top;\n",
       "    }\n",
       "\n",
       "    .dataframe thead th {\n",
       "        text-align: right;\n",
       "    }\n",
       "</style>\n",
       "<table border=\"1\" class=\"dataframe\">\n",
       "  <thead>\n",
       "    <tr style=\"text-align: right;\">\n",
       "      <th></th>\n",
       "      <th>Date</th>\n",
       "      <th>VBTIX</th>\n",
       "      <th>GE</th>\n",
       "      <th>WMT</th>\n",
       "      <th>IBM</th>\n",
       "      <th>SPX</th>\n",
       "      <th>riskfree_rate</th>\n",
       "    </tr>\n",
       "  </thead>\n",
       "  <tbody>\n",
       "    <tr>\n",
       "      <th>0</th>\n",
       "      <td>1999-12-31</td>\n",
       "      <td>NaN</td>\n",
       "      <td>49.5795</td>\n",
       "      <td>69.1250</td>\n",
       "      <td>107.8750</td>\n",
       "      <td>1469.25</td>\n",
       "      <td>5.17</td>\n",
       "    </tr>\n",
       "    <tr>\n",
       "      <th>1</th>\n",
       "      <td>2000-01-03</td>\n",
       "      <td>NaN</td>\n",
       "      <td>48.0577</td>\n",
       "      <td>66.8750</td>\n",
       "      <td>115.6250</td>\n",
       "      <td>1455.22</td>\n",
       "      <td>5.27</td>\n",
       "    </tr>\n",
       "    <tr>\n",
       "      <th>2</th>\n",
       "      <td>2000-01-04</td>\n",
       "      <td>NaN</td>\n",
       "      <td>46.1955</td>\n",
       "      <td>64.2500</td>\n",
       "      <td>112.0625</td>\n",
       "      <td>1399.42</td>\n",
       "      <td>5.27</td>\n",
       "    </tr>\n",
       "    <tr>\n",
       "      <th>3</th>\n",
       "      <td>2000-01-05</td>\n",
       "      <td>NaN</td>\n",
       "      <td>45.9552</td>\n",
       "      <td>63.0000</td>\n",
       "      <td>116.0000</td>\n",
       "      <td>1402.11</td>\n",
       "      <td>5.28</td>\n",
       "    </tr>\n",
       "    <tr>\n",
       "      <th>4</th>\n",
       "      <td>2000-01-06</td>\n",
       "      <td>NaN</td>\n",
       "      <td>46.6710</td>\n",
       "      <td>63.6875</td>\n",
       "      <td>115.0000</td>\n",
       "      <td>1403.45</td>\n",
       "      <td>5.25</td>\n",
       "    </tr>\n",
       "  </tbody>\n",
       "</table>\n",
       "</div>"
      ],
      "text/plain": [
       "         Date  VBTIX       GE      WMT       IBM      SPX  riskfree_rate\n",
       "0  1999-12-31    NaN  49.5795  69.1250  107.8750  1469.25           5.17\n",
       "1  2000-01-03    NaN  48.0577  66.8750  115.6250  1455.22           5.27\n",
       "2  2000-01-04    NaN  46.1955  64.2500  112.0625  1399.42           5.27\n",
       "3  2000-01-05    NaN  45.9552  63.0000  116.0000  1402.11           5.28\n",
       "4  2000-01-06    NaN  46.6710  63.6875  115.0000  1403.45           5.25"
      ]
     },
     "execution_count": 4,
     "metadata": {},
     "output_type": "execute_result"
    }
   ],
   "source": [
    "# Rename the 'TBILL' column into 'riskfree_rate'\n",
    "\n",
    "observations = observations.rename(columns={'TBILL':'riskfree_rate'})\n",
    "observations.head()\n"
   ]
  },
  {
   "cell_type": "code",
   "execution_count": 11,
   "metadata": {},
   "outputs": [
    {
     "data": {
      "image/png": "[encoded data removed]",
      "text/plain": [
       "<Figure size 432x288 with 1 Axes>"
      ]
     },
     "metadata": {
      "needs_background": "light"
     },
     "output_type": "display_data"
    }
   ],
   "source": [
    "\n",
    "# Plot the evolution of the S&P 500 (= 'SPX') over time\n",
    "#\n",
    "plt.plot(observations['Date'],observations['SPX'])\n",
    "plt.show()\n",
    "\n",
    "\n",
    "# Check of intermediate result (1):\n",
    "#\n",
    "# HINT: Check for yourself: observations.loc[0, 'riskfree_rate'] should be 5.17\n"
   ]
  },
  {
   "cell_type": "code",
   "execution_count": 5,
   "metadata": {},
   "outputs": [
    {
     "data": {
      "text/plain": [
       "5.17"
      ]
     },
     "execution_count": 5,
     "metadata": {},
     "output_type": "execute_result"
    }
   ],
   "source": [
    "# HINT: Check for yourself: observations.loc[0, 'riskfree_rate'] should be 5.17\n",
    "observations.loc[0, 'riskfree_rate']"
   ]
  },
  {
   "cell_type": "code",
   "execution_count": 8,
   "metadata": {},
   "outputs": [],
   "source": [
    "#if status == 'SOLN':\n",
    "#    Test.assertEquals(str(np.round(observations.loc[5, 'riskfree_rate'],2))[0:4], str(checker_results.loc[1, 'result']), 'Check 1 failed')\n",
    "\n"
   ]
  },
  {
   "cell_type": "code",
   "execution_count": 6,
   "metadata": {},
   "outputs": [
    {
     "data": {
      "image/png": "[encoded data removed]",
      "text/plain": [
       "<Figure size 432x288 with 1 Axes>"
      ]
     },
     "metadata": {
      "needs_background": "light"
     },
     "output_type": "display_data"
    }
   ],
   "source": [
    "# Task 2: Asset Returns\n",
    "# --------------------------\n",
    "\n",
    "# Create a pandas DataFrame for returns. For the start, it'll only consist of the 'Date' column of the\n",
    "# observations DataFrame\n",
    "#\n",
    "returns = pd.DataFrame()\n",
    "returns['Date'] = observations['Date'].copy()\n",
    "returns.head()\n",
    "\n",
    "# Calculate log returns for all assets in the observations DataFrame, besides the 'riskfree_rate'.\n",
    "# Store the results in the returns DataFrame.\n",
    "# Hint: While it is not the only possible solution, the .shift() function of a pandas column might help you\n",
    "#\n",
    "returns['VBTIX'] = np.log(observations.VBTIX)-np.log(observations.VBTIX.shift())\n",
    "returns['SPX'] = np.log(observations.SPX)-np.log(observations.SPX.shift())\n",
    "returns['GE'] = np.log(observations.GE)-np.log(observations.GE.shift())\n",
    "returns['WMT'] = np.log(observations.WMT)-np.log(observations.WMT.shift())\n",
    "returns['IBM'] = np.log(observations.IBM)-np.log(observations.IBM.shift())\n",
    "\n",
    "# Plot the return time series\n",
    "# Q: Which charts look more similar to each other? Return Charts or Price Charts? Why?\n",
    "# Return Charts\n",
    "\n",
    "plt.plot(returns['Date'],observations['SPX'])\n",
    "plt.show()\n",
    "\n",
    "\n",
    "\n",
    "# Check of intermediate result (2):\n",
    "#\n",
    "# HINT: Check for yourself: returns.loc[1, 'GE'] should be -0.031175\n",
    "#if status == 'SOLN':\n",
    "#    Test.assertEquals(str(np.round(returns.loc[5, 'IBM'],4))[0:7], str(checker_results.loc[2, 'result']), 'Check 2 failed')\n",
    "\n"
   ]
  },
  {
   "cell_type": "code",
   "execution_count": 7,
   "metadata": {},
   "outputs": [
    {
     "data": {
      "text/html": [
       "<div>\n",
       "<style scoped>\n",
       "    .dataframe tbody tr th:only-of-type {\n",
       "        vertical-align: middle;\n",
       "    }\n",
       "\n",
       "    .dataframe tbody tr th {\n",
       "        vertical-align: top;\n",
       "    }\n",
       "\n",
       "    .dataframe thead th {\n",
       "        text-align: right;\n",
       "    }\n",
       "</style>\n",
       "<table border=\"1\" class=\"dataframe\">\n",
       "  <thead>\n",
       "    <tr style=\"text-align: right;\">\n",
       "      <th></th>\n",
       "      <th>mean</th>\n",
       "      <th>std</th>\n",
       "    </tr>\n",
       "  </thead>\n",
       "  <tbody>\n",
       "    <tr>\n",
       "      <th>VBTIX</th>\n",
       "      <td>3.52072e-05</td>\n",
       "      <td>0.00279947</td>\n",
       "    </tr>\n",
       "    <tr>\n",
       "      <th>GE</th>\n",
       "      <td>-0.00033047</td>\n",
       "      <td>0.0193833</td>\n",
       "    </tr>\n",
       "    <tr>\n",
       "      <th>WMT</th>\n",
       "      <td>0.000104578</td>\n",
       "      <td>0.0146411</td>\n",
       "    </tr>\n",
       "    <tr>\n",
       "      <th>IBM</th>\n",
       "      <td>5.50579e-05</td>\n",
       "      <td>0.0159839</td>\n",
       "    </tr>\n",
       "    <tr>\n",
       "      <th>SPX</th>\n",
       "      <td>0.000136125</td>\n",
       "      <td>0.0117387</td>\n",
       "    </tr>\n",
       "  </tbody>\n",
       "</table>\n",
       "</div>"
      ],
      "text/plain": [
       "              mean         std\n",
       "VBTIX  3.52072e-05  0.00279947\n",
       "GE     -0.00033047   0.0193833\n",
       "WMT    0.000104578   0.0146411\n",
       "IBM    5.50579e-05   0.0159839\n",
       "SPX    0.000136125   0.0117387"
      ]
     },
     "execution_count": 7,
     "metadata": {},
     "output_type": "execute_result"
    }
   ],
   "source": [
    "\n",
    "# Calculate the daily mean and standard deviation (= volatility) of the return series\n",
    "# Hint: We're looking for the population standard deviation\n",
    "#\n",
    "returns_stats_daily = pd.DataFrame(index = ['VBTIX', 'GE', 'WMT', 'IBM', 'SPX'], columns = ['mean', 'std'])\n",
    "returns_stats_daily.loc['VBTIX', 'mean'] = np.mean(returns.VBTIX)\n",
    "returns_stats_daily.loc['GE', 'mean'] = np.mean(returns.GE)\n",
    "returns_stats_daily.loc['WMT', 'mean'] = np.mean(returns.WMT)\n",
    "returns_stats_daily.loc['IBM', 'mean'] = np.mean(returns.IBM)\n",
    "returns_stats_daily.loc['SPX', 'mean'] = np.mean(returns.SPX)\n",
    "\n",
    "returns_stats_daily.loc['VBTIX', 'std'] = np.std(returns.VBTIX)\n",
    "returns_stats_daily.loc['GE', 'std'] = np.std(returns.GE)\n",
    "returns_stats_daily.loc['WMT', 'std'] = np.std(returns.WMT)\n",
    "returns_stats_daily.loc['IBM', 'std'] = np.std(returns.IBM)\n",
    "returns_stats_daily.loc['SPX', 'std'] = np.std(returns.SPX)\n",
    "returns_stats_daily\n",
    "\n",
    "# Check of intermediate result (3):\n",
    "#\n",
    "# HINT: Check for yourself: returns_stats_daily.loc['VBTIX', 'mean'] should be 0.0000352\n",
    "# HINT: Check for yourself: returns_stats_daily.loc['VBTIX', 'std'] should be 0.002799\n",
    "#if status == 'SOLN':\n",
    "#    Test.assertEquals(str(np.round(returns_stats_daily.loc['SPX', 'mean'],5))[0:8], str(checker_results.loc[3, 'result']), 'Check 3 failed')\n",
    "#    Test.assertEquals(str(np.round(returns_stats_daily.loc['SPX', 'std'],4))[0:7], str(checker_results.loc[4, 'result']), 'Check 4 failed')\n",
    "\n",
    "\n"
   ]
  },
  {
   "cell_type": "code",
   "execution_count": 8,
   "metadata": {},
   "outputs": [
    {
     "data": {
      "text/html": [
       "<div>\n",
       "<style scoped>\n",
       "    .dataframe tbody tr th:only-of-type {\n",
       "        vertical-align: middle;\n",
       "    }\n",
       "\n",
       "    .dataframe tbody tr th {\n",
       "        vertical-align: top;\n",
       "    }\n",
       "\n",
       "    .dataframe thead th {\n",
       "        text-align: right;\n",
       "    }\n",
       "</style>\n",
       "<table border=\"1\" class=\"dataframe\">\n",
       "  <thead>\n",
       "    <tr style=\"text-align: right;\">\n",
       "      <th></th>\n",
       "      <th>mean</th>\n",
       "      <th>std</th>\n",
       "    </tr>\n",
       "  </thead>\n",
       "  <tbody>\n",
       "    <tr>\n",
       "      <th>VBTIX</th>\n",
       "      <td>3.52072e-05</td>\n",
       "      <td>0.00279947</td>\n",
       "    </tr>\n",
       "    <tr>\n",
       "      <th>GE</th>\n",
       "      <td>-0.00033047</td>\n",
       "      <td>0.0193833</td>\n",
       "    </tr>\n",
       "    <tr>\n",
       "      <th>WMT</th>\n",
       "      <td>0.000104578</td>\n",
       "      <td>0.0146411</td>\n",
       "    </tr>\n",
       "    <tr>\n",
       "      <th>IBM</th>\n",
       "      <td>5.50579e-05</td>\n",
       "      <td>0.0159839</td>\n",
       "    </tr>\n",
       "    <tr>\n",
       "      <th>SPX</th>\n",
       "      <td>0.000136125</td>\n",
       "      <td>0.0117387</td>\n",
       "    </tr>\n",
       "  </tbody>\n",
       "</table>\n",
       "</div>"
      ],
      "text/plain": [
       "              mean         std\n",
       "VBTIX  3.52072e-05  0.00279947\n",
       "GE     -0.00033047   0.0193833\n",
       "WMT    0.000104578   0.0146411\n",
       "IBM    5.50579e-05   0.0159839\n",
       "SPX    0.000136125   0.0117387"
      ]
     },
     "execution_count": 8,
     "metadata": {},
     "output_type": "execute_result"
    }
   ],
   "source": [
    "returns_stats_daily\n"
   ]
  },
  {
   "cell_type": "code",
   "execution_count": 9,
   "metadata": {},
   "outputs": [
    {
     "name": "stdout",
     "output_type": "stream",
     "text": [
      "       VBTIX   SPX    GE\n",
      "VBTIX   1.00 -0.19 -0.19\n",
      "SPX    -0.19  1.00  0.70\n",
      "GE     -0.19  0.70  1.00\n"
     ]
    }
   ],
   "source": [
    "# Annualize the previously calculated mean and standard deviation\n",
    "# Hint: There are 252 trading days in a year. The mean scales linearly, volatility scales with the square root\n",
    "#       of trading days.\n",
    "# Q: Why do we annualize?\n",
    "#\n",
    "returns_stats_annual = returns_stats_daily.copy()\n",
    "returns_stats_annual.loc[:, 'mean'] = returns_stats_annual.loc[:, 'mean'] * 252\n",
    "\n",
    "returns_stats_annual.loc[:, 'std'] = returns_stats_annual.loc[:, 'std'] * np.sqrt(252)\n",
    "\n",
    "returns_stats_annual\n",
    "# Q: What differences do you see in the mean log return and volatility?\n",
    "returns_stats_annual * 100\n",
    "\n",
    "\n",
    "# Check of intermediate result (4):\n",
    "#\n",
    "# HINT: Check for yourself: returns_stats_annual.loc['VBTIX', 'mean'] should be 0.008872\n",
    "# HINT: Check for yourself: returns_stats_annual.loc['VBTIX', 'std'] should be 0.04444\n",
    "#if status == 'SOLN':\n",
    "#    Test.assertEquals(str(np.round(returns_stats_annual.loc['SPX', 'mean'],3))[0:6], str(checker_results.loc[5, 'result']), 'Check 5 failed')\n",
    "#    Test.assertEquals(str(np.round(returns_stats_annual.loc['SPX', 'std'],3))[0:6], str(checker_results.loc[6, 'result']), 'Check 6 failed')\n",
    "\n",
    "\n",
    "# Calculate the correlation between 'VBTIX', 'SPX' and 'GE'\n",
    "#  Hint: Use the '.corr' function for data frames\n",
    "#\n",
    "returns_corr = returns[['VBTIX', 'SPX','GE']].corr()\n",
    "print(np.round(returns_corr, 2))\n",
    "# Q: What can you tell about the correlation between the bond and equity index? What about GE and the equity index?\n",
    "\n"
   ]
  },
  {
   "cell_type": "code",
   "execution_count": 10,
   "metadata": {},
   "outputs": [
    {
     "data": {
      "text/html": [
       "<div>\n",
       "<style scoped>\n",
       "    .dataframe tbody tr th:only-of-type {\n",
       "        vertical-align: middle;\n",
       "    }\n",
       "\n",
       "    .dataframe tbody tr th {\n",
       "        vertical-align: top;\n",
       "    }\n",
       "\n",
       "    .dataframe thead th {\n",
       "        text-align: right;\n",
       "    }\n",
       "</style>\n",
       "<table border=\"1\" class=\"dataframe\">\n",
       "  <thead>\n",
       "    <tr style=\"text-align: right;\">\n",
       "      <th></th>\n",
       "      <th>mean</th>\n",
       "      <th>std</th>\n",
       "    </tr>\n",
       "  </thead>\n",
       "  <tbody>\n",
       "    <tr>\n",
       "      <th>VBTIX</th>\n",
       "      <td>0.88722</td>\n",
       "      <td>4.44402</td>\n",
       "    </tr>\n",
       "    <tr>\n",
       "      <th>GE</th>\n",
       "      <td>-8.32783</td>\n",
       "      <td>30.7701</td>\n",
       "    </tr>\n",
       "    <tr>\n",
       "      <th>WMT</th>\n",
       "      <td>2.63535</td>\n",
       "      <td>23.2419</td>\n",
       "    </tr>\n",
       "    <tr>\n",
       "      <th>IBM</th>\n",
       "      <td>1.38746</td>\n",
       "      <td>25.3736</td>\n",
       "    </tr>\n",
       "    <tr>\n",
       "      <th>SPX</th>\n",
       "      <td>3.43034</td>\n",
       "      <td>18.6346</td>\n",
       "    </tr>\n",
       "  </tbody>\n",
       "</table>\n",
       "</div>"
      ],
      "text/plain": [
       "          mean      std\n",
       "VBTIX  0.88722  4.44402\n",
       "GE    -8.32783  30.7701\n",
       "WMT    2.63535  23.2419\n",
       "IBM    1.38746  25.3736\n",
       "SPX    3.43034  18.6346"
      ]
     },
     "execution_count": 10,
     "metadata": {},
     "output_type": "execute_result"
    }
   ],
   "source": [
    "returns_stats_annual * 100\n"
   ]
  },
  {
   "cell_type": "code",
   "execution_count": 13,
   "metadata": {},
   "outputs": [
    {
     "data": {
      "text/html": [
       "<div>\n",
       "<style scoped>\n",
       "    .dataframe tbody tr th:only-of-type {\n",
       "        vertical-align: middle;\n",
       "    }\n",
       "\n",
       "    .dataframe tbody tr th {\n",
       "        vertical-align: top;\n",
       "    }\n",
       "\n",
       "    .dataframe thead th {\n",
       "        text-align: right;\n",
       "    }\n",
       "</style>\n",
       "<table border=\"1\" class=\"dataframe\">\n",
       "  <thead>\n",
       "    <tr style=\"text-align: right;\">\n",
       "      <th></th>\n",
       "      <th>mean</th>\n",
       "      <th>std</th>\n",
       "    </tr>\n",
       "  </thead>\n",
       "  <tbody>\n",
       "    <tr>\n",
       "      <th>VBTIX</th>\n",
       "      <td>0.0088722</td>\n",
       "      <td>0.0444402</td>\n",
       "    </tr>\n",
       "    <tr>\n",
       "      <th>GE</th>\n",
       "      <td>-0.0832783</td>\n",
       "      <td>0.307701</td>\n",
       "    </tr>\n",
       "    <tr>\n",
       "      <th>WMT</th>\n",
       "      <td>0.0263535</td>\n",
       "      <td>0.232419</td>\n",
       "    </tr>\n",
       "    <tr>\n",
       "      <th>IBM</th>\n",
       "      <td>0.0138746</td>\n",
       "      <td>0.253736</td>\n",
       "    </tr>\n",
       "    <tr>\n",
       "      <th>SPX</th>\n",
       "      <td>0.0343034</td>\n",
       "      <td>0.186346</td>\n",
       "    </tr>\n",
       "  </tbody>\n",
       "</table>\n",
       "</div>"
      ],
      "text/plain": [
       "            mean        std\n",
       "VBTIX  0.0088722  0.0444402\n",
       "GE    -0.0832783   0.307701\n",
       "WMT    0.0263535   0.232419\n",
       "IBM    0.0138746   0.253736\n",
       "SPX    0.0343034   0.186346"
      ]
     },
     "execution_count": 13,
     "metadata": {},
     "output_type": "execute_result"
    }
   ],
   "source": [
    "returns_stats_annual"
   ]
  },
  {
   "cell_type": "code",
   "execution_count": 11,
   "metadata": {},
   "outputs": [
    {
     "data": {
      "text/plain": [
       "0.008872203720770326"
      ]
     },
     "execution_count": 11,
     "metadata": {},
     "output_type": "execute_result"
    }
   ],
   "source": [
    "returns_stats_annual.loc['VBTIX', 'mean'] "
   ]
  },
  {
   "cell_type": "code",
   "execution_count": 12,
   "metadata": {},
   "outputs": [
    {
     "data": {
      "text/plain": [
       "0.044440219104374845"
      ]
     },
     "execution_count": 12,
     "metadata": {},
     "output_type": "execute_result"
    }
   ],
   "source": [
    "returns_stats_annual.loc['VBTIX', 'std']"
   ]
  },
  {
   "cell_type": "code",
   "execution_count": null,
   "metadata": {},
   "outputs": [],
   "source": []
  },
  {
   "cell_type": "code",
   "execution_count": null,
   "metadata": {},
   "outputs": [],
   "source": []
  }
 ],
 "metadata": {
  "kernelspec": {
   "display_name": "Python 3",
   "language": "python",
   "name": "python3"
  },
  "language_info": {
   "codemirror_mode": {
    "name": "ipython",
    "version": 3
   },
   "file_extension": ".py",
   "mimetype": "text/x-python",
   "name": "python",
   "nbconvert_exporter": "python",
   "pygments_lexer": "ipython3",
   "version": "3.7.3"
  }
 },
 "nbformat": 4,
 "nbformat_minor": 2
}
